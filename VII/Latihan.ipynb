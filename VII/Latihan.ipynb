{
 "cells": [
  {
   "cell_type": "markdown",
   "id": "350bf7a6",
   "metadata": {},
   "source": [
    "Asumsikan kamu merupakan Data Scientist departemen sumber daya manusia atau Human Resource Department (HRD) dari perusahaan yang bergerak di bidang marketplace bernama TokoLapak. Perusahaan ini memiliki karyawan yang tersebar di Jabodetabek (Jakarta, Kota Bogor, Kabupaten Bogor, Kota Depok, Kota Tangerang, Kota Tangerang Selatan, Kabupaten Tangerang, Kota Bekasi, dan Kabupaten Bekasi), dan setiap karyawan diwajibkan menginstall aplikasi TokoLapak, sehingga kamu memiliki sampel data dimana karyawan berada setiap harinya."
   ]
  },
  {
   "cell_type": "code",
   "execution_count": 10,
   "id": "junior-block",
   "metadata": {
    "execution": {
     "iopub.execute_input": "2021-04-30T05:58:51.899929Z",
     "iopub.status.busy": "2021-04-30T05:58:51.899204Z",
     "iopub.status.idle": "2021-04-30T05:58:52.675369Z",
     "shell.execute_reply": "2021-04-30T05:58:52.674745Z"
    },
    "papermill": {
     "duration": 0.820138,
     "end_time": "2021-04-30T05:58:52.675531",
     "exception": false,
     "start_time": "2021-04-30T05:58:51.855393",
     "status": "completed"
    },
    "tags": []
   },
   "outputs": [],
   "source": [
    "import pandas as pd\n",
    "import seaborn as sns"
   ]
  },
  {
   "cell_type": "code",
   "execution_count": 11,
   "id": "sharp-chorus",
   "metadata": {
    "execution": {
     "iopub.execute_input": "2021-04-30T05:58:52.747523Z",
     "iopub.status.busy": "2021-04-30T05:58:52.746953Z",
     "iopub.status.idle": "2021-04-30T05:58:52.791850Z",
     "shell.execute_reply": "2021-04-30T05:58:52.791228Z"
    },
    "papermill": {
     "duration": 0.082946,
     "end_time": "2021-04-30T05:58:52.791986",
     "exception": false,
     "start_time": "2021-04-30T05:58:52.709040",
     "status": "completed"
    },
    "tags": []
   },
   "outputs": [
    {
     "data": {
      "text/html": [
       "<div>\n",
       "<style scoped>\n",
       "    .dataframe tbody tr th:only-of-type {\n",
       "        vertical-align: middle;\n",
       "    }\n",
       "\n",
       "    .dataframe tbody tr th {\n",
       "        vertical-align: top;\n",
       "    }\n",
       "\n",
       "    .dataframe thead th {\n",
       "        text-align: right;\n",
       "    }\n",
       "</style>\n",
       "<table border=\"1\" class=\"dataframe\">\n",
       "  <thead>\n",
       "    <tr style=\"text-align: right;\">\n",
       "      <th></th>\n",
       "      <th>id</th>\n",
       "      <th>tanggal</th>\n",
       "      <th>lokasi_dominan</th>\n",
       "    </tr>\n",
       "  </thead>\n",
       "  <tbody>\n",
       "    <tr>\n",
       "      <th>0</th>\n",
       "      <td>1</td>\n",
       "      <td>21/05/19</td>\n",
       "      <td>Jakarta Pusat</td>\n",
       "    </tr>\n",
       "    <tr>\n",
       "      <th>1</th>\n",
       "      <td>2</td>\n",
       "      <td>21/05/19</td>\n",
       "      <td>Kabupaten Bogor</td>\n",
       "    </tr>\n",
       "    <tr>\n",
       "      <th>2</th>\n",
       "      <td>3</td>\n",
       "      <td>21/05/19</td>\n",
       "      <td>Jakarta Pusat</td>\n",
       "    </tr>\n",
       "    <tr>\n",
       "      <th>3</th>\n",
       "      <td>4</td>\n",
       "      <td>21/05/19</td>\n",
       "      <td>Kota Tangerang</td>\n",
       "    </tr>\n",
       "    <tr>\n",
       "      <th>4</th>\n",
       "      <td>5</td>\n",
       "      <td>21/05/19</td>\n",
       "      <td>Kota Bogor</td>\n",
       "    </tr>\n",
       "    <tr>\n",
       "      <th>...</th>\n",
       "      <td>...</td>\n",
       "      <td>...</td>\n",
       "      <td>...</td>\n",
       "    </tr>\n",
       "    <tr>\n",
       "      <th>2595</th>\n",
       "      <td>96</td>\n",
       "      <td>15/06/19</td>\n",
       "      <td>Kota Bogor</td>\n",
       "    </tr>\n",
       "    <tr>\n",
       "      <th>2596</th>\n",
       "      <td>97</td>\n",
       "      <td>15/06/19</td>\n",
       "      <td>Kota Tangerang Selatan</td>\n",
       "    </tr>\n",
       "    <tr>\n",
       "      <th>2597</th>\n",
       "      <td>98</td>\n",
       "      <td>15/06/19</td>\n",
       "      <td>Jakarta Timur</td>\n",
       "    </tr>\n",
       "    <tr>\n",
       "      <th>2598</th>\n",
       "      <td>99</td>\n",
       "      <td>15/06/19</td>\n",
       "      <td>Jakarta Timur</td>\n",
       "    </tr>\n",
       "    <tr>\n",
       "      <th>2599</th>\n",
       "      <td>100</td>\n",
       "      <td>15/06/19</td>\n",
       "      <td>Jakarta Timur</td>\n",
       "    </tr>\n",
       "  </tbody>\n",
       "</table>\n",
       "<p>2600 rows × 3 columns</p>\n",
       "</div>"
      ],
      "text/plain": [
       "       id   tanggal          lokasi_dominan\n",
       "0       1  21/05/19           Jakarta Pusat\n",
       "1       2  21/05/19         Kabupaten Bogor\n",
       "2       3  21/05/19           Jakarta Pusat\n",
       "3       4  21/05/19          Kota Tangerang\n",
       "4       5  21/05/19              Kota Bogor\n",
       "...   ...       ...                     ...\n",
       "2595   96  15/06/19              Kota Bogor\n",
       "2596   97  15/06/19  Kota Tangerang Selatan\n",
       "2597   98  15/06/19           Jakarta Timur\n",
       "2598   99  15/06/19           Jakarta Timur\n",
       "2599  100  15/06/19           Jakarta Timur\n",
       "\n",
       "[2600 rows x 3 columns]"
      ]
     },
     "execution_count": 11,
     "metadata": {},
     "output_type": "execute_result"
    }
   ],
   "source": [
    "catlok = pd.read_csv(\"./dataset/catatan_lokasi.csv\")\n",
    "catlok"
   ]
  },
  {
   "cell_type": "code",
   "execution_count": 12,
   "id": "binding-sponsorship",
   "metadata": {
    "execution": {
     "iopub.execute_input": "2021-04-30T05:58:52.863513Z",
     "iopub.status.busy": "2021-04-30T05:58:52.862938Z",
     "iopub.status.idle": "2021-04-30T05:58:52.890805Z",
     "shell.execute_reply": "2021-04-30T05:58:52.891285Z"
    },
    "papermill": {
     "duration": 0.065417,
     "end_time": "2021-04-30T05:58:52.891448",
     "exception": false,
     "start_time": "2021-04-30T05:58:52.826031",
     "status": "completed"
    },
    "tags": []
   },
   "outputs": [
    {
     "data": {
      "text/html": [
       "<div>\n",
       "<style scoped>\n",
       "    .dataframe tbody tr th:only-of-type {\n",
       "        vertical-align: middle;\n",
       "    }\n",
       "\n",
       "    .dataframe tbody tr th {\n",
       "        vertical-align: top;\n",
       "    }\n",
       "\n",
       "    .dataframe thead th {\n",
       "        text-align: right;\n",
       "    }\n",
       "</style>\n",
       "<table border=\"1\" class=\"dataframe\">\n",
       "  <thead>\n",
       "    <tr style=\"text-align: right;\">\n",
       "      <th></th>\n",
       "      <th>jenis_kelamin</th>\n",
       "      <th>divisi</th>\n",
       "      <th>umur</th>\n",
       "    </tr>\n",
       "    <tr>\n",
       "      <th>id</th>\n",
       "      <th></th>\n",
       "      <th></th>\n",
       "      <th></th>\n",
       "    </tr>\n",
       "  </thead>\n",
       "  <tbody>\n",
       "    <tr>\n",
       "      <th>1</th>\n",
       "      <td>Laki-laki</td>\n",
       "      <td>Customer Service</td>\n",
       "      <td>34</td>\n",
       "    </tr>\n",
       "    <tr>\n",
       "      <th>2</th>\n",
       "      <td>Laki-laki</td>\n",
       "      <td>Data Engineer</td>\n",
       "      <td>26</td>\n",
       "    </tr>\n",
       "    <tr>\n",
       "      <th>3</th>\n",
       "      <td>Laki-laki</td>\n",
       "      <td>Software Engineer</td>\n",
       "      <td>28</td>\n",
       "    </tr>\n",
       "    <tr>\n",
       "      <th>4</th>\n",
       "      <td>Perempuan</td>\n",
       "      <td>Business Intelligence</td>\n",
       "      <td>21</td>\n",
       "    </tr>\n",
       "    <tr>\n",
       "      <th>5</th>\n",
       "      <td>Perempuan</td>\n",
       "      <td>Software Engineer</td>\n",
       "      <td>21</td>\n",
       "    </tr>\n",
       "    <tr>\n",
       "      <th>...</th>\n",
       "      <td>...</td>\n",
       "      <td>...</td>\n",
       "      <td>...</td>\n",
       "    </tr>\n",
       "    <tr>\n",
       "      <th>96</th>\n",
       "      <td>Perempuan</td>\n",
       "      <td>Customer Service</td>\n",
       "      <td>23</td>\n",
       "    </tr>\n",
       "    <tr>\n",
       "      <th>97</th>\n",
       "      <td>Laki-laki</td>\n",
       "      <td>Software Engineer</td>\n",
       "      <td>32</td>\n",
       "    </tr>\n",
       "    <tr>\n",
       "      <th>98</th>\n",
       "      <td>Perempuan</td>\n",
       "      <td>Business Intelligence</td>\n",
       "      <td>28</td>\n",
       "    </tr>\n",
       "    <tr>\n",
       "      <th>99</th>\n",
       "      <td>Perempuan</td>\n",
       "      <td>Software Engineer</td>\n",
       "      <td>25</td>\n",
       "    </tr>\n",
       "    <tr>\n",
       "      <th>100</th>\n",
       "      <td>Perempuan</td>\n",
       "      <td>Software Engineer</td>\n",
       "      <td>29</td>\n",
       "    </tr>\n",
       "  </tbody>\n",
       "</table>\n",
       "<p>100 rows × 3 columns</p>\n",
       "</div>"
      ],
      "text/plain": [
       "    jenis_kelamin                 divisi  umur\n",
       "id                                            \n",
       "1       Laki-laki       Customer Service    34\n",
       "2       Laki-laki          Data Engineer    26\n",
       "3       Laki-laki      Software Engineer    28\n",
       "4       Perempuan  Business Intelligence    21\n",
       "5       Perempuan      Software Engineer    21\n",
       "..            ...                    ...   ...\n",
       "96      Perempuan       Customer Service    23\n",
       "97      Laki-laki      Software Engineer    32\n",
       "98      Perempuan  Business Intelligence    28\n",
       "99      Perempuan      Software Engineer    25\n",
       "100     Perempuan      Software Engineer    29\n",
       "\n",
       "[100 rows x 3 columns]"
      ]
     },
     "execution_count": 12,
     "metadata": {},
     "output_type": "execute_result"
    }
   ],
   "source": [
    "profil = pd.read_csv(\"./dataset/data_profil.csv\", index_col=0)\n",
    "profil"
   ]
  },
  {
   "cell_type": "markdown",
   "id": "ranking-savage",
   "metadata": {
    "papermill": {
     "duration": 0.034071,
     "end_time": "2021-04-30T05:58:52.960740",
     "exception": false,
     "start_time": "2021-04-30T05:58:52.926669",
     "status": "completed"
    },
    "tags": []
   },
   "source": [
    "# 1. Dengan keadaan di mana salah satu divisi penting dari perusahaan Tokolapak ini karyawannya mudik semua, apakah jual beli toko online ini akan tetap berjalan?"
   ]
  },
  {
   "cell_type": "code",
   "execution_count": 44,
   "id": "mighty-government",
   "metadata": {
    "execution": {
     "iopub.execute_input": "2021-04-30T05:58:53.033578Z",
     "iopub.status.busy": "2021-04-30T05:58:53.032930Z",
     "iopub.status.idle": "2021-04-30T05:58:53.043672Z",
     "shell.execute_reply": "2021-04-30T05:58:53.044175Z"
    },
    "papermill": {
     "duration": 0.048699,
     "end_time": "2021-04-30T05:58:53.044344",
     "exception": false,
     "start_time": "2021-04-30T05:58:52.995645",
     "status": "completed"
    },
    "tags": []
   },
   "outputs": [],
   "source": [
    "divisi = profil.divisi.unique()\n",
    "kel_divisi = {}\n",
    "for div in divisi:\n",
    "    #print(div) # semua data dari kolom divisi etc : Customer Service\t, Software Engineer dll\n",
    "    kel_divisi[div] = set(profil[profil['divisi']==div].index.to_list())\n",
    "    #print(profil[profil['divisi'] == div]) # maksudnya print semua data group by divisi jadi nantinya data dikategorikan berdasar divisi"
   ]
  },
  {
   "cell_type": "code",
   "execution_count": 41,
   "id": "mighty-smell",
   "metadata": {
    "execution": {
     "iopub.execute_input": "2021-04-30T05:58:53.118524Z",
     "iopub.status.busy": "2021-04-30T05:58:53.117923Z",
     "iopub.status.idle": "2021-04-30T05:58:54.458009Z",
     "shell.execute_reply": "2021-04-30T05:58:54.458509Z"
    },
    "papermill": {
     "duration": 1.378227,
     "end_time": "2021-04-30T05:58:54.458713",
     "exception": false,
     "start_time": "2021-04-30T05:58:53.080486",
     "status": "completed"
    },
    "tags": []
   },
   "outputs": [],
   "source": [
    "jabodetabek = [\"jakarta\", \"bogor\", \"depok\", \"tangerang\", \"bekasi\"]\n",
    "catlok[\"mudik\"] = 1 # create kolom mudik dari df catlok dan nilainya 1\n",
    "for i in catlok.index:\n",
    "    #print(i) => print index 0 s/d terakhir\n",
    "    lokasi = catlok.iloc[i].lokasi_dominan\n",
    "    #print(catlok.iloc[i]) => keluarkan semua data dari catlok berdasarkan indexnya .lokasi_dominan => filter terhadap data lokasi_dominan saja\n",
    "    lokasi_perkata = lokasi.lower().split()\n",
    "    #print(lokasi.lower().split()) => membentuk array berdasar lokasi\n",
    "    for lk in lokasi_perkata:\n",
    "        if lk in jabodetabek:\n",
    "            #print(lk)\n",
    "            catlok[\"mudik\"].iloc[i] = 0\n",
    "            # print(catlok.iloc[3])\n",
    "            break"
   ]
  },
  {
   "cell_type": "code",
   "execution_count": 42,
   "id": "efficient-detail",
   "metadata": {
    "execution": {
     "iopub.execute_input": "2021-04-30T05:58:54.533194Z",
     "iopub.status.busy": "2021-04-30T05:58:54.532533Z",
     "iopub.status.idle": "2021-04-30T05:58:54.796694Z",
     "shell.execute_reply": "2021-04-30T05:58:54.797337Z"
    },
    "papermill": {
     "duration": 0.303517,
     "end_time": "2021-04-30T05:58:54.797594",
     "exception": false,
     "start_time": "2021-04-30T05:58:54.494077",
     "status": "completed"
    },
    "tags": []
   },
   "outputs": [
    {
     "name": "stdout",
     "output_type": "stream",
     "text": [
      "\n",
      "Tanggal 21/05/19\n",
      "Customer Service\n",
      "Data Engineer\n",
      "Software Engineer\n",
      "Business Intelligence\n",
      "Data Science\n",
      "Marketing\n",
      "\n",
      "Tanggal 22/05/19\n",
      "Customer Service\n",
      "Data Engineer\n",
      "Software Engineer\n",
      "Business Intelligence\n",
      "Data Science\n",
      "Marketing\n",
      "\n",
      "Tanggal 23/05/19\n",
      "Customer Service\n",
      "divisi Customer Service mudik semua\n",
      "Data Engineer\n",
      "Software Engineer\n",
      "divisi Software Engineer mudik semua\n",
      "Business Intelligence\n",
      "divisi Business Intelligence mudik semua\n",
      "Data Science\n",
      "Marketing\n",
      "\n",
      "Tanggal 24/05/19\n",
      "Customer Service\n",
      "divisi Customer Service mudik semua\n",
      "Data Engineer\n",
      "Software Engineer\n",
      "Business Intelligence\n",
      "Data Science\n",
      "divisi Data Science mudik semua\n",
      "Marketing\n",
      "\n",
      "Tanggal 25/05/19\n",
      "Customer Service\n",
      "Data Engineer\n",
      "Software Engineer\n",
      "Business Intelligence\n",
      "divisi Business Intelligence mudik semua\n",
      "Data Science\n",
      "divisi Data Science mudik semua\n",
      "Marketing\n",
      "\n",
      "Tanggal 26/05/19\n",
      "Customer Service\n",
      "divisi Customer Service mudik semua\n",
      "Data Engineer\n",
      "Software Engineer\n",
      "divisi Software Engineer mudik semua\n",
      "Business Intelligence\n",
      "Data Science\n",
      "divisi Data Science mudik semua\n",
      "Marketing\n",
      "\n",
      "Tanggal 27/05/19\n",
      "Customer Service\n",
      "divisi Customer Service mudik semua\n",
      "Data Engineer\n",
      "divisi Data Engineer mudik semua\n",
      "Software Engineer\n",
      "divisi Software Engineer mudik semua\n",
      "Business Intelligence\n",
      "Data Science\n",
      "divisi Data Science mudik semua\n",
      "Marketing\n",
      "\n",
      "Tanggal 28/05/19\n",
      "Customer Service\n",
      "divisi Customer Service mudik semua\n",
      "Data Engineer\n",
      "divisi Data Engineer mudik semua\n",
      "Software Engineer\n",
      "divisi Software Engineer mudik semua\n",
      "Business Intelligence\n",
      "divisi Business Intelligence mudik semua\n",
      "Data Science\n",
      "divisi Data Science mudik semua\n",
      "Marketing\n",
      "divisi Marketing mudik semua\n",
      "\n",
      "Tanggal 29/05/19\n",
      "Customer Service\n",
      "divisi Customer Service mudik semua\n",
      "Data Engineer\n",
      "divisi Data Engineer mudik semua\n",
      "Software Engineer\n",
      "divisi Software Engineer mudik semua\n",
      "Business Intelligence\n",
      "divisi Business Intelligence mudik semua\n",
      "Data Science\n",
      "divisi Data Science mudik semua\n",
      "Marketing\n",
      "divisi Marketing mudik semua\n",
      "\n",
      "Tanggal 30/05/19\n",
      "Customer Service\n",
      "divisi Customer Service mudik semua\n",
      "Data Engineer\n",
      "divisi Data Engineer mudik semua\n",
      "Software Engineer\n",
      "divisi Software Engineer mudik semua\n",
      "Business Intelligence\n",
      "divisi Business Intelligence mudik semua\n",
      "Data Science\n",
      "divisi Data Science mudik semua\n",
      "Marketing\n",
      "divisi Marketing mudik semua\n",
      "\n",
      "Tanggal 31/05/19\n",
      "Customer Service\n",
      "divisi Customer Service mudik semua\n",
      "Data Engineer\n",
      "divisi Data Engineer mudik semua\n",
      "Software Engineer\n",
      "divisi Software Engineer mudik semua\n",
      "Business Intelligence\n",
      "divisi Business Intelligence mudik semua\n",
      "Data Science\n",
      "divisi Data Science mudik semua\n",
      "Marketing\n",
      "divisi Marketing mudik semua\n",
      "\n",
      "Tanggal 01/06/19\n",
      "Customer Service\n",
      "divisi Customer Service mudik semua\n",
      "Data Engineer\n",
      "divisi Data Engineer mudik semua\n",
      "Software Engineer\n",
      "divisi Software Engineer mudik semua\n",
      "Business Intelligence\n",
      "divisi Business Intelligence mudik semua\n",
      "Data Science\n",
      "divisi Data Science mudik semua\n",
      "Marketing\n",
      "divisi Marketing mudik semua\n",
      "\n",
      "Tanggal 02/06/19\n",
      "Customer Service\n",
      "divisi Customer Service mudik semua\n",
      "Data Engineer\n",
      "divisi Data Engineer mudik semua\n",
      "Software Engineer\n",
      "divisi Software Engineer mudik semua\n",
      "Business Intelligence\n",
      "divisi Business Intelligence mudik semua\n",
      "Data Science\n",
      "divisi Data Science mudik semua\n",
      "Marketing\n",
      "divisi Marketing mudik semua\n",
      "\n",
      "Tanggal 03/06/19\n",
      "Customer Service\n",
      "divisi Customer Service mudik semua\n",
      "Data Engineer\n",
      "divisi Data Engineer mudik semua\n",
      "Software Engineer\n",
      "divisi Software Engineer mudik semua\n",
      "Business Intelligence\n",
      "divisi Business Intelligence mudik semua\n",
      "Data Science\n",
      "divisi Data Science mudik semua\n",
      "Marketing\n",
      "divisi Marketing mudik semua\n",
      "\n",
      "Tanggal 04/06/19\n",
      "Customer Service\n",
      "divisi Customer Service mudik semua\n",
      "Data Engineer\n",
      "divisi Data Engineer mudik semua\n",
      "Software Engineer\n",
      "divisi Software Engineer mudik semua\n",
      "Business Intelligence\n",
      "divisi Business Intelligence mudik semua\n",
      "Data Science\n",
      "divisi Data Science mudik semua\n",
      "Marketing\n",
      "divisi Marketing mudik semua\n",
      "\n",
      "Tanggal 05/06/19\n",
      "Customer Service\n",
      "divisi Customer Service mudik semua\n",
      "Data Engineer\n",
      "divisi Data Engineer mudik semua\n",
      "Software Engineer\n",
      "divisi Software Engineer mudik semua\n",
      "Business Intelligence\n",
      "divisi Business Intelligence mudik semua\n",
      "Data Science\n",
      "divisi Data Science mudik semua\n",
      "Marketing\n",
      "divisi Marketing mudik semua\n",
      "\n",
      "Tanggal 06/06/19\n",
      "Customer Service\n",
      "divisi Customer Service mudik semua\n",
      "Data Engineer\n",
      "divisi Data Engineer mudik semua\n",
      "Software Engineer\n",
      "divisi Software Engineer mudik semua\n",
      "Business Intelligence\n",
      "divisi Business Intelligence mudik semua\n",
      "Data Science\n",
      "divisi Data Science mudik semua\n",
      "Marketing\n",
      "divisi Marketing mudik semua\n",
      "\n",
      "Tanggal 07/06/19\n",
      "Customer Service\n",
      "divisi Customer Service mudik semua\n",
      "Data Engineer\n",
      "divisi Data Engineer mudik semua\n",
      "Software Engineer\n",
      "divisi Software Engineer mudik semua\n",
      "Business Intelligence\n",
      "divisi Business Intelligence mudik semua\n",
      "Data Science\n",
      "divisi Data Science mudik semua\n",
      "Marketing\n",
      "divisi Marketing mudik semua\n",
      "\n",
      "Tanggal 08/06/19\n",
      "Customer Service\n",
      "divisi Customer Service mudik semua\n",
      "Data Engineer\n",
      "divisi Data Engineer mudik semua\n",
      "Software Engineer\n",
      "divisi Software Engineer mudik semua\n",
      "Business Intelligence\n",
      "divisi Business Intelligence mudik semua\n",
      "Data Science\n",
      "divisi Data Science mudik semua\n",
      "Marketing\n",
      "divisi Marketing mudik semua\n",
      "\n",
      "Tanggal 09/06/19\n",
      "Customer Service\n",
      "divisi Customer Service mudik semua\n",
      "Data Engineer\n",
      "divisi Data Engineer mudik semua\n",
      "Software Engineer\n",
      "divisi Software Engineer mudik semua\n",
      "Business Intelligence\n",
      "divisi Business Intelligence mudik semua\n",
      "Data Science\n",
      "divisi Data Science mudik semua\n",
      "Marketing\n",
      "divisi Marketing mudik semua\n",
      "\n",
      "Tanggal 10/06/19\n",
      "Customer Service\n",
      "divisi Customer Service mudik semua\n",
      "Data Engineer\n",
      "divisi Data Engineer mudik semua\n",
      "Software Engineer\n",
      "divisi Software Engineer mudik semua\n",
      "Business Intelligence\n",
      "divisi Business Intelligence mudik semua\n",
      "Data Science\n",
      "divisi Data Science mudik semua\n",
      "Marketing\n",
      "divisi Marketing mudik semua\n",
      "\n",
      "Tanggal 11/06/19\n",
      "Customer Service\n",
      "Data Engineer\n",
      "Software Engineer\n",
      "Business Intelligence\n",
      "divisi Business Intelligence mudik semua\n",
      "Data Science\n",
      "divisi Data Science mudik semua\n",
      "Marketing\n",
      "\n",
      "Tanggal 12/06/19\n",
      "Customer Service\n",
      "divisi Customer Service mudik semua\n",
      "Data Engineer\n",
      "Software Engineer\n",
      "Business Intelligence\n",
      "Data Science\n",
      "divisi Data Science mudik semua\n",
      "Marketing\n",
      "\n",
      "Tanggal 13/06/19\n",
      "Customer Service\n",
      "divisi Customer Service mudik semua\n",
      "Data Engineer\n",
      "Software Engineer\n",
      "divisi Software Engineer mudik semua\n",
      "Business Intelligence\n",
      "divisi Business Intelligence mudik semua\n",
      "Data Science\n",
      "Marketing\n",
      "\n",
      "Tanggal 14/06/19\n",
      "Customer Service\n",
      "Data Engineer\n",
      "Software Engineer\n",
      "Business Intelligence\n",
      "Data Science\n",
      "Marketing\n",
      "\n",
      "Tanggal 15/06/19\n",
      "Customer Service\n",
      "Data Engineer\n",
      "Software Engineer\n",
      "Business Intelligence\n",
      "Data Science\n",
      "Marketing\n"
     ]
    }
   ],
   "source": [
    "tanggal_mudik = catlok.tanggal.unique()\n",
    "for tm in tanggal_mudik:\n",
    "    print(f\"\\nTanggal {tm}\")\n",
    "    for div in kel_divisi:\n",
    "        if kel_divisi[div].intersection(set(catlok[(catlok[\"mudik\"]==1) & (catlok[\"tanggal\"]==tm)].id.to_list())):\n",
    "            print(f\"divisi {div} mudik semua\")\n",
    "            continue"
   ]
  },
  {
   "cell_type": "markdown",
   "id": "specific-warning",
   "metadata": {
    "papermill": {
     "duration": 0.035111,
     "end_time": "2021-04-30T05:58:54.869352",
     "exception": false,
     "start_time": "2021-04-30T05:58:54.834241",
     "status": "completed"
    },
    "tags": []
   },
   "source": [
    "# 2. Berapakah umur termuda dari karyawan yang tergabung dalam divisi Data Science?"
   ]
  },
  {
   "cell_type": "code",
   "execution_count": 43,
   "id": "industrial-blend",
   "metadata": {
    "execution": {
     "iopub.execute_input": "2021-04-30T05:58:54.948530Z",
     "iopub.status.busy": "2021-04-30T05:58:54.947886Z",
     "iopub.status.idle": "2021-04-30T05:58:54.951659Z",
     "shell.execute_reply": "2021-04-30T05:58:54.950803Z"
    },
    "papermill": {
     "duration": 0.04648,
     "end_time": "2021-04-30T05:58:54.951831",
     "exception": false,
     "start_time": "2021-04-30T05:58:54.905351",
     "status": "completed"
    },
    "tags": []
   },
   "outputs": [
    {
     "name": "stdout",
     "output_type": "stream",
     "text": [
      "karyawan termuda di divisi Data Science berumur 21 tahun\n"
     ]
    }
   ],
   "source": [
    "profil_ds = profil[profil['divisi']=='Data Science']\n",
    "umur_ds = profil_ds.umur\n",
    "print(f\"karyawan termuda di divisi Data Science berumur {umur_ds.min()} tahun\")"
   ]
  },
  {
   "cell_type": "markdown",
   "id": "adaptive-translator",
   "metadata": {
    "papermill": {
     "duration": 0.036468,
     "end_time": "2021-04-30T05:58:55.026830",
     "exception": false,
     "start_time": "2021-04-30T05:58:54.990362",
     "status": "completed"
    },
    "tags": []
   },
   "source": [
    "# 3. Berapa jumlah karyawan yang kemungkinan besar menyempatkan untuk berwisata ke Keraton Yogyakarta, Pantai Parangtritis, atau wisata Kaliurang selama masa mudiknya? (Asumsi karyawan yang mudik ke DIY saja yang kemungkinan besar berwisata ke tempat-tempat tersebut.)"
   ]
  },
  {
   "cell_type": "code",
   "execution_count": 44,
   "id": "worldwide-updating",
   "metadata": {
    "execution": {
     "iopub.execute_input": "2021-04-30T05:58:55.137736Z",
     "iopub.status.busy": "2021-04-30T05:58:55.132616Z",
     "iopub.status.idle": "2021-04-30T05:58:55.484146Z",
     "shell.execute_reply": "2021-04-30T05:58:55.484602Z"
    },
    "papermill": {
     "duration": 0.419938,
     "end_time": "2021-04-30T05:58:55.484781",
     "exception": false,
     "start_time": "2021-04-30T05:58:55.064843",
     "status": "completed"
    },
    "tags": []
   },
   "outputs": [
    {
     "name": "stdout",
     "output_type": "stream",
     "text": [
      "14 orang berkemungkinan wisata ke Keraton Yogyakarta, Pantai Parangtritis, atau wisata Kaliurang\n"
     ]
    }
   ],
   "source": [
    "mudik_jogja = []\n",
    "for i in catlok.index:\n",
    "    lokasi = catlok.iloc[i][\"lokasi_dominan\"]\n",
    "    lokasi_perkata = lokasi.lower().split()\n",
    "    for lk in lokasi_perkata:\n",
    "        if lk in [\"yogyakarta\", 'jogjakarta']:\n",
    "            mudik_jogja.append(catlok.iloc[i][\"id\"])\n",
    "            break\n",
    "print(f\"{len(set(mudik_jogja))} orang berkemungkinan wisata ke Keraton Yogyakarta, Pantai Parangtritis, atau wisata Kaliurang\")"
   ]
  },
  {
   "cell_type": "markdown",
   "id": "respected-effects",
   "metadata": {
    "papermill": {
     "duration": 0.036138,
     "end_time": "2021-04-30T05:58:55.557148",
     "exception": false,
     "start_time": "2021-04-30T05:58:55.521010",
     "status": "completed"
    },
    "tags": []
   },
   "source": [
    "# 4. Karyawan dengan id berapakah yang memiliki kesempatan besar untuk menikmati wisata Pantai Karang Bolong Kebumen?"
   ]
  },
  {
   "cell_type": "code",
   "execution_count": 45,
   "id": "tutorial-shark",
   "metadata": {
    "execution": {
     "iopub.execute_input": "2021-04-30T05:58:55.700852Z",
     "iopub.status.busy": "2021-04-30T05:58:55.675090Z",
     "iopub.status.idle": "2021-04-30T05:58:55.993738Z",
     "shell.execute_reply": "2021-04-30T05:58:55.993057Z"
    },
    "papermill": {
     "duration": 0.399642,
     "end_time": "2021-04-30T05:58:55.993877",
     "exception": false,
     "start_time": "2021-04-30T05:58:55.594235",
     "status": "completed"
    },
    "tags": []
   },
   "outputs": [
    {
     "name": "stdout",
     "output_type": "stream",
     "text": [
      "2 orang berkesempatan menikmati wisata Pantai Karang Bolong Kebumen\n"
     ]
    }
   ],
   "source": [
    "mudik_kebumen = []\n",
    "for i in catlok.index:\n",
    "    lokasi = catlok.iloc[i][\"lokasi_dominan\"]\n",
    "    lokasi_perkata = lokasi.lower().split()\n",
    "    for lk in lokasi_perkata:\n",
    "        if lk==\"kebumen\":\n",
    "            mudik_kebumen.append(catlok.iloc[i][\"id\"])\n",
    "            break\n",
    "print(f\"{len(set(mudik_kebumen))} orang berkesempatan menikmati wisata Pantai Karang Bolong Kebumen\")"
   ]
  },
  {
   "cell_type": "markdown",
   "id": "complimentary-badge",
   "metadata": {
    "papermill": {
     "duration": 0.0381,
     "end_time": "2021-04-30T05:58:56.069247",
     "exception": false,
     "start_time": "2021-04-30T05:58:56.031147",
     "status": "completed"
    },
    "tags": []
   },
   "source": [
    "# 5. Berapa jumlah karyawan yang melakukan mudik pada tanggal 30 Mei 2019?"
   ]
  },
  {
   "cell_type": "code",
   "execution_count": 46,
   "id": "grave-blackberry",
   "metadata": {
    "execution": {
     "iopub.execute_input": "2021-04-30T05:58:56.152786Z",
     "iopub.status.busy": "2021-04-30T05:58:56.152143Z",
     "iopub.status.idle": "2021-04-30T05:58:56.155368Z",
     "shell.execute_reply": "2021-04-30T05:58:56.155840Z"
    },
    "papermill": {
     "duration": 0.048618,
     "end_time": "2021-04-30T05:58:56.156004",
     "exception": false,
     "start_time": "2021-04-30T05:58:56.107386",
     "status": "completed"
    },
    "tags": []
   },
   "outputs": [
    {
     "name": "stdout",
     "output_type": "stream",
     "text": [
      "34 karyawan mudik pada tanggal 30 mei 2019\n"
     ]
    }
   ],
   "source": [
    "jumlah_mudik_30mei = len(catlok[(catlok[\"mudik\"]==1) & (catlok[\"tanggal\"]==\"30/05/19\")])\n",
    "\n",
    "print(f\"{jumlah_mudik_30mei} karyawan mudik pada tanggal 30 mei 2019\")"
   ]
  },
  {
   "cell_type": "markdown",
   "id": "harmful-production",
   "metadata": {
    "papermill": {
     "duration": 0.037853,
     "end_time": "2021-04-30T05:58:56.231572",
     "exception": false,
     "start_time": "2021-04-30T05:58:56.193719",
     "status": "completed"
    },
    "tags": []
   },
   "source": [
    "# 6. Divisi apa yang karyawannya paling banyak melakukan mudik?"
   ]
  },
  {
   "cell_type": "code",
   "execution_count": 47,
   "id": "likely-contest",
   "metadata": {
    "execution": {
     "iopub.execute_input": "2021-04-30T05:58:56.527736Z",
     "iopub.status.busy": "2021-04-30T05:58:56.417986Z",
     "iopub.status.idle": "2021-04-30T05:58:56.534077Z",
     "shell.execute_reply": "2021-04-30T05:58:56.533007Z"
    },
    "papermill": {
     "duration": 0.264185,
     "end_time": "2021-04-30T05:58:56.534216",
     "exception": false,
     "start_time": "2021-04-30T05:58:56.270031",
     "status": "completed"
    },
    "tags": []
   },
   "outputs": [
    {
     "data": {
      "text/html": [
       "<div>\n",
       "<style scoped>\n",
       "    .dataframe tbody tr th:only-of-type {\n",
       "        vertical-align: middle;\n",
       "    }\n",
       "\n",
       "    .dataframe tbody tr th {\n",
       "        vertical-align: top;\n",
       "    }\n",
       "\n",
       "    .dataframe thead th {\n",
       "        text-align: right;\n",
       "    }\n",
       "</style>\n",
       "<table border=\"1\" class=\"dataframe\">\n",
       "  <thead>\n",
       "    <tr style=\"text-align: right;\">\n",
       "      <th></th>\n",
       "      <th>divisi</th>\n",
       "      <th>skor</th>\n",
       "    </tr>\n",
       "  </thead>\n",
       "  <tbody>\n",
       "    <tr>\n",
       "      <th>0</th>\n",
       "      <td>Customer Service</td>\n",
       "      <td>19</td>\n",
       "    </tr>\n",
       "    <tr>\n",
       "      <th>3</th>\n",
       "      <td>Data Science</td>\n",
       "      <td>19</td>\n",
       "    </tr>\n",
       "    <tr>\n",
       "      <th>1</th>\n",
       "      <td>Software Engineer</td>\n",
       "      <td>17</td>\n",
       "    </tr>\n",
       "    <tr>\n",
       "      <th>2</th>\n",
       "      <td>Business Intelligence</td>\n",
       "      <td>17</td>\n",
       "    </tr>\n",
       "    <tr>\n",
       "      <th>4</th>\n",
       "      <td>Data Engineer</td>\n",
       "      <td>14</td>\n",
       "    </tr>\n",
       "    <tr>\n",
       "      <th>5</th>\n",
       "      <td>Marketing</td>\n",
       "      <td>13</td>\n",
       "    </tr>\n",
       "  </tbody>\n",
       "</table>\n",
       "</div>"
      ],
      "text/plain": [
       "                  divisi  skor\n",
       "0       Customer Service    19\n",
       "3           Data Science    19\n",
       "1      Software Engineer    17\n",
       "2  Business Intelligence    17\n",
       "4          Data Engineer    14\n",
       "5              Marketing    13"
      ]
     },
     "execution_count": 47,
     "metadata": {},
     "output_type": "execute_result"
    }
   ],
   "source": [
    "tanggal_mudik = catlok.tanggal.unique()\n",
    "skor_mudik = {}\n",
    "for tm in tanggal_mudik:\n",
    "    for div in kel_divisi:\n",
    "        if kel_divisi[div].intersection(set(catlok[(catlok[\"mudik\"]==1) & (catlok[\"tanggal\"]==tm)].id.to_list())):\n",
    "            try:\n",
    "                skor_mudik[div] += 1\n",
    "            except:\n",
    "                skor_mudik[div] = 0\n",
    "            continue\n",
    "            \n",
    "df_skor_mudik = pd.DataFrame(list(skor_mudik.items()),columns = ['divisi','skor'])\n",
    "df_skor_mudik.sort_values(\"skor\",ascending=False)"
   ]
  },
  {
   "cell_type": "markdown",
   "id": "amber-designer",
   "metadata": {
    "papermill": {
     "duration": 0.038538,
     "end_time": "2021-04-30T05:58:56.611931",
     "exception": false,
     "start_time": "2021-04-30T05:58:56.573393",
     "status": "completed"
    },
    "tags": []
   },
   "source": [
    "# 7. Berapakah median umur dari keseluruhan karyawan Tokolapak?"
   ]
  },
  {
   "cell_type": "code",
   "execution_count": 48,
   "id": "acting-engineering",
   "metadata": {
    "execution": {
     "iopub.execute_input": "2021-04-30T05:58:56.694805Z",
     "iopub.status.busy": "2021-04-30T05:58:56.694186Z",
     "iopub.status.idle": "2021-04-30T05:58:56.700354Z",
     "shell.execute_reply": "2021-04-30T05:58:56.699740Z"
    },
    "papermill": {
     "duration": 0.04932,
     "end_time": "2021-04-30T05:58:56.700480",
     "exception": false,
     "start_time": "2021-04-30T05:58:56.651160",
     "status": "completed"
    },
    "tags": []
   },
   "outputs": [
    {
     "name": "stdout",
     "output_type": "stream",
     "text": [
      "median umur karyawan tokolapak adalah 27.0\n"
     ]
    }
   ],
   "source": [
    "print(f\"median umur karyawan tokolapak adalah {profil.umur.median()}\")"
   ]
  },
  {
   "cell_type": "markdown",
   "id": "wrapped-underwear",
   "metadata": {
    "papermill": {
     "duration": 0.03831,
     "end_time": "2021-04-30T05:58:56.778044",
     "exception": false,
     "start_time": "2021-04-30T05:58:56.739734",
     "status": "completed"
    },
    "tags": []
   },
   "source": [
    "# 8. Tanggal berapakah menjadi hari favorit karyawan Tokolapak pulang ke Jabodetabek?"
   ]
  },
  {
   "cell_type": "code",
   "execution_count": 49,
   "id": "comprehensive-sapphire",
   "metadata": {
    "execution": {
     "iopub.execute_input": "2021-04-30T05:58:56.863854Z",
     "iopub.status.busy": "2021-04-30T05:58:56.863133Z",
     "iopub.status.idle": "2021-04-30T05:58:56.875999Z",
     "shell.execute_reply": "2021-04-30T05:58:56.876475Z"
    },
    "papermill": {
     "duration": 0.06037,
     "end_time": "2021-04-30T05:58:56.876650",
     "exception": false,
     "start_time": "2021-04-30T05:58:56.816280",
     "status": "completed"
    },
    "tags": []
   },
   "outputs": [
    {
     "data": {
      "text/html": [
       "<div>\n",
       "<style scoped>\n",
       "    .dataframe tbody tr th:only-of-type {\n",
       "        vertical-align: middle;\n",
       "    }\n",
       "\n",
       "    .dataframe tbody tr th {\n",
       "        vertical-align: top;\n",
       "    }\n",
       "\n",
       "    .dataframe thead th {\n",
       "        text-align: right;\n",
       "    }\n",
       "</style>\n",
       "<table border=\"1\" class=\"dataframe\">\n",
       "  <thead>\n",
       "    <tr style=\"text-align: right;\">\n",
       "      <th></th>\n",
       "      <th>tanggal</th>\n",
       "      <th>selisih pemudik dengan hari kemarin</th>\n",
       "    </tr>\n",
       "  </thead>\n",
       "  <tbody>\n",
       "    <tr>\n",
       "      <th>8</th>\n",
       "      <td>09/06/19</td>\n",
       "      <td>49</td>\n",
       "    </tr>\n",
       "  </tbody>\n",
       "</table>\n",
       "</div>"
      ],
      "text/plain": [
       "    tanggal  selisih pemudik dengan hari kemarin\n",
       "8  09/06/19                                   49"
      ]
     },
     "execution_count": 49,
     "metadata": {},
     "output_type": "execute_result"
    }
   ],
   "source": [
    "jumlah_pemudik = catlok.groupby(\"tanggal\").sum()[\"mudik\"]\n",
    "pemudik_sblm = 0\n",
    "pemudik_pulang = {}\n",
    "for tgl in jumlah_pemudik.index:\n",
    "    pemudik_pulang[tgl] = pemudik_sblm-jumlah_pemudik[tgl]\n",
    "    pemudik_sblm = jumlah_pemudik[tgl]\n",
    "\n",
    "df_pemudik_pulang = pd.DataFrame(list(pemudik_pulang.items()), columns=[\"tanggal\", \"selisih pemudik dengan hari kemarin\"])\n",
    "df_pemudik_pulang.sort_values(\"selisih pemudik dengan hari kemarin\",ascending=False).head(1)"
   ]
  },
  {
   "cell_type": "markdown",
   "id": "found-collect",
   "metadata": {
    "papermill": {
     "duration": 0.040013,
     "end_time": "2021-04-30T05:58:56.955995",
     "exception": false,
     "start_time": "2021-04-30T05:58:56.915982",
     "status": "completed"
    },
    "tags": []
   },
   "source": [
    "# 9. Berapa jumlah karyawan yang mudik dan tergabung dalam Divisi Data Science?"
   ]
  },
  {
   "cell_type": "code",
   "execution_count": 50,
   "id": "white-creation",
   "metadata": {
    "execution": {
     "iopub.execute_input": "2021-04-30T05:58:57.045496Z",
     "iopub.status.busy": "2021-04-30T05:58:57.044776Z",
     "iopub.status.idle": "2021-04-30T05:58:57.049205Z",
     "shell.execute_reply": "2021-04-30T05:58:57.048368Z"
    },
    "papermill": {
     "duration": 0.054207,
     "end_time": "2021-04-30T05:58:57.049378",
     "exception": false,
     "start_time": "2021-04-30T05:58:56.995171",
     "status": "completed"
    },
    "tags": []
   },
   "outputs": [
    {
     "name": "stdout",
     "output_type": "stream",
     "text": [
      "Semua karyawan data scoence mudik\n"
     ]
    }
   ],
   "source": [
    "df_mudik_ds = catlok[(catlok[\"mudik\"]==1) & (catlok[\"id\"].isin(kel_divisi['Data Science']))]\n",
    "id_mudik_ds = set(df_mudik_ds.id.unique())\n",
    "\n",
    "if id_mudik_ds==kel_divisi[\"Data Science\"]:\n",
    "    print(\"Semua karyawan data scoence mudik\")\n",
    "else:\n",
    "    print(f\"{len(id_mudik_ds)} karyawan data science mudik\")"
   ]
  },
  {
   "cell_type": "markdown",
   "id": "precise-confidence",
   "metadata": {
    "papermill": {
     "duration": 0.039664,
     "end_time": "2021-04-30T05:58:57.130436",
     "exception": false,
     "start_time": "2021-04-30T05:58:57.090772",
     "status": "completed"
    },
    "tags": []
   },
   "source": [
    "# 10. Berapakah umur karyawan yang paling senior dari dari karyawan yang tergabung dalam divisi Data Engineer?"
   ]
  },
  {
   "cell_type": "code",
   "execution_count": 51,
   "id": "eight-ordinary",
   "metadata": {
    "execution": {
     "iopub.execute_input": "2021-04-30T05:58:57.220293Z",
     "iopub.status.busy": "2021-04-30T05:58:57.219661Z",
     "iopub.status.idle": "2021-04-30T05:58:57.223042Z",
     "shell.execute_reply": "2021-04-30T05:58:57.222453Z"
    },
    "papermill": {
     "duration": 0.05268,
     "end_time": "2021-04-30T05:58:57.223162",
     "exception": false,
     "start_time": "2021-04-30T05:58:57.170482",
     "status": "completed"
    },
    "tags": []
   },
   "outputs": [
    {
     "data": {
      "text/html": [
       "<div>\n",
       "<style scoped>\n",
       "    .dataframe tbody tr th:only-of-type {\n",
       "        vertical-align: middle;\n",
       "    }\n",
       "\n",
       "    .dataframe tbody tr th {\n",
       "        vertical-align: top;\n",
       "    }\n",
       "\n",
       "    .dataframe thead th {\n",
       "        text-align: right;\n",
       "    }\n",
       "</style>\n",
       "<table border=\"1\" class=\"dataframe\">\n",
       "  <thead>\n",
       "    <tr style=\"text-align: right;\">\n",
       "      <th></th>\n",
       "      <th>jenis_kelamin</th>\n",
       "      <th>divisi</th>\n",
       "      <th>umur</th>\n",
       "    </tr>\n",
       "    <tr>\n",
       "      <th>id</th>\n",
       "      <th></th>\n",
       "      <th></th>\n",
       "      <th></th>\n",
       "    </tr>\n",
       "  </thead>\n",
       "  <tbody>\n",
       "    <tr>\n",
       "      <th>50</th>\n",
       "      <td>Laki-laki</td>\n",
       "      <td>Data Science</td>\n",
       "      <td>35</td>\n",
       "    </tr>\n",
       "  </tbody>\n",
       "</table>\n",
       "</div>"
      ],
      "text/plain": [
       "   jenis_kelamin        divisi  umur\n",
       "id                                  \n",
       "50     Laki-laki  Data Science    35"
      ]
     },
     "execution_count": 51,
     "metadata": {},
     "output_type": "execute_result"
    }
   ],
   "source": [
    "df_ds = profil[profil[\"divisi\"]==\"Data Science\"]\n",
    "df_ds.sort_values(\"umur\",ascending=False).head(1)"
   ]
  },
  {
   "cell_type": "markdown",
   "id": "unable-batman",
   "metadata": {
    "papermill": {
     "duration": 0.040423,
     "end_time": "2021-04-30T05:58:57.303082",
     "exception": false,
     "start_time": "2021-04-30T05:58:57.262659",
     "status": "completed"
    },
    "tags": []
   },
   "source": [
    "# 11. Berapa jumlah karyawan TokoLapak?"
   ]
  },
  {
   "cell_type": "code",
   "execution_count": 52,
   "id": "vertical-drink",
   "metadata": {
    "execution": {
     "iopub.execute_input": "2021-04-30T05:58:57.389917Z",
     "iopub.status.busy": "2021-04-30T05:58:57.389250Z",
     "iopub.status.idle": "2021-04-30T05:58:57.391939Z",
     "shell.execute_reply": "2021-04-30T05:58:57.392416Z"
    },
    "papermill": {
     "duration": 0.048257,
     "end_time": "2021-04-30T05:58:57.392581",
     "exception": false,
     "start_time": "2021-04-30T05:58:57.344324",
     "status": "completed"
    },
    "tags": []
   },
   "outputs": [
    {
     "name": "stdout",
     "output_type": "stream",
     "text": [
      "karyawan tokolapak berjumlah 100 orang\n"
     ]
    }
   ],
   "source": [
    "jumlah = len(profil.index.unique())\n",
    "print(f\"karyawan tokolapak berjumlah {jumlah} orang\")"
   ]
  },
  {
   "cell_type": "markdown",
   "id": "professional-carroll",
   "metadata": {
    "papermill": {
     "duration": 0.040812,
     "end_time": "2021-04-30T05:58:57.474473",
     "exception": false,
     "start_time": "2021-04-30T05:58:57.433661",
     "status": "completed"
    },
    "tags": []
   },
   "source": [
    "# 12. Karyawan dengan id berapakah yang mudiknya paling lama (perkiraan 20 hari mudik)?"
   ]
  },
  {
   "cell_type": "code",
   "execution_count": 53,
   "id": "understanding-mailman",
   "metadata": {
    "execution": {
     "iopub.execute_input": "2021-04-30T05:58:57.559981Z",
     "iopub.status.busy": "2021-04-30T05:58:57.559347Z",
     "iopub.status.idle": "2021-04-30T05:58:57.606714Z",
     "shell.execute_reply": "2021-04-30T05:58:57.607193Z"
    },
    "papermill": {
     "duration": 0.091753,
     "end_time": "2021-04-30T05:58:57.607354",
     "exception": false,
     "start_time": "2021-04-30T05:58:57.515601",
     "status": "completed"
    },
    "tags": []
   },
   "outputs": [
    {
     "data": {
      "text/html": [
       "<div>\n",
       "<style scoped>\n",
       "    .dataframe tbody tr th:only-of-type {\n",
       "        vertical-align: middle;\n",
       "    }\n",
       "\n",
       "    .dataframe tbody tr th {\n",
       "        vertical-align: top;\n",
       "    }\n",
       "\n",
       "    .dataframe thead th {\n",
       "        text-align: right;\n",
       "    }\n",
       "</style>\n",
       "<table border=\"1\" class=\"dataframe\">\n",
       "  <thead>\n",
       "    <tr style=\"text-align: right;\">\n",
       "      <th></th>\n",
       "      <th>id</th>\n",
       "      <th>lama mudik</th>\n",
       "    </tr>\n",
       "  </thead>\n",
       "  <tbody>\n",
       "    <tr>\n",
       "      <th>92</th>\n",
       "      <td>10</td>\n",
       "      <td>20</td>\n",
       "    </tr>\n",
       "  </tbody>\n",
       "</table>\n",
       "</div>"
      ],
      "text/plain": [
       "    id  lama mudik\n",
       "92  10          20"
      ]
     },
     "execution_count": 53,
     "metadata": {},
     "output_type": "execute_result"
    }
   ],
   "source": [
    "long_streak = {}\n",
    "streak = {}\n",
    "for tm in tanggal_mudik:\n",
    "    id_mudik = set(catlok[(catlok[\"tanggal\"]==tm) & (catlok[\"mudik\"]==1)].id)\n",
    "    for s in list(streak.keys()):\n",
    "        if s not in id_mudik:\n",
    "            if (s not in list(long_streak.keys())) or (streak[s]>long_streak[s]):\n",
    "                long_streak[s] = streak[s]\n",
    "            del streak[s]\n",
    "    for i in id_mudik:\n",
    "        if i in streak:\n",
    "            streak[i] += 1\n",
    "        else:\n",
    "            streak[i] = 1\n",
    "    \n",
    "df_long_streak = pd.DataFrame(list(long_streak.items()), columns=[\"id\",\"lama mudik\"])\n",
    "df_long_streak.sort_values(\"lama mudik\",ascending=False).head(1)"
   ]
  },
  {
   "cell_type": "markdown",
   "id": "historical-convention",
   "metadata": {
    "papermill": {
     "duration": 0.04098,
     "end_time": "2021-04-30T05:58:57.689178",
     "exception": false,
     "start_time": "2021-04-30T05:58:57.648198",
     "status": "completed"
    },
    "tags": []
   },
   "source": [
    "# 13. Kabupaten/Kota manakah yang menjadi tujuan mudik terbanyak?"
   ]
  },
  {
   "cell_type": "code",
   "execution_count": 54,
   "id": "personal-genetics",
   "metadata": {
    "execution": {
     "iopub.execute_input": "2021-04-30T05:58:57.774930Z",
     "iopub.status.busy": "2021-04-30T05:58:57.774325Z",
     "iopub.status.idle": "2021-04-30T05:58:57.880854Z",
     "shell.execute_reply": "2021-04-30T05:58:57.881338Z"
    },
    "papermill": {
     "duration": 0.150578,
     "end_time": "2021-04-30T05:58:57.881502",
     "exception": false,
     "start_time": "2021-04-30T05:58:57.730924",
     "status": "completed"
    },
    "tags": []
   },
   "outputs": [
    {
     "data": {
      "text/html": [
       "<div>\n",
       "<style scoped>\n",
       "    .dataframe tbody tr th:only-of-type {\n",
       "        vertical-align: middle;\n",
       "    }\n",
       "\n",
       "    .dataframe tbody tr th {\n",
       "        vertical-align: top;\n",
       "    }\n",
       "\n",
       "    .dataframe thead th {\n",
       "        text-align: right;\n",
       "    }\n",
       "</style>\n",
       "<table border=\"1\" class=\"dataframe\">\n",
       "  <thead>\n",
       "    <tr style=\"text-align: right;\">\n",
       "      <th></th>\n",
       "      <th>kota/kab</th>\n",
       "      <th>jumlah pemudik</th>\n",
       "    </tr>\n",
       "  </thead>\n",
       "  <tbody>\n",
       "    <tr>\n",
       "      <th>8</th>\n",
       "      <td>Kabupaten Sleman</td>\n",
       "      <td>15</td>\n",
       "    </tr>\n",
       "    <tr>\n",
       "      <th>6</th>\n",
       "      <td>Kota Yogyakarta</td>\n",
       "      <td>14</td>\n",
       "    </tr>\n",
       "    <tr>\n",
       "      <th>0</th>\n",
       "      <td>Kota Medan</td>\n",
       "      <td>12</td>\n",
       "    </tr>\n",
       "    <tr>\n",
       "      <th>10</th>\n",
       "      <td>Kabupaten Bantul</td>\n",
       "      <td>9</td>\n",
       "    </tr>\n",
       "    <tr>\n",
       "      <th>1</th>\n",
       "      <td>Kota Padang</td>\n",
       "      <td>8</td>\n",
       "    </tr>\n",
       "  </tbody>\n",
       "</table>\n",
       "</div>"
      ],
      "text/plain": [
       "            kota/kab  jumlah pemudik\n",
       "8   Kabupaten Sleman              15\n",
       "6    Kota Yogyakarta              14\n",
       "0         Kota Medan              12\n",
       "10  Kabupaten Bantul               9\n",
       "1        Kota Padang               8"
      ]
     },
     "execution_count": 54,
     "metadata": {},
     "output_type": "execute_result"
    }
   ],
   "source": [
    "count_kota = {}\n",
    "for i in profil.index:\n",
    "    kota_mudik = catlok[(catlok[\"id\"]==i) & (catlok[\"mudik\"]==1)][\"lokasi_dominan\"].unique()\n",
    "    for i in kota_mudik:\n",
    "        try:\n",
    "            count_kota[i] += 1\n",
    "        except:\n",
    "            count_kota[i] = 1\n",
    "\n",
    "df_count_kota = pd.DataFrame(list(count_kota.items()), columns=[\"kota/kab\",\"jumlah pemudik\"])\n",
    "df_count_kota.sort_values(\"jumlah pemudik\",ascending=False).head()"
   ]
  },
  {
   "cell_type": "markdown",
   "id": "otherwise-moral",
   "metadata": {
    "papermill": {
     "duration": 0.041489,
     "end_time": "2021-04-30T05:58:57.966200",
     "exception": false,
     "start_time": "2021-04-30T05:58:57.924711",
     "status": "completed"
    },
    "tags": []
   },
   "source": [
    "# 14. Divisi apakah yang semua anggotanya mudik?"
   ]
  },
  {
   "cell_type": "code",
   "execution_count": 55,
   "id": "greenhouse-election",
   "metadata": {
    "execution": {
     "iopub.execute_input": "2021-04-30T05:58:58.056240Z",
     "iopub.status.busy": "2021-04-30T05:58:58.055654Z",
     "iopub.status.idle": "2021-04-30T05:58:58.058463Z",
     "shell.execute_reply": "2021-04-30T05:58:58.058959Z"
    },
    "papermill": {
     "duration": 0.050695,
     "end_time": "2021-04-30T05:58:58.059111",
     "exception": false,
     "start_time": "2021-04-30T05:58:58.008416",
     "status": "completed"
    },
    "tags": []
   },
   "outputs": [
    {
     "name": "stdout",
     "output_type": "stream",
     "text": [
      "divisi Customer Service semuanya mudik\n",
      "divisi Data Engineer semuanya mudik\n",
      "divisi Software Engineer semuanya mudik\n",
      "divisi Business Intelligence semuanya mudik\n",
      "divisi Data Science semuanya mudik\n",
      "divisi Marketing semuanya mudik\n"
     ]
    }
   ],
   "source": [
    "id_mudik = set(catlok[catlok[\"mudik\"]==1].id)\n",
    "for div,i in kel_divisi.items():\n",
    "    if set(i).intersection(id_mudik):\n",
    "        print(f\"divisi {div} semuanya mudik\")"
   ]
  },
  {
   "cell_type": "markdown",
   "id": "specialized-pittsburgh",
   "metadata": {
    "papermill": {
     "duration": 0.041275,
     "end_time": "2021-04-30T05:58:58.142111",
     "exception": false,
     "start_time": "2021-04-30T05:58:58.100836",
     "status": "completed"
    },
    "tags": []
   },
   "source": [
    "# 15. Kabupaten/Kota manakah yang menjadi tujuan mudik paling sedikit?"
   ]
  },
  {
   "cell_type": "code",
   "execution_count": 56,
   "id": "living-cooperation",
   "metadata": {
    "execution": {
     "iopub.execute_input": "2021-04-30T05:58:58.229033Z",
     "iopub.status.busy": "2021-04-30T05:58:58.228409Z",
     "iopub.status.idle": "2021-04-30T05:58:58.236759Z",
     "shell.execute_reply": "2021-04-30T05:58:58.237235Z"
    },
    "papermill": {
     "duration": 0.053444,
     "end_time": "2021-04-30T05:58:58.237405",
     "exception": false,
     "start_time": "2021-04-30T05:58:58.183961",
     "status": "completed"
    },
    "tags": []
   },
   "outputs": [
    {
     "data": {
      "text/html": [
       "<div>\n",
       "<style scoped>\n",
       "    .dataframe tbody tr th:only-of-type {\n",
       "        vertical-align: middle;\n",
       "    }\n",
       "\n",
       "    .dataframe tbody tr th {\n",
       "        vertical-align: top;\n",
       "    }\n",
       "\n",
       "    .dataframe thead th {\n",
       "        text-align: right;\n",
       "    }\n",
       "</style>\n",
       "<table border=\"1\" class=\"dataframe\">\n",
       "  <thead>\n",
       "    <tr style=\"text-align: right;\">\n",
       "      <th></th>\n",
       "      <th>kota/kab</th>\n",
       "      <th>jumlah pemudik</th>\n",
       "    </tr>\n",
       "  </thead>\n",
       "  <tbody>\n",
       "    <tr>\n",
       "      <th>12</th>\n",
       "      <td>Kabupaten Kebumen</td>\n",
       "      <td>2</td>\n",
       "    </tr>\n",
       "    <tr>\n",
       "      <th>14</th>\n",
       "      <td>Kota Banda Aceh</td>\n",
       "      <td>2</td>\n",
       "    </tr>\n",
       "    <tr>\n",
       "      <th>11</th>\n",
       "      <td>Kabupaten Tasikmalaya</td>\n",
       "      <td>4</td>\n",
       "    </tr>\n",
       "    <tr>\n",
       "      <th>2</th>\n",
       "      <td>Kota Manado</td>\n",
       "      <td>5</td>\n",
       "    </tr>\n",
       "    <tr>\n",
       "      <th>9</th>\n",
       "      <td>Kota Semarang</td>\n",
       "      <td>5</td>\n",
       "    </tr>\n",
       "  </tbody>\n",
       "</table>\n",
       "</div>"
      ],
      "text/plain": [
       "                 kota/kab  jumlah pemudik\n",
       "12      Kabupaten Kebumen               2\n",
       "14        Kota Banda Aceh               2\n",
       "11  Kabupaten Tasikmalaya               4\n",
       "2             Kota Manado               5\n",
       "9           Kota Semarang               5"
      ]
     },
     "execution_count": 56,
     "metadata": {},
     "output_type": "execute_result"
    }
   ],
   "source": [
    "df_count_kota.sort_values(\"jumlah pemudik\").head()"
   ]
  },
  {
   "cell_type": "markdown",
   "id": "weekly-pulse",
   "metadata": {
    "papermill": {
     "duration": 0.042169,
     "end_time": "2021-04-30T05:58:58.321978",
     "exception": false,
     "start_time": "2021-04-30T05:58:58.279809",
     "status": "completed"
    },
    "tags": []
   },
   "source": [
    "# 16. Di hari apakah yang menjadi hari favorit (paling banyak) karyawan Tokolapak melakukan mudik? Asumsikan waktu yang dibutuhkan untuk mudik kurang dari 1 hari, dan apabila dia mulai berada di luar Jabodetabek pada hari tersebut, maka hari tersebutlah yang menjadi dominan lokasi seseorang mudik."
   ]
  },
  {
   "cell_type": "code",
   "execution_count": 57,
   "id": "separate-light",
   "metadata": {
    "execution": {
     "iopub.execute_input": "2021-04-30T05:58:58.410112Z",
     "iopub.status.busy": "2021-04-30T05:58:58.409529Z",
     "iopub.status.idle": "2021-04-30T05:58:58.417977Z",
     "shell.execute_reply": "2021-04-30T05:58:58.418542Z"
    },
    "papermill": {
     "duration": 0.054213,
     "end_time": "2021-04-30T05:58:58.418743",
     "exception": false,
     "start_time": "2021-04-30T05:58:58.364530",
     "status": "completed"
    },
    "tags": []
   },
   "outputs": [
    {
     "data": {
      "text/plain": [
       "tanggal\n",
       "03/06/19    93\n",
       "05/06/19    91\n",
       "06/06/19    91\n",
       "07/06/19    91\n",
       "04/06/19    91\n",
       "dtype: int64"
      ]
     },
     "execution_count": 57,
     "metadata": {},
     "output_type": "execute_result"
    }
   ],
   "source": [
    "catlok[catlok[\"mudik\"]==1].value_counts(\"tanggal\").sort_values(ascending=False).head()"
   ]
  },
  {
   "cell_type": "markdown",
   "id": "automated-morocco",
   "metadata": {
    "papermill": {
     "duration": 0.043016,
     "end_time": "2021-04-30T05:58:58.504997",
     "exception": false,
     "start_time": "2021-04-30T05:58:58.461981",
     "status": "completed"
    },
    "tags": []
   },
   "source": [
    "# 17. Dari daftar karyawan berikut, siapakah yang memiliki kans untuk dititipi oleh-oleh Lapis Legit Zulaikha tersebut?"
   ]
  },
  {
   "cell_type": "code",
   "execution_count": 58,
   "id": "adequate-flower",
   "metadata": {
    "execution": {
     "iopub.execute_input": "2021-04-30T05:58:58.601458Z",
     "iopub.status.busy": "2021-04-30T05:58:58.600846Z",
     "iopub.status.idle": "2021-04-30T05:58:58.604955Z",
     "shell.execute_reply": "2021-04-30T05:58:58.604468Z"
    },
    "papermill": {
     "duration": 0.056341,
     "end_time": "2021-04-30T05:58:58.605083",
     "exception": false,
     "start_time": "2021-04-30T05:58:58.548742",
     "status": "completed"
    },
    "tags": []
   },
   "outputs": [
    {
     "name": "stdout",
     "output_type": "stream",
     "text": [
      "karyawan dengan id 17 paling mungkin dititipi lapis legit zulaikha\n"
     ]
    }
   ],
   "source": [
    "mudik_medan = catlok[catlok[\"lokasi_dominan\"]==\"Kota Medan\"].id\n",
    "lama_medan = mudik_medan.value_counts().index[0]\n",
    "print(f\"karyawan dengan id {lama_medan} paling mungkin dititipi lapis legit zulaikha\")"
   ]
  },
  {
   "cell_type": "markdown",
   "id": "incorporated-kitty",
   "metadata": {
    "papermill": {
     "duration": 0.043261,
     "end_time": "2021-04-30T05:58:58.692335",
     "exception": false,
     "start_time": "2021-04-30T05:58:58.649074",
     "status": "completed"
    },
    "tags": []
   },
   "source": [
    "# 18. Karyawan dengan id berapakah yang memiliki kesempatan untuk membawa oleh-oleh makanan khas Kartika Sari Bandung?"
   ]
  },
  {
   "cell_type": "code",
   "execution_count": 59,
   "id": "modular-outdoors",
   "metadata": {
    "execution": {
     "iopub.execute_input": "2021-04-30T05:58:58.786112Z",
     "iopub.status.busy": "2021-04-30T05:58:58.785430Z",
     "iopub.status.idle": "2021-04-30T05:58:58.788806Z",
     "shell.execute_reply": "2021-04-30T05:58:58.789287Z"
    },
    "papermill": {
     "duration": 0.053935,
     "end_time": "2021-04-30T05:58:58.789448",
     "exception": false,
     "start_time": "2021-04-30T05:58:58.735513",
     "status": "completed"
    },
    "tags": []
   },
   "outputs": [
    {
     "name": "stdout",
     "output_type": "stream",
     "text": [
      "karyawan dengan id 21 paling mungkin dititipi makanan khas Kartika Sari Bandung\n"
     ]
    }
   ],
   "source": [
    "mudik_bdg = catlok[catlok[\"lokasi_dominan\"]==\"Kota Bandung\"].id\n",
    "lama_bdg = mudik_bdg.value_counts().index[0]\n",
    "print(f\"karyawan dengan id {lama_bdg} paling mungkin dititipi makanan khas Kartika Sari Bandung\")"
   ]
  },
  {
   "cell_type": "markdown",
   "id": "increased-telescope",
   "metadata": {
    "papermill": {
     "duration": 0.044398,
     "end_time": "2021-04-30T05:58:58.878903",
     "exception": false,
     "start_time": "2021-04-30T05:58:58.834505",
     "status": "completed"
    },
    "tags": []
   },
   "source": [
    "# 19. Berapa banyak karyawan TokoLapak yang melakukan mudik Lebaran 2019? Catatan: Diasumsikan bahwa karyawan yang melakukan mudik adalah karyawan yang tidak berada di Jabodetabek pada hari H Lebaran, yaitu 5 Juni 2019."
   ]
  },
  {
   "cell_type": "code",
   "execution_count": 60,
   "id": "ideal-accuracy",
   "metadata": {
    "execution": {
     "iopub.execute_input": "2021-04-30T05:58:58.970375Z",
     "iopub.status.busy": "2021-04-30T05:58:58.969668Z",
     "iopub.status.idle": "2021-04-30T05:58:58.977086Z",
     "shell.execute_reply": "2021-04-30T05:58:58.977504Z"
    },
    "papermill": {
     "duration": 0.053958,
     "end_time": "2021-04-30T05:58:58.977677",
     "exception": false,
     "start_time": "2021-04-30T05:58:58.923719",
     "status": "completed"
    },
    "tags": []
   },
   "outputs": [
    {
     "name": "stdout",
     "output_type": "stream",
     "text": [
      "Dari 100 karyawan, sebanyak 9 karyawan tidak mudik di hari H lebaran\n"
     ]
    }
   ],
   "source": [
    "mudik_lebaran = catlok[(catlok[\"mudik\"]==1) & (catlok[\"tanggal\"]==\"05/06/19\")]\n",
    "jum_mudik_lebaran = mudik_lebaran.id.count()\n",
    "jum_karyawan = len(profil)\n",
    "print(f\"Dari {jum_karyawan} karyawan, sebanyak {jum_karyawan-jum_mudik_lebaran} karyawan tidak mudik di hari H lebaran\")"
   ]
  },
  {
   "cell_type": "markdown",
   "id": "behavioral-lecture",
   "metadata": {
    "papermill": {
     "duration": 0.045772,
     "end_time": "2021-04-30T05:58:59.067422",
     "exception": false,
     "start_time": "2021-04-30T05:58:59.021650",
     "status": "completed"
    },
    "tags": []
   },
   "source": [
    "# 20. Berapa persen dari total jumlah karyawan yang mudik, karyawan Tokolapak pulang ke Jabodetabek pada tanggal 9 Juni 2019?"
   ]
  },
  {
   "cell_type": "code",
   "execution_count": 61,
   "id": "fancy-sight",
   "metadata": {
    "execution": {
     "iopub.execute_input": "2021-04-30T05:58:59.159069Z",
     "iopub.status.busy": "2021-04-30T05:58:59.158435Z",
     "iopub.status.idle": "2021-04-30T05:58:59.166351Z",
     "shell.execute_reply": "2021-04-30T05:58:59.166784Z"
    },
    "papermill": {
     "duration": 0.054983,
     "end_time": "2021-04-30T05:58:59.166956",
     "exception": false,
     "start_time": "2021-04-30T05:58:59.111973",
     "status": "completed"
    },
    "tags": []
   },
   "outputs": [
    {
     "name": "stdout",
     "output_type": "stream",
     "text": [
      "58 dari 91 karyawan sudah pulang mudik lebaran di tanggal 9 Juni 2019\n"
     ]
    }
   ],
   "source": [
    "plg_mudik = catlok[(catlok[\"mudik\"]==0) & (catlok[\"tanggal\"]==\"09/06/19\") & (catlok[\"id\"].isin(mudik_lebaran[\"id\"]))].id.count()\n",
    "print(f\"{plg_mudik} dari {jum_mudik_lebaran} karyawan sudah pulang mudik lebaran di tanggal 9 Juni 2019\")"
   ]
  },
  {
   "cell_type": "markdown",
   "id": "national-scout",
   "metadata": {
    "papermill": {
     "duration": 0.043895,
     "end_time": "2021-04-30T05:58:59.255133",
     "exception": false,
     "start_time": "2021-04-30T05:58:59.211238",
     "status": "completed"
    },
    "tags": []
   },
   "source": [
    "# 21. Divisi apakah yang persentase pemudiknya paling sedikit?"
   ]
  },
  {
   "cell_type": "code",
   "execution_count": 62,
   "id": "continued-attempt",
   "metadata": {
    "execution": {
     "iopub.execute_input": "2021-04-30T05:58:59.352760Z",
     "iopub.status.busy": "2021-04-30T05:58:59.352133Z",
     "iopub.status.idle": "2021-04-30T05:58:59.355172Z",
     "shell.execute_reply": "2021-04-30T05:58:59.355753Z"
    },
    "papermill": {
     "duration": 0.057033,
     "end_time": "2021-04-30T05:58:59.355925",
     "exception": false,
     "start_time": "2021-04-30T05:58:59.298892",
     "status": "completed"
    },
    "tags": []
   },
   "outputs": [
    {
     "name": "stdout",
     "output_type": "stream",
     "text": [
      "Divisi Data Engineer memiliki persentase pemudik paling kecil\n"
     ]
    }
   ],
   "source": [
    "tdk_mudik = profil[~(profil.index.isin(mudik_lebaran[\"id\"]))]\n",
    "div_tdk_mudik = tdk_mudik['divisi'].value_counts()\n",
    "persen_kecil = 100\n",
    "for dtm in div_tdk_mudik.index:\n",
    "    persen_divisi = div_tdk_mudik[dtm]/len(profil[profil[\"divisi\"]==dtm])\n",
    "    if persen_divisi<persen_kecil:\n",
    "        persen_kecil = persen_divisi\n",
    "        div_kecil = dtm\n",
    "    \n",
    "print(f\"Divisi {div_kecil} memiliki persentase pemudik paling kecil\")"
   ]
  },
  {
   "cell_type": "markdown",
   "id": "quantitative-chair",
   "metadata": {
    "papermill": {
     "duration": 0.044576,
     "end_time": "2021-04-30T05:58:59.446156",
     "exception": false,
     "start_time": "2021-04-30T05:58:59.401580",
     "status": "completed"
    },
    "tags": []
   },
   "source": [
    "# 22. Divisi apakah yang jumlah pemudiknya paling sedikit ?"
   ]
  },
  {
   "cell_type": "code",
   "execution_count": 63,
   "id": "reasonable-empire",
   "metadata": {
    "execution": {
     "iopub.execute_input": "2021-04-30T05:58:59.539932Z",
     "iopub.status.busy": "2021-04-30T05:58:59.539342Z",
     "iopub.status.idle": "2021-04-30T05:58:59.544607Z",
     "shell.execute_reply": "2021-04-30T05:58:59.544082Z"
    },
    "papermill": {
     "duration": 0.053285,
     "end_time": "2021-04-30T05:58:59.544754",
     "exception": false,
     "start_time": "2021-04-30T05:58:59.491469",
     "status": "completed"
    },
    "tags": []
   },
   "outputs": [
    {
     "name": "stdout",
     "output_type": "stream",
     "text": [
      "Divisi Software Engineer memiliki jumlah pemudik paling sedikit\n"
     ]
    }
   ],
   "source": [
    "div_less_mudik = div_tdk_mudik.index[0]\n",
    "print(f\"Divisi {div_less_mudik} memiliki jumlah pemudik paling sedikit\")"
   ]
  },
  {
   "cell_type": "markdown",
   "id": "current-preserve",
   "metadata": {
    "papermill": {
     "duration": 0.044644,
     "end_time": "2021-04-30T05:58:59.635266",
     "exception": false,
     "start_time": "2021-04-30T05:58:59.590622",
     "status": "completed"
    },
    "tags": []
   },
   "source": [
    "# 23. Ada karyawan yang mudik ke Kabupaten Lampung Selatan, yaitu karyawan dengan id 80. Pada tanggal berapakah dia sudah pulang ke Jabodetabek?"
   ]
  },
  {
   "cell_type": "code",
   "execution_count": 64,
   "id": "phantom-cambodia",
   "metadata": {
    "execution": {
     "iopub.execute_input": "2021-04-30T05:58:59.730973Z",
     "iopub.status.busy": "2021-04-30T05:58:59.730321Z",
     "iopub.status.idle": "2021-04-30T05:58:59.733180Z",
     "shell.execute_reply": "2021-04-30T05:58:59.733659Z"
    },
    "papermill": {
     "duration": 0.053665,
     "end_time": "2021-04-30T05:58:59.733810",
     "exception": false,
     "start_time": "2021-04-30T05:58:59.680145",
     "status": "completed"
    },
    "tags": []
   },
   "outputs": [
    {
     "name": "stdout",
     "output_type": "stream",
     "text": [
      "Hari terkahir id 80 ada di Kabupaten Lampung Selatan pada 07/06/19\n"
     ]
    }
   ],
   "source": [
    "mudik80 = catlok[(catlok[\"mudik\"]==1) & (catlok[\"id\"]==80)]\n",
    "akhir_mudik80 = mudik80.tail(1).tanggal.values[0]\n",
    "\n",
    "print(f\"Hari terkahir id 80 ada di Kabupaten Lampung Selatan pada {akhir_mudik80}\")"
   ]
  },
  {
   "cell_type": "markdown",
   "id": "heavy-riding",
   "metadata": {
    "papermill": {
     "duration": 0.045723,
     "end_time": "2021-04-30T05:58:59.825711",
     "exception": false,
     "start_time": "2021-04-30T05:58:59.779988",
     "status": "completed"
    },
    "tags": []
   },
   "source": [
    "# 24. Berapa karyawan dapat diminta tolong untuk dititipi oleh-oleh Lapis Legit Zulaikha langsung dari tokonya?"
   ]
  },
  {
   "cell_type": "code",
   "execution_count": 65,
   "id": "sensitive-copyright",
   "metadata": {
    "execution": {
     "iopub.execute_input": "2021-04-30T05:58:59.922199Z",
     "iopub.status.busy": "2021-04-30T05:58:59.921531Z",
     "iopub.status.idle": "2021-04-30T05:58:59.924091Z",
     "shell.execute_reply": "2021-04-30T05:58:59.924622Z"
    },
    "papermill": {
     "duration": 0.053166,
     "end_time": "2021-04-30T05:58:59.924791",
     "exception": false,
     "start_time": "2021-04-30T05:58:59.871625",
     "status": "completed"
    },
    "tags": []
   },
   "outputs": [
    {
     "name": "stdout",
     "output_type": "stream",
     "text": [
      "12 karyawan bisa dititipi Lapis Legit Zulaikha\n"
     ]
    }
   ],
   "source": [
    "jum_mudik_medan = len(mudik_medan.unique())\n",
    "print(f\"{jum_mudik_medan} karyawan bisa dititipi Lapis Legit Zulaikha\")"
   ]
  },
  {
   "cell_type": "markdown",
   "id": "separate-pipeline",
   "metadata": {
    "papermill": {
     "duration": 0.04565,
     "end_time": "2021-04-30T05:59:00.016800",
     "exception": false,
     "start_time": "2021-04-30T05:58:59.971150",
     "status": "completed"
    },
    "tags": []
   },
   "source": [
    "# 25. Pada tanggal berapakah seluruh karyawan Tokolapak sudah berada di Jabodetabek"
   ]
  },
  {
   "cell_type": "code",
   "execution_count": 68,
   "id": "solid-tsunami",
   "metadata": {
    "execution": {
     "iopub.execute_input": "2021-04-30T05:59:00.114626Z",
     "iopub.status.busy": "2021-04-30T05:59:00.114037Z",
     "iopub.status.idle": "2021-04-30T05:59:00.421648Z",
     "shell.execute_reply": "2021-04-30T05:59:00.422157Z"
    },
    "papermill": {
     "duration": 0.358568,
     "end_time": "2021-04-30T05:59:00.422342",
     "exception": false,
     "start_time": "2021-04-30T05:59:00.063774",
     "status": "completed"
    },
    "tags": []
   },
   "outputs": [
    {
     "data": {
      "image/png": "[encoded data removed]",
      "text/plain": [
       "<Figure size 432x288 with 1 Axes>"
      ]
     },
     "metadata": {
      "needs_background": "light"
     },
     "output_type": "display_data"
    }
   ],
   "source": [
    "catlok.groupby(\"tanggal\").sum(\"mudik\").mudik.plot(kind=\"bar\");"
   ]
  },
  {
   "cell_type": "code",
   "execution_count": null,
   "id": "dbd40efd",
   "metadata": {},
   "outputs": [],
   "source": []
  }
 ],
 "metadata": {
  "kernelspec": {
   "display_name": "Python 3 (ipykernel)",
   "language": "python",
   "name": "python3"
  },
  "language_info": {
   "codemirror_mode": {
    "name": "ipython",
    "version": 3
   },
   "file_extension": ".py",
   "mimetype": "text/x-python",
   "name": "python",
   "nbconvert_exporter": "python",
   "pygments_lexer": "ipython3",
   "version": "3.9.7"
  },
  "papermill": {
   "default_parameters": {},
   "duration": 17.271657,
   "end_time": "2021-04-30T05:59:01.515421",
   "environment_variables": {},
   "exception": null,
   "input_path": "__notebook__.ipynb",
   "output_path": "__notebook__.ipynb",
   "parameters": {},
   "start_time": "2021-04-30T05:58:44.243764",
   "version": "2.3.3"
  }
 },
 "nbformat": 4,
 "nbformat_minor": 5
}
