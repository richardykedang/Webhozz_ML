{
 "cells": [
  {
   "cell_type": "markdown",
   "id": "c246d9c9",
   "metadata": {
    "papermill": {
     "duration": 0.062946,
     "end_time": "2021-10-07T10:27:04.998313",
     "exception": false,
     "start_time": "2021-10-07T10:27:04.935367",
     "status": "completed"
    },
    "tags": []
   },
   "source": [
    "# Content Filtered Book Recommendation\n"
   ]
  },
  {
   "cell_type": "markdown",
   "id": "216f08b8",
   "metadata": {
    "papermill": {
     "duration": 0.062284,
     "end_time": "2021-10-07T10:27:05.122463",
     "exception": false,
     "start_time": "2021-10-07T10:27:05.060179",
     "status": "completed"
    },
    "tags": []
   },
   "source": [
    "Berdasarkan salah satu artikel dari Universitas Hasanuddin [tautan](https://journal.unhas.ac.id/index.php/jupiter/article/view/1672), membaca buku merupakan hal yang penting untuk dilakukan. Orang - orang yang memilih untuk sering membaca buku memiliki wawasan yang luas. Lewat membaca, kita juga dapat mengetahui, mengenal banyak hal yang sebelumnya belum dikenal dan kita pelajari dan pahami lewat membaca buku."
   ]
  },
  {
   "cell_type": "markdown",
   "id": "ff7e510b",
   "metadata": {
    "papermill": {
     "duration": 0.062415,
     "end_time": "2021-10-07T10:27:05.246317",
     "exception": false,
     "start_time": "2021-10-07T10:27:05.183902",
     "status": "completed"
    },
    "tags": []
   },
   "source": [
    "<img src= \"https://edgecappartners.com/wp-content/uploads/2018/09/boook-e1536947008937.jpg\" alt =\"Movie\" style='width: 400px;'>"
   ]
  },
  {
   "cell_type": "markdown",
   "id": "f4094441",
   "metadata": {
    "papermill": {
     "duration": 0.089537,
     "end_time": "2021-10-07T10:27:05.396766",
     "exception": false,
     "start_time": "2021-10-07T10:27:05.307229",
     "status": "completed"
    },
    "tags": []
   },
   "source": [
    "Melihat pentingnya dampak buku bagi kehidupan kita, kita perlu banyak membaca buku. Ketika kita membaca buku, kita pasti memiliki ketertarikan kepada satu atau beberapa bidang. Dikarenakan banyaknya buku yang telah dan akan terbit, kita membutuhkan sistem rekomendasi yang akan menyaring buku - buku sesuai dengan selera dan ketertarikan kita. Dengan adanya sistem rekomendasi ini, kita tidak perlu lama - lama dalam mencari buku sesuai ketertarikan kita.\n",
    "\n",
    "Pada latihan kali ini kita akan menggunakan metode yaitu content based filter.\n",
    " - Pada **Content Based Flter**, kita akan menggunakan penulis buku menjadi pusat sebagai pusat dari sistem rekomendasi\n"
   ]
  },
  {
   "cell_type": "markdown",
   "id": "8fb21203",
   "metadata": {
    "papermill": {
     "duration": 0.098495,
     "end_time": "2021-10-07T10:27:05.591709",
     "exception": false,
     "start_time": "2021-10-07T10:27:05.493214",
     "status": "completed"
    },
    "tags": []
   },
   "source": [
    "___\n",
    "# Importing Libraries and Dataset"
   ]
  },
  {
   "cell_type": "markdown",
   "id": "7ff567b1",
   "metadata": {
    "papermill": {
     "duration": 0.098055,
     "end_time": "2021-10-07T10:27:05.785736",
     "exception": false,
     "start_time": "2021-10-07T10:27:05.687681",
     "status": "completed"
    },
    "tags": []
   },
   "source": [
    "## Importing Libraries"
   ]
  },
  {
   "cell_type": "markdown",
   "id": "834da9d4",
   "metadata": {
    "papermill": {
     "duration": 0.10052,
     "end_time": "2021-10-07T10:27:05.982866",
     "exception": false,
     "start_time": "2021-10-07T10:27:05.882346",
     "status": "completed"
    },
    "tags": []
   },
   "source": [
    "Pada notebook ini saya melakukan import pada beberapa libraries, seperti pandas, numpy, tenserflow, dll."
   ]
  },
  {
   "cell_type": "code",
   "execution_count": 3,
   "id": "4aa4e519",
   "metadata": {
    "execution": {
     "iopub.execute_input": "2021-10-07T10:27:06.286366Z",
     "iopub.status.busy": "2021-10-07T10:27:06.285535Z",
     "iopub.status.idle": "2021-10-07T10:27:06.314065Z",
     "shell.execute_reply": "2021-10-07T10:27:06.315177Z",
     "shell.execute_reply.started": "2021-10-06T18:00:09.942129Z"
    },
    "papermill": {
     "duration": 0.231885,
     "end_time": "2021-10-07T10:27:06.315512",
     "exception": false,
     "start_time": "2021-10-07T10:27:06.083627",
     "status": "completed"
    },
    "tags": []
   },
   "outputs": [],
   "source": [
    "import pandas as pd\n",
    "import numpy as np \n",
    "import matplotlib.pyplot as plt\n"
   ]
  },
  {
   "cell_type": "markdown",
   "id": "21f06cae",
   "metadata": {
    "papermill": {
     "duration": 0.078775,
     "end_time": "2021-10-07T10:27:06.497028",
     "exception": false,
     "start_time": "2021-10-07T10:27:06.418253",
     "status": "completed"
    },
    "tags": []
   },
   "source": [
    "## Importing Dataset"
   ]
  },
  {
   "cell_type": "markdown",
   "id": "d092fc1e",
   "metadata": {
    "papermill": {
     "duration": 0.064426,
     "end_time": "2021-10-07T10:27:06.625725",
     "exception": false,
     "start_time": "2021-10-07T10:27:06.561299",
     "status": "completed"
    },
    "tags": []
   },
   "source": [
    "Pada notebook ini, kita hanya akan menggunakan dataframe book dan rating untuk content dan collaborative filtered recommendation kita"
   ]
  },
  {
   "cell_type": "code",
   "execution_count": 18,
   "id": "20ff0d85",
   "metadata": {
    "execution": {
     "iopub.execute_input": "2021-10-07T10:27:06.760235Z",
     "iopub.status.busy": "2021-10-07T10:27:06.759669Z",
     "iopub.status.idle": "2021-10-07T10:27:09.886701Z",
     "shell.execute_reply": "2021-10-07T10:27:09.886221Z",
     "shell.execute_reply.started": "2021-10-06T18:00:10.062057Z"
    },
    "papermill": {
     "duration": 3.193223,
     "end_time": "2021-10-07T10:27:09.886835",
     "exception": false,
     "start_time": "2021-10-07T10:27:06.693612",
     "status": "completed"
    },
    "tags": []
   },
   "outputs": [],
   "source": [
    "book_dataset = pd.read_csv('./dataset/Books.csv')\n",
    "rating_dataset=pd.read_csv('./dataset/Ratings.csv')"
   ]
  },
  {
   "cell_type": "markdown",
   "id": "8eca6189",
   "metadata": {
    "papermill": {
     "duration": 0.061385,
     "end_time": "2021-10-07T10:27:10.011704",
     "exception": false,
     "start_time": "2021-10-07T10:27:09.950319",
     "status": "completed"
    },
    "tags": []
   },
   "source": [
    "Meneliti ukuran dari dataset book "
   ]
  },
  {
   "cell_type": "code",
   "execution_count": 19,
   "id": "bdf65659",
   "metadata": {
    "execution": {
     "iopub.execute_input": "2021-10-07T10:27:10.142825Z",
     "iopub.status.busy": "2021-10-07T10:27:10.142321Z",
     "iopub.status.idle": "2021-10-07T10:27:10.146750Z",
     "shell.execute_reply": "2021-10-07T10:27:10.147138Z",
     "shell.execute_reply.started": "2021-10-06T18:00:12.927249Z"
    },
    "papermill": {
     "duration": 0.072737,
     "end_time": "2021-10-07T10:27:10.147273",
     "exception": false,
     "start_time": "2021-10-07T10:27:10.074536",
     "status": "completed"
    },
    "tags": []
   },
   "outputs": [
    {
     "data": {
      "text/plain": [
       "(271360, 8)"
      ]
     },
     "execution_count": 19,
     "metadata": {},
     "output_type": "execute_result"
    }
   ],
   "source": [
    "book_dataset.shape"
   ]
  },
  {
   "cell_type": "markdown",
   "id": "21ceac19",
   "metadata": {
    "papermill": {
     "duration": 0.060998,
     "end_time": "2021-10-07T10:27:10.270556",
     "exception": false,
     "start_time": "2021-10-07T10:27:10.209558",
     "status": "completed"
    },
    "tags": []
   },
   "source": [
    "Meneliti ukuran dari dataframe rating"
   ]
  },
  {
   "cell_type": "code",
   "execution_count": 17,
   "id": "37c97ab6",
   "metadata": {
    "execution": {
     "iopub.execute_input": "2021-10-07T10:27:10.398288Z",
     "iopub.status.busy": "2021-10-07T10:27:10.397720Z",
     "iopub.status.idle": "2021-10-07T10:27:10.403381Z",
     "shell.execute_reply": "2021-10-07T10:27:10.402854Z",
     "shell.execute_reply.started": "2021-10-06T18:00:12.936832Z"
    },
    "papermill": {
     "duration": 0.071467,
     "end_time": "2021-10-07T10:27:10.403496",
     "exception": false,
     "start_time": "2021-10-07T10:27:10.332029",
     "status": "completed"
    },
    "tags": []
   },
   "outputs": [
    {
     "data": {
      "text/plain": [
       "(1149780, 3)"
      ]
     },
     "execution_count": 17,
     "metadata": {},
     "output_type": "execute_result"
    }
   ],
   "source": [
    "rating_dataset.shape"
   ]
  },
  {
   "cell_type": "markdown",
   "id": "59f96063",
   "metadata": {
    "papermill": {
     "duration": 0.061904,
     "end_time": "2021-10-07T10:27:10.527015",
     "exception": false,
     "start_time": "2021-10-07T10:27:10.465111",
     "status": "completed"
    },
    "tags": []
   },
   "source": [
    "___\n",
    "# Data Preprocessing"
   ]
  },
  {
   "cell_type": "markdown",
   "id": "0c53bd02",
   "metadata": {
    "papermill": {
     "duration": 0.064313,
     "end_time": "2021-10-07T10:27:10.652736",
     "exception": false,
     "start_time": "2021-10-07T10:27:10.588423",
     "status": "completed"
    },
    "tags": []
   },
   "source": [
    "Meneliti 5 data teratas dari dataframe rating"
   ]
  },
  {
   "cell_type": "code",
   "execution_count": 20,
   "id": "2e03b134",
   "metadata": {
    "execution": {
     "iopub.execute_input": "2021-10-07T10:27:10.788019Z",
     "iopub.status.busy": "2021-10-07T10:27:10.787496Z",
     "iopub.status.idle": "2021-10-07T10:27:10.802467Z",
     "shell.execute_reply": "2021-10-07T10:27:10.802009Z",
     "shell.execute_reply.started": "2021-10-06T18:00:12.947436Z"
    },
    "papermill": {
     "duration": 0.083201,
     "end_time": "2021-10-07T10:27:10.802583",
     "exception": false,
     "start_time": "2021-10-07T10:27:10.719382",
     "status": "completed"
    },
    "tags": []
   },
   "outputs": [
    {
     "data": {
      "text/html": [
       "<div>\n",
       "<style scoped>\n",
       "    .dataframe tbody tr th:only-of-type {\n",
       "        vertical-align: middle;\n",
       "    }\n",
       "\n",
       "    .dataframe tbody tr th {\n",
       "        vertical-align: top;\n",
       "    }\n",
       "\n",
       "    .dataframe thead th {\n",
       "        text-align: right;\n",
       "    }\n",
       "</style>\n",
       "<table border=\"1\" class=\"dataframe\">\n",
       "  <thead>\n",
       "    <tr style=\"text-align: right;\">\n",
       "      <th></th>\n",
       "      <th>User-ID</th>\n",
       "      <th>ISBN</th>\n",
       "      <th>Book-Rating</th>\n",
       "    </tr>\n",
       "  </thead>\n",
       "  <tbody>\n",
       "    <tr>\n",
       "      <th>0</th>\n",
       "      <td>276725</td>\n",
       "      <td>034545104X</td>\n",
       "      <td>0</td>\n",
       "    </tr>\n",
       "    <tr>\n",
       "      <th>1</th>\n",
       "      <td>276726</td>\n",
       "      <td>0155061224</td>\n",
       "      <td>5</td>\n",
       "    </tr>\n",
       "    <tr>\n",
       "      <th>2</th>\n",
       "      <td>276727</td>\n",
       "      <td>0446520802</td>\n",
       "      <td>0</td>\n",
       "    </tr>\n",
       "    <tr>\n",
       "      <th>3</th>\n",
       "      <td>276729</td>\n",
       "      <td>052165615X</td>\n",
       "      <td>3</td>\n",
       "    </tr>\n",
       "    <tr>\n",
       "      <th>4</th>\n",
       "      <td>276729</td>\n",
       "      <td>0521795028</td>\n",
       "      <td>6</td>\n",
       "    </tr>\n",
       "  </tbody>\n",
       "</table>\n",
       "</div>"
      ],
      "text/plain": [
       "   User-ID        ISBN  Book-Rating\n",
       "0   276725  034545104X            0\n",
       "1   276726  0155061224            5\n",
       "2   276727  0446520802            0\n",
       "3   276729  052165615X            3\n",
       "4   276729  0521795028            6"
      ]
     },
     "execution_count": 20,
     "metadata": {},
     "output_type": "execute_result"
    }
   ],
   "source": [
    "rating_dataset.head()"
   ]
  },
  {
   "cell_type": "markdown",
   "id": "1bc09dc7",
   "metadata": {
    "papermill": {
     "duration": 0.061999,
     "end_time": "2021-10-07T10:27:10.926381",
     "exception": false,
     "start_time": "2021-10-07T10:27:10.864382",
     "status": "completed"
    },
    "tags": []
   },
   "source": [
    "Memberi nama header baru pada kolom Book-Rating dan User-ID pada rating_dataset"
   ]
  },
  {
   "cell_type": "code",
   "execution_count": 21,
   "id": "f3978680",
   "metadata": {
    "execution": {
     "iopub.execute_input": "2021-10-07T10:27:11.056731Z",
     "iopub.status.busy": "2021-10-07T10:27:11.055556Z",
     "iopub.status.idle": "2021-10-07T10:27:11.084772Z",
     "shell.execute_reply": "2021-10-07T10:27:11.084334Z",
     "shell.execute_reply.started": "2021-10-06T18:00:12.97133Z"
    },
    "papermill": {
     "duration": 0.095721,
     "end_time": "2021-10-07T10:27:11.084894",
     "exception": false,
     "start_time": "2021-10-07T10:27:10.989173",
     "status": "completed"
    },
    "tags": []
   },
   "outputs": [],
   "source": [
    "rating_dataset = rating_dataset.rename(columns={'Book-Rating': 'rating','User-ID':'user_id'})"
   ]
  },
  {
   "cell_type": "markdown",
   "id": "ac062c16",
   "metadata": {
    "papermill": {
     "duration": 0.063344,
     "end_time": "2021-10-07T10:27:11.211323",
     "exception": false,
     "start_time": "2021-10-07T10:27:11.147979",
     "status": "completed"
    },
    "tags": []
   },
   "source": [
    "Melihat dari dataframe dari rating dan books terbilang banyak, di sini saya hanya mengambil 10000 row dari book dataset dan 5000 row untuk rating dataset"
   ]
  },
  {
   "cell_type": "code",
   "execution_count": 22,
   "id": "76d31123",
   "metadata": {
    "execution": {
     "iopub.execute_input": "2021-10-07T10:27:11.341543Z",
     "iopub.status.busy": "2021-10-07T10:27:11.340911Z",
     "iopub.status.idle": "2021-10-07T10:27:11.343641Z",
     "shell.execute_reply": "2021-10-07T10:27:11.344014Z",
     "shell.execute_reply.started": "2021-10-06T18:00:13.005115Z"
    },
    "papermill": {
     "duration": 0.069728,
     "end_time": "2021-10-07T10:27:11.344159",
     "exception": false,
     "start_time": "2021-10-07T10:27:11.274431",
     "status": "completed"
    },
    "tags": []
   },
   "outputs": [],
   "source": [
    "book_dataset = book_dataset[:10000]\n",
    "rating_dataset=rating_dataset[:5000]"
   ]
  },
  {
   "cell_type": "markdown",
   "id": "193a7f4b",
   "metadata": {
    "papermill": {
     "duration": 0.061422,
     "end_time": "2021-10-07T10:27:11.467793",
     "exception": false,
     "start_time": "2021-10-07T10:27:11.406371",
     "status": "completed"
    },
    "tags": []
   },
   "source": [
    "Cell code di bawah ini dapat dijadikan pertimbangan dalam memproses data, dikarenakan banyak data rating yang bernilai 0, maka ada 2 pilihan, yaitu:\n",
    "- Membuang semua row yang memiliki nilai 0 pada kolom rating pada rating dataset\n",
    "- Tetap menggunakan nilai 0 karena 0 bukanlah nilai NaN\n",
    "\n",
    "Pada notebook kali ini, saya memilih pilihan kedua di mana nilai 0 bukanlah nilai NaN dan tidak membuang row dengan nilai rating 0"
   ]
  },
  {
   "cell_type": "code",
   "execution_count": 23,
   "id": "1750ee2f",
   "metadata": {
    "execution": {
     "iopub.execute_input": "2021-10-07T10:27:11.597232Z",
     "iopub.status.busy": "2021-10-07T10:27:11.596609Z",
     "iopub.status.idle": "2021-10-07T10:27:11.600220Z",
     "shell.execute_reply": "2021-10-07T10:27:11.599749Z",
     "shell.execute_reply.started": "2021-10-06T18:00:13.01054Z"
    },
    "papermill": {
     "duration": 0.070816,
     "end_time": "2021-10-07T10:27:11.600334",
     "exception": false,
     "start_time": "2021-10-07T10:27:11.529518",
     "status": "completed"
    },
    "tags": []
   },
   "outputs": [],
   "source": [
    "# rating_dataset = rating_dataset.drop(rating_dataset[rating_dataset.rating == 0].index)"
   ]
  },
  {
   "cell_type": "markdown",
   "id": "832fd9fb",
   "metadata": {
    "papermill": {
     "duration": 0.063763,
     "end_time": "2021-10-07T10:27:11.727271",
     "exception": false,
     "start_time": "2021-10-07T10:27:11.663508",
     "status": "completed"
    },
    "tags": []
   },
   "source": [
    "Meneliti 5 data teratas dari dataset rating"
   ]
  },
  {
   "cell_type": "code",
   "execution_count": 24,
   "id": "038d7481",
   "metadata": {
    "execution": {
     "iopub.execute_input": "2021-10-07T10:27:11.858953Z",
     "iopub.status.busy": "2021-10-07T10:27:11.858011Z",
     "iopub.status.idle": "2021-10-07T10:27:11.861695Z",
     "shell.execute_reply": "2021-10-07T10:27:11.862071Z",
     "shell.execute_reply.started": "2021-10-06T18:00:13.019944Z"
    },
    "papermill": {
     "duration": 0.073276,
     "end_time": "2021-10-07T10:27:11.862202",
     "exception": false,
     "start_time": "2021-10-07T10:27:11.788926",
     "status": "completed"
    },
    "tags": []
   },
   "outputs": [
    {
     "data": {
      "text/html": [
       "<div>\n",
       "<style scoped>\n",
       "    .dataframe tbody tr th:only-of-type {\n",
       "        vertical-align: middle;\n",
       "    }\n",
       "\n",
       "    .dataframe tbody tr th {\n",
       "        vertical-align: top;\n",
       "    }\n",
       "\n",
       "    .dataframe thead th {\n",
       "        text-align: right;\n",
       "    }\n",
       "</style>\n",
       "<table border=\"1\" class=\"dataframe\">\n",
       "  <thead>\n",
       "    <tr style=\"text-align: right;\">\n",
       "      <th></th>\n",
       "      <th>user_id</th>\n",
       "      <th>ISBN</th>\n",
       "      <th>rating</th>\n",
       "    </tr>\n",
       "  </thead>\n",
       "  <tbody>\n",
       "    <tr>\n",
       "      <th>0</th>\n",
       "      <td>276725</td>\n",
       "      <td>034545104X</td>\n",
       "      <td>0</td>\n",
       "    </tr>\n",
       "    <tr>\n",
       "      <th>1</th>\n",
       "      <td>276726</td>\n",
       "      <td>0155061224</td>\n",
       "      <td>5</td>\n",
       "    </tr>\n",
       "    <tr>\n",
       "      <th>2</th>\n",
       "      <td>276727</td>\n",
       "      <td>0446520802</td>\n",
       "      <td>0</td>\n",
       "    </tr>\n",
       "    <tr>\n",
       "      <th>3</th>\n",
       "      <td>276729</td>\n",
       "      <td>052165615X</td>\n",
       "      <td>3</td>\n",
       "    </tr>\n",
       "    <tr>\n",
       "      <th>4</th>\n",
       "      <td>276729</td>\n",
       "      <td>0521795028</td>\n",
       "      <td>6</td>\n",
       "    </tr>\n",
       "  </tbody>\n",
       "</table>\n",
       "</div>"
      ],
      "text/plain": [
       "   user_id        ISBN  rating\n",
       "0   276725  034545104X       0\n",
       "1   276726  0155061224       5\n",
       "2   276727  0446520802       0\n",
       "3   276729  052165615X       3\n",
       "4   276729  0521795028       6"
      ]
     },
     "execution_count": 24,
     "metadata": {},
     "output_type": "execute_result"
    }
   ],
   "source": [
    "rating_dataset.head()"
   ]
  },
  {
   "cell_type": "markdown",
   "id": "5b8262cf",
   "metadata": {
    "papermill": {
     "duration": 0.061825,
     "end_time": "2021-10-07T10:27:11.985766",
     "exception": false,
     "start_time": "2021-10-07T10:27:11.923941",
     "status": "completed"
    },
    "tags": []
   },
   "source": [
    "Meneliti 5 data teratas dari dataset buku"
   ]
  },
  {
   "cell_type": "code",
   "execution_count": 25,
   "id": "b78bb21e",
   "metadata": {
    "execution": {
     "iopub.execute_input": "2021-10-07T10:27:12.123451Z",
     "iopub.status.busy": "2021-10-07T10:27:12.112618Z",
     "iopub.status.idle": "2021-10-07T10:27:12.126027Z",
     "shell.execute_reply": "2021-10-07T10:27:12.126436Z",
     "shell.execute_reply.started": "2021-10-06T18:00:13.035341Z"
    },
    "papermill": {
     "duration": 0.078239,
     "end_time": "2021-10-07T10:27:12.126555",
     "exception": false,
     "start_time": "2021-10-07T10:27:12.048316",
     "status": "completed"
    },
    "tags": []
   },
   "outputs": [
    {
     "data": {
      "text/html": [
       "<div>\n",
       "<style scoped>\n",
       "    .dataframe tbody tr th:only-of-type {\n",
       "        vertical-align: middle;\n",
       "    }\n",
       "\n",
       "    .dataframe tbody tr th {\n",
       "        vertical-align: top;\n",
       "    }\n",
       "\n",
       "    .dataframe thead th {\n",
       "        text-align: right;\n",
       "    }\n",
       "</style>\n",
       "<table border=\"1\" class=\"dataframe\">\n",
       "  <thead>\n",
       "    <tr style=\"text-align: right;\">\n",
       "      <th></th>\n",
       "      <th>ISBN</th>\n",
       "      <th>Book-Title</th>\n",
       "      <th>Book-Author</th>\n",
       "      <th>Year-Of-Publication</th>\n",
       "      <th>Publisher</th>\n",
       "      <th>Image-URL-S</th>\n",
       "      <th>Image-URL-M</th>\n",
       "      <th>Image-URL-L</th>\n",
       "    </tr>\n",
       "  </thead>\n",
       "  <tbody>\n",
       "    <tr>\n",
       "      <th>0</th>\n",
       "      <td>0195153448</td>\n",
       "      <td>Classical Mythology</td>\n",
       "      <td>Mark P. O. Morford</td>\n",
       "      <td>2002</td>\n",
       "      <td>Oxford University Press</td>\n",
       "      <td>http://images.amazon.com/images/P/0195153448.0...</td>\n",
       "      <td>http://images.amazon.com/images/P/0195153448.0...</td>\n",
       "      <td>http://images.amazon.com/images/P/0195153448.0...</td>\n",
       "    </tr>\n",
       "    <tr>\n",
       "      <th>1</th>\n",
       "      <td>0002005018</td>\n",
       "      <td>Clara Callan</td>\n",
       "      <td>Richard Bruce Wright</td>\n",
       "      <td>2001</td>\n",
       "      <td>HarperFlamingo Canada</td>\n",
       "      <td>http://images.amazon.com/images/P/0002005018.0...</td>\n",
       "      <td>http://images.amazon.com/images/P/0002005018.0...</td>\n",
       "      <td>http://images.amazon.com/images/P/0002005018.0...</td>\n",
       "    </tr>\n",
       "    <tr>\n",
       "      <th>2</th>\n",
       "      <td>0060973129</td>\n",
       "      <td>Decision in Normandy</td>\n",
       "      <td>Carlo D'Este</td>\n",
       "      <td>1991</td>\n",
       "      <td>HarperPerennial</td>\n",
       "      <td>http://images.amazon.com/images/P/0060973129.0...</td>\n",
       "      <td>http://images.amazon.com/images/P/0060973129.0...</td>\n",
       "      <td>http://images.amazon.com/images/P/0060973129.0...</td>\n",
       "    </tr>\n",
       "    <tr>\n",
       "      <th>3</th>\n",
       "      <td>0374157065</td>\n",
       "      <td>Flu: The Story of the Great Influenza Pandemic...</td>\n",
       "      <td>Gina Bari Kolata</td>\n",
       "      <td>1999</td>\n",
       "      <td>Farrar Straus Giroux</td>\n",
       "      <td>http://images.amazon.com/images/P/0374157065.0...</td>\n",
       "      <td>http://images.amazon.com/images/P/0374157065.0...</td>\n",
       "      <td>http://images.amazon.com/images/P/0374157065.0...</td>\n",
       "    </tr>\n",
       "    <tr>\n",
       "      <th>4</th>\n",
       "      <td>0393045218</td>\n",
       "      <td>The Mummies of Urumchi</td>\n",
       "      <td>E. J. W. Barber</td>\n",
       "      <td>1999</td>\n",
       "      <td>W. W. Norton &amp;amp; Company</td>\n",
       "      <td>http://images.amazon.com/images/P/0393045218.0...</td>\n",
       "      <td>http://images.amazon.com/images/P/0393045218.0...</td>\n",
       "      <td>http://images.amazon.com/images/P/0393045218.0...</td>\n",
       "    </tr>\n",
       "  </tbody>\n",
       "</table>\n",
       "</div>"
      ],
      "text/plain": [
       "         ISBN                                         Book-Title  \\\n",
       "0  0195153448                                Classical Mythology   \n",
       "1  0002005018                                       Clara Callan   \n",
       "2  0060973129                               Decision in Normandy   \n",
       "3  0374157065  Flu: The Story of the Great Influenza Pandemic...   \n",
       "4  0393045218                             The Mummies of Urumchi   \n",
       "\n",
       "            Book-Author Year-Of-Publication                   Publisher  \\\n",
       "0    Mark P. O. Morford                2002     Oxford University Press   \n",
       "1  Richard Bruce Wright                2001       HarperFlamingo Canada   \n",
       "2          Carlo D'Este                1991             HarperPerennial   \n",
       "3      Gina Bari Kolata                1999        Farrar Straus Giroux   \n",
       "4       E. J. W. Barber                1999  W. W. Norton &amp; Company   \n",
       "\n",
       "                                         Image-URL-S  \\\n",
       "0  http://images.amazon.com/images/P/0195153448.0...   \n",
       "1  http://images.amazon.com/images/P/0002005018.0...   \n",
       "2  http://images.amazon.com/images/P/0060973129.0...   \n",
       "3  http://images.amazon.com/images/P/0374157065.0...   \n",
       "4  http://images.amazon.com/images/P/0393045218.0...   \n",
       "\n",
       "                                         Image-URL-M  \\\n",
       "0  http://images.amazon.com/images/P/0195153448.0...   \n",
       "1  http://images.amazon.com/images/P/0002005018.0...   \n",
       "2  http://images.amazon.com/images/P/0060973129.0...   \n",
       "3  http://images.amazon.com/images/P/0374157065.0...   \n",
       "4  http://images.amazon.com/images/P/0393045218.0...   \n",
       "\n",
       "                                         Image-URL-L  \n",
       "0  http://images.amazon.com/images/P/0195153448.0...  \n",
       "1  http://images.amazon.com/images/P/0002005018.0...  \n",
       "2  http://images.amazon.com/images/P/0060973129.0...  \n",
       "3  http://images.amazon.com/images/P/0374157065.0...  \n",
       "4  http://images.amazon.com/images/P/0393045218.0...  "
      ]
     },
     "execution_count": 25,
     "metadata": {},
     "output_type": "execute_result"
    }
   ],
   "source": [
    "book_dataset.head()"
   ]
  },
  {
   "cell_type": "markdown",
   "id": "76f66bf0",
   "metadata": {
    "papermill": {
     "duration": 0.062716,
     "end_time": "2021-10-07T10:27:12.252328",
     "exception": false,
     "start_time": "2021-10-07T10:27:12.189612",
     "status": "completed"
    },
    "tags": []
   },
   "source": [
    "Memberi nama header baru pada kolom Book-Title, Book-Author, Image-URL-S, Image-URL-S,Image-URL-M,Image-URL-L pada book_dataset"
   ]
  },
  {
   "cell_type": "code",
   "execution_count": 26,
   "id": "00286382",
   "metadata": {
    "execution": {
     "iopub.execute_input": "2021-10-07T10:27:12.382300Z",
     "iopub.status.busy": "2021-10-07T10:27:12.381500Z",
     "iopub.status.idle": "2021-10-07T10:27:12.385143Z",
     "shell.execute_reply": "2021-10-07T10:27:12.385541Z",
     "shell.execute_reply.started": "2021-10-06T18:00:13.054316Z"
    },
    "papermill": {
     "duration": 0.070889,
     "end_time": "2021-10-07T10:27:12.385663",
     "exception": false,
     "start_time": "2021-10-07T10:27:12.314774",
     "status": "completed"
    },
    "tags": []
   },
   "outputs": [],
   "source": [
    "book_dataset = book_dataset.rename(columns={'Book-Title': 'book_title','Book-Author':'book_author','Year-Of-Publication':'year_of_publication','Image-URL-S':'Image_URL_S','Image-URL-M':'Image_URL_M','Image-URL-L':'Image_URL_L'})"
   ]
  },
  {
   "cell_type": "markdown",
   "id": "15cf73e8",
   "metadata": {
    "papermill": {
     "duration": 0.062556,
     "end_time": "2021-10-07T10:27:12.510680",
     "exception": false,
     "start_time": "2021-10-07T10:27:12.448124",
     "status": "completed"
    },
    "tags": []
   },
   "source": [
    "Meneliti id buku - buku apa saja yang di-rate 10 oleh pengguna"
   ]
  },
  {
   "cell_type": "code",
   "execution_count": 1,
   "id": "cedeeec7",
   "metadata": {
    "execution": {
     "iopub.execute_input": "2021-10-07T10:27:12.641437Z",
     "iopub.status.busy": "2021-10-07T10:27:12.640744Z",
     "iopub.status.idle": "2021-10-07T10:27:12.656326Z",
     "shell.execute_reply": "2021-10-07T10:27:12.656730Z",
     "shell.execute_reply.started": "2021-10-06T18:00:13.102296Z"
    },
    "papermill": {
     "duration": 0.08382,
     "end_time": "2021-10-07T10:27:12.656854",
     "exception": false,
     "start_time": "2021-10-07T10:27:12.573034",
     "status": "completed"
    },
    "tags": []
   },
   "outputs": [
    {
     "ename": "NameError",
     "evalue": "name 'rating_dataset' is not defined",
     "output_type": "error",
     "traceback": [
      "\u001b[1;31m---------------------------------------------------------------------------\u001b[0m",
      "\u001b[1;31mNameError\u001b[0m                                 Traceback (most recent call last)",
      "\u001b[1;32m~\\AppData\\Local\\Temp/ipykernel_3584/2931898957.py\u001b[0m in \u001b[0;36m<module>\u001b[1;34m\u001b[0m\n\u001b[1;32m----> 1\u001b[1;33m \u001b[0mrating_dataset\u001b[0m\u001b[1;33m[\u001b[0m\u001b[0mrating_dataset\u001b[0m\u001b[1;33m.\u001b[0m\u001b[0mrating\u001b[0m \u001b[1;33m==\u001b[0m \u001b[0mmax\u001b[0m\u001b[1;33m(\u001b[0m\u001b[0mrating_dataset\u001b[0m\u001b[1;33m.\u001b[0m\u001b[0mrating\u001b[0m\u001b[1;33m)\u001b[0m\u001b[1;33m]\u001b[0m\u001b[1;33m\u001b[0m\u001b[1;33m\u001b[0m\u001b[0m\n\u001b[0m\u001b[0;32m      2\u001b[0m \u001b[0mbest_booksId\u001b[0m \u001b[1;33m=\u001b[0m \u001b[0mrating_dataset\u001b[0m\u001b[1;33m.\u001b[0m\u001b[0mISBN\u001b[0m\u001b[1;33m[\u001b[0m\u001b[0mrating_dataset\u001b[0m\u001b[1;33m.\u001b[0m\u001b[0mrating\u001b[0m \u001b[1;33m==\u001b[0m \u001b[0mmax\u001b[0m\u001b[1;33m(\u001b[0m\u001b[0mrating_dataset\u001b[0m\u001b[1;33m.\u001b[0m\u001b[0mrating\u001b[0m\u001b[1;33m)\u001b[0m\u001b[1;33m]\u001b[0m\u001b[1;33m\u001b[0m\u001b[1;33m\u001b[0m\u001b[0m\n\u001b[0;32m      3\u001b[0m \u001b[0mprint\u001b[0m\u001b[1;33m(\u001b[0m\u001b[0mrating_dataset\u001b[0m\u001b[1;33m.\u001b[0m\u001b[0mISBN\u001b[0m\u001b[1;33m)\u001b[0m\u001b[1;33m\u001b[0m\u001b[1;33m\u001b[0m\u001b[0m\n\u001b[0;32m      4\u001b[0m \u001b[0mbest_booksId\u001b[0m \u001b[1;33m=\u001b[0m \u001b[0mlist\u001b[0m\u001b[1;33m(\u001b[0m\u001b[0mdict\u001b[0m\u001b[1;33m.\u001b[0m\u001b[0mfromkeys\u001b[0m\u001b[1;33m(\u001b[0m\u001b[0mbest_booksId\u001b[0m\u001b[1;33m)\u001b[0m\u001b[1;33m)\u001b[0m\u001b[1;33m\u001b[0m\u001b[1;33m\u001b[0m\u001b[0m\n",
      "\u001b[1;31mNameError\u001b[0m: name 'rating_dataset' is not defined"
     ]
    }
   ],
   "source": [
    "rating_dataset[rating_dataset.rating == max(rating_dataset.rating)]\n",
    "best_booksId = rating_dataset.ISBN[rating_dataset.rating == max(rating_dataset.rating)]\n",
    "best_booksId = list(dict.fromkeys(best_booksId))"
   ]
  },
  {
   "cell_type": "markdown",
   "id": "8fa6cd85",
   "metadata": {
    "papermill": {
     "duration": 0.063103,
     "end_time": "2021-10-07T10:27:12.782688",
     "exception": false,
     "start_time": "2021-10-07T10:27:12.719585",
     "status": "completed"
    },
    "tags": []
   },
   "source": [
    "Meneliti buku - buku apa saja yang di-rate 10 oleh pengguna"
   ]
  },
  {
   "cell_type": "code",
   "execution_count": 28,
   "id": "269e27b4",
   "metadata": {
    "execution": {
     "iopub.execute_input": "2021-10-07T10:27:13.205488Z",
     "iopub.status.busy": "2021-10-07T10:27:13.051433Z",
     "iopub.status.idle": "2021-10-07T10:27:13.418963Z",
     "shell.execute_reply": "2021-10-07T10:27:13.418515Z",
     "shell.execute_reply.started": "2021-10-06T18:00:13.447827Z"
    },
    "papermill": {
     "duration": 0.573369,
     "end_time": "2021-10-07T10:27:13.419139",
     "exception": false,
     "start_time": "2021-10-07T10:27:12.845770",
     "status": "completed"
    },
    "tags": []
   },
   "outputs": [],
   "source": [
    "best_books = []\n",
    "for i in best_booksId:\n",
    "    books_name = book_dataset.book_title[book_dataset.ISBN == i]\n",
    "    best_books.append(books_name)"
   ]
  },
  {
   "cell_type": "code",
   "execution_count": 29,
   "id": "12258cf5",
   "metadata": {
    "execution": {
     "iopub.execute_input": "2021-10-07T10:27:13.601736Z",
     "iopub.status.busy": "2021-10-07T10:27:13.600935Z",
     "iopub.status.idle": "2021-10-07T10:27:13.604906Z",
     "shell.execute_reply": "2021-10-07T10:27:13.605335Z"
    },
    "papermill": {
     "duration": 0.123052,
     "end_time": "2021-10-07T10:27:13.605468",
     "exception": false,
     "start_time": "2021-10-07T10:27:13.482416",
     "status": "completed"
    },
    "tags": []
   },
   "outputs": [
    {
     "data": {
      "text/plain": [
       "[Series([], Name: book_title, dtype: object),\n",
       " Series([], Name: book_title, dtype: object),\n",
       " Series([], Name: book_title, dtype: object),\n",
       " Series([], Name: book_title, dtype: object),\n",
       " Series([], Name: book_title, dtype: object),\n",
       " Series([], Name: book_title, dtype: object),\n",
       " 5731    The Watsons Go to Birmingham - 1963 (Yearling ...\n",
       " Name: book_title, dtype: object,\n",
       " Series([], Name: book_title, dtype: object),\n",
       " Series([], Name: book_title, dtype: object),\n",
       " Series([], Name: book_title, dtype: object),\n",
       " Series([], Name: book_title, dtype: object),\n",
       " Series([], Name: book_title, dtype: object),\n",
       " Series([], Name: book_title, dtype: object),\n",
       " Series([], Name: book_title, dtype: object),\n",
       " Series([], Name: book_title, dtype: object),\n",
       " Series([], Name: book_title, dtype: object),\n",
       " 8271    Auf Ehre und Gewissen. Roman.\n",
       " Name: book_title, dtype: object,\n",
       " 5732    Im Angesicht des Feindes.\n",
       " Name: book_title, dtype: object,\n",
       " Series([], Name: book_title, dtype: object),\n",
       " Series([], Name: book_title, dtype: object),\n",
       " Series([], Name: book_title, dtype: object),\n",
       " Series([], Name: book_title, dtype: object),\n",
       " Series([], Name: book_title, dtype: object),\n",
       " Series([], Name: book_title, dtype: object),\n",
       " Series([], Name: book_title, dtype: object),\n",
       " Series([], Name: book_title, dtype: object),\n",
       " Series([], Name: book_title, dtype: object),\n",
       " Series([], Name: book_title, dtype: object),\n",
       " Series([], Name: book_title, dtype: object),\n",
       " Series([], Name: book_title, dtype: object),\n",
       " Series([], Name: book_title, dtype: object),\n",
       " Series([], Name: book_title, dtype: object),\n",
       " Series([], Name: book_title, dtype: object),\n",
       " 2884    The King of Torts\n",
       " Name: book_title, dtype: object,\n",
       " Series([], Name: book_title, dtype: object),\n",
       " Series([], Name: book_title, dtype: object),\n",
       " 3739    Politically Correct Bedtime Stories: Modern Ta...\n",
       " Name: book_title, dtype: object,\n",
       " 4349    La Sombra del Viento\n",
       " Name: book_title, dtype: object,\n",
       " Series([], Name: book_title, dtype: object),\n",
       " Series([], Name: book_title, dtype: object),\n",
       " Series([], Name: book_title, dtype: object),\n",
       " 7293    Sons of Entropy  (Buffy the Vampire Slayer: Th...\n",
       " Name: book_title, dtype: object,\n",
       " Series([], Name: book_title, dtype: object),\n",
       " Series([], Name: book_title, dtype: object),\n",
       " Series([], Name: book_title, dtype: object),\n",
       " 5677    Les Heures / The Hours\n",
       " Name: book_title, dtype: object,\n",
       " Series([], Name: book_title, dtype: object),\n",
       " Series([], Name: book_title, dtype: object),\n",
       " 37    To Kill a Mockingbird\n",
       " Name: book_title, dtype: object,\n",
       " Series([], Name: book_title, dtype: object),\n",
       " Series([], Name: book_title, dtype: object),\n",
       " Series([], Name: book_title, dtype: object),\n",
       " 7082    The Terminal Man\n",
       " Name: book_title, dtype: object,\n",
       " Series([], Name: book_title, dtype: object),\n",
       " Series([], Name: book_title, dtype: object),\n",
       " 2251    The Fires of Heaven (The Wheel of Time, Book 5)\n",
       " Name: book_title, dtype: object,\n",
       " Series([], Name: book_title, dtype: object),\n",
       " Series([], Name: book_title, dtype: object),\n",
       " Series([], Name: book_title, dtype: object),\n",
       " Series([], Name: book_title, dtype: object),\n",
       " 670    The Bell Jar : A Novel (Perennial Classics)\n",
       " Name: book_title, dtype: object,\n",
       " 4726    The Idiot Girls' Action Adventure Club\n",
       " Name: book_title, dtype: object,\n",
       " 9921    Go Ask Alice\n",
       " Name: book_title, dtype: object,\n",
       " Series([], Name: book_title, dtype: object),\n",
       " Series([], Name: book_title, dtype: object),\n",
       " Series([], Name: book_title, dtype: object),\n",
       " Series([], Name: book_title, dtype: object),\n",
       " Series([], Name: book_title, dtype: object),\n",
       " Series([], Name: book_title, dtype: object),\n",
       " 6347    Restaurant At the End of the Universe\n",
       " Name: book_title, dtype: object,\n",
       " 1281    Choke\n",
       " Name: book_title, dtype: object,\n",
       " Series([], Name: book_title, dtype: object),\n",
       " Series([], Name: book_title, dtype: object),\n",
       " Series([], Name: book_title, dtype: object),\n",
       " 9333    Beauty: A Retelling of the Story of Beauty and...\n",
       " Name: book_title, dtype: object,\n",
       " Series([], Name: book_title, dtype: object),\n",
       " 2641    Reading Lolita in Tehran: A Memoir in Books\n",
       " Name: book_title, dtype: object,\n",
       " 5088    I Am Legend\n",
       " Name: book_title, dtype: object,\n",
       " Series([], Name: book_title, dtype: object),\n",
       " Series([], Name: book_title, dtype: object),\n",
       " 5649    Holes (Yearling Newbery)\n",
       " Name: book_title, dtype: object,\n",
       " Series([], Name: book_title, dtype: object),\n",
       " 166    Bridget Jones's Diary\n",
       " Name: book_title, dtype: object,\n",
       " Series([], Name: book_title, dtype: object),\n",
       " Series([], Name: book_title, dtype: object),\n",
       " Series([], Name: book_title, dtype: object),\n",
       " Series([], Name: book_title, dtype: object),\n",
       " 485    She's Come Undone (Oprah's Book Club)\n",
       " Name: book_title, dtype: object,\n",
       " Series([], Name: book_title, dtype: object),\n",
       " Series([], Name: book_title, dtype: object),\n",
       " Series([], Name: book_title, dtype: object),\n",
       " 235    Clifford's Sports Day\n",
       " Name: book_title, dtype: object,\n",
       " Series([], Name: book_title, dtype: object),\n",
       " Series([], Name: book_title, dtype: object),\n",
       " 4467    White Teeth: A Novel\n",
       " Name: book_title, dtype: object,\n",
       " Series([], Name: book_title, dtype: object),\n",
       " 231    Girl with a Pearl Earring\n",
       " Name: book_title, dtype: object,\n",
       " Series([], Name: book_title, dtype: object),\n",
       " Series([], Name: book_title, dtype: object),\n",
       " Series([], Name: book_title, dtype: object),\n",
       " Series([], Name: book_title, dtype: object),\n",
       " Series([], Name: book_title, dtype: object),\n",
       " Series([], Name: book_title, dtype: object),\n",
       " Series([], Name: book_title, dtype: object),\n",
       " Series([], Name: book_title, dtype: object),\n",
       " 1988    The Murder Book\n",
       " Name: book_title, dtype: object,\n",
       " Series([], Name: book_title, dtype: object),\n",
       " 5399    The Once and Future King\n",
       " Name: book_title, dtype: object,\n",
       " Series([], Name: book_title, dtype: object),\n",
       " 4433    Saving Faith\n",
       " Name: book_title, dtype: object,\n",
       " Series([], Name: book_title, dtype: object),\n",
       " Series([], Name: book_title, dtype: object),\n",
       " 9541    Doomsday Book\n",
       " Name: book_title, dtype: object,\n",
       " 1216    The Beekeeper's Apprentice\n",
       " Name: book_title, dtype: object,\n",
       " Series([], Name: book_title, dtype: object),\n",
       " Series([], Name: book_title, dtype: object),\n",
       " Series([], Name: book_title, dtype: object),\n",
       " Series([], Name: book_title, dtype: object),\n",
       " Series([], Name: book_title, dtype: object),\n",
       " Series([], Name: book_title, dtype: object),\n",
       " 3623    The Golden Mean: In Which the Extraordinary Co...\n",
       " Name: book_title, dtype: object,\n",
       " Series([], Name: book_title, dtype: object),\n",
       " Series([], Name: book_title, dtype: object),\n",
       " Series([], Name: book_title, dtype: object),\n",
       " Series([], Name: book_title, dtype: object),\n",
       " Series([], Name: book_title, dtype: object),\n",
       " Series([], Name: book_title, dtype: object),\n",
       " 4949    Dilbert Fugitive From The Cubicle Police\n",
       " Name: book_title, dtype: object,\n",
       " Series([], Name: book_title, dtype: object),\n",
       " Series([], Name: book_title, dtype: object),\n",
       " Series([], Name: book_title, dtype: object),\n",
       " Series([], Name: book_title, dtype: object),\n",
       " Series([], Name: book_title, dtype: object),\n",
       " Series([], Name: book_title, dtype: object),\n",
       " Series([], Name: book_title, dtype: object),\n",
       " Series([], Name: book_title, dtype: object),\n",
       " Series([], Name: book_title, dtype: object),\n",
       " Series([], Name: book_title, dtype: object),\n",
       " Series([], Name: book_title, dtype: object),\n",
       " Series([], Name: book_title, dtype: object),\n",
       " Series([], Name: book_title, dtype: object),\n",
       " Series([], Name: book_title, dtype: object),\n",
       " Series([], Name: book_title, dtype: object),\n",
       " Series([], Name: book_title, dtype: object),\n",
       " Series([], Name: book_title, dtype: object),\n",
       " Series([], Name: book_title, dtype: object),\n",
       " 2683    The Visitor (Animorphs, No 2)\n",
       " Name: book_title, dtype: object,\n",
       " 2684    The Encounter (Animorphs , No 3)\n",
       " Name: book_title, dtype: object,\n",
       " 2655    The Message (Animorphs , No 4)\n",
       " Name: book_title, dtype: object,\n",
       " Series([], Name: book_title, dtype: object),\n",
       " 522    The Red Tent (Bestselling Backlist)\n",
       " Name: book_title, dtype: object,\n",
       " 8115    Fischer TaschenbÃ?Â¼cher, Bd.26, SchÃ?Â¶ne neu...\n",
       " Name: book_title, dtype: object,\n",
       " Series([], Name: book_title, dtype: object),\n",
       " Series([], Name: book_title, dtype: object),\n",
       " Series([], Name: book_title, dtype: object),\n",
       " Series([], Name: book_title, dtype: object),\n",
       " 3820    The Clan of the Cave Bear : a novel\n",
       " Name: book_title, dtype: object,\n",
       " Series([], Name: book_title, dtype: object),\n",
       " Series([], Name: book_title, dtype: object),\n",
       " Series([], Name: book_title, dtype: object),\n",
       " Series([], Name: book_title, dtype: object),\n",
       " Series([], Name: book_title, dtype: object),\n",
       " 7356    Ten Big Ones: A Stephanie Plum Novel\n",
       " Name: book_title, dtype: object,\n",
       " 7354    3rd Degree\n",
       " Name: book_title, dtype: object,\n",
       " 788    2nd Chance\n",
       " Name: book_title, dtype: object,\n",
       " 6029    The Conspiracy Club\n",
       " Name: book_title, dtype: object,\n",
       " 8044    Therapy\n",
       " Name: book_title, dtype: object,\n",
       " 3415    Ransom (Steel, Danielle)\n",
       " Name: book_title, dtype: object,\n",
       " Series([], Name: book_title, dtype: object),\n",
       " 219    The King of Torts\n",
       " Name: book_title, dtype: object,\n",
       " 1452    The Last Juror\n",
       " Name: book_title, dtype: object,\n",
       " Series([], Name: book_title, dtype: object),\n",
       " Series([], Name: book_title, dtype: object),\n",
       " Series([], Name: book_title, dtype: object),\n",
       " 7933    The Jester\n",
       " Name: book_title, dtype: object,\n",
       " 8957    Hemlock Bay\n",
       " Name: book_title, dtype: object,\n",
       " Series([], Name: book_title, dtype: object),\n",
       " Series([], Name: book_title, dtype: object),\n",
       " 3307    The Tail of the Tip-Off\n",
       " Name: book_title, dtype: object,\n",
       " Series([], Name: book_title, dtype: object),\n",
       " Series([], Name: book_title, dtype: object),\n",
       " 1679    Before I Say Good-Bye : A Novel\n",
       " Name: book_title, dtype: object,\n",
       " Series([], Name: book_title, dtype: object),\n",
       " 763    Daddy's Little Girl\n",
       " Name: book_title, dtype: object,\n",
       " 250    Chicken Soup for the Woman's Soul (Chicken Sou...\n",
       " Name: book_title, dtype: object,\n",
       " Series([], Name: book_title, dtype: object),\n",
       " Series([], Name: book_title, dtype: object),\n",
       " Series([], Name: book_title, dtype: object),\n",
       " Series([], Name: book_title, dtype: object),\n",
       " 6253    The Hobbit\n",
       " Name: book_title, dtype: object,\n",
       " Series([], Name: book_title, dtype: object),\n",
       " Series([], Name: book_title, dtype: object),\n",
       " Series([], Name: book_title, dtype: object),\n",
       " Series([], Name: book_title, dtype: object),\n",
       " Series([], Name: book_title, dtype: object),\n",
       " Series([], Name: book_title, dtype: object),\n",
       " Series([], Name: book_title, dtype: object),\n",
       " Series([], Name: book_title, dtype: object),\n",
       " Series([], Name: book_title, dtype: object),\n",
       " 6059    Sleep No More\n",
       " Name: book_title, dtype: object,\n",
       " Series([], Name: book_title, dtype: object),\n",
       " Series([], Name: book_title, dtype: object),\n",
       " Series([], Name: book_title, dtype: object),\n",
       " Series([], Name: book_title, dtype: object),\n",
       " 38    Seabiscuit: An American Legend\n",
       " Name: book_title, dtype: object,\n",
       " Series([], Name: book_title, dtype: object),\n",
       " Series([], Name: book_title, dtype: object),\n",
       " Series([], Name: book_title, dtype: object),\n",
       " Series([], Name: book_title, dtype: object),\n",
       " 2667    50 Simple Things You Can Do to Save the Earth\n",
       " Name: book_title, dtype: object,\n",
       " 2355    Murder on the Orient Express (Hercule Poirot M...\n",
       " Name: book_title, dtype: object,\n",
       " Series([], Name: book_title, dtype: object),\n",
       " Series([], Name: book_title, dtype: object),\n",
       " Series([], Name: book_title, dtype: object),\n",
       " 9761    Hatchet\n",
       " Name: book_title, dtype: object,\n",
       " Series([], Name: book_title, dtype: object),\n",
       " Series([], Name: book_title, dtype: object),\n",
       " Series([], Name: book_title, dtype: object),\n",
       " 7690    Without Remorse\n",
       " Name: book_title, dtype: object,\n",
       " 6715    The New American Dictionary of Baby Names\n",
       " Name: book_title, dtype: object,\n",
       " Series([], Name: book_title, dtype: object),\n",
       " Series([], Name: book_title, dtype: object),\n",
       " Series([], Name: book_title, dtype: object),\n",
       " Series([], Name: book_title, dtype: object),\n",
       " Series([], Name: book_title, dtype: object),\n",
       " Series([], Name: book_title, dtype: object),\n",
       " Series([], Name: book_title, dtype: object),\n",
       " 3460    Mama Makes Up Her Mind: And Other Dangers of S...\n",
       " Name: book_title, dtype: object,\n",
       " Series([], Name: book_title, dtype: object),\n",
       " Series([], Name: book_title, dtype: object),\n",
       " Series([], Name: book_title, dtype: object),\n",
       " Series([], Name: book_title, dtype: object),\n",
       " Series([], Name: book_title, dtype: object),\n",
       " Series([], Name: book_title, dtype: object),\n",
       " Series([], Name: book_title, dtype: object),\n",
       " Series([], Name: book_title, dtype: object),\n",
       " Series([], Name: book_title, dtype: object),\n",
       " Series([], Name: book_title, dtype: object),\n",
       " Series([], Name: book_title, dtype: object),\n",
       " 2290    Tuesdays with Morrie: An Old Man, a Young Man,...\n",
       " Name: book_title, dtype: object,\n",
       " Series([], Name: book_title, dtype: object),\n",
       " 2864    ANGELA'S ASHES\n",
       " Name: book_title, dtype: object,\n",
       " Series([], Name: book_title, dtype: object),\n",
       " Series([], Name: book_title, dtype: object),\n",
       " Series([], Name: book_title, dtype: object),\n",
       " Series([], Name: book_title, dtype: object),\n",
       " Series([], Name: book_title, dtype: object),\n",
       " 7997    Last Man Standing\n",
       " Name: book_title, dtype: object,\n",
       " Series([], Name: book_title, dtype: object),\n",
       " Series([], Name: book_title, dtype: object),\n",
       " Series([], Name: book_title, dtype: object),\n",
       " Series([], Name: book_title, dtype: object),\n",
       " Series([], Name: book_title, dtype: object),\n",
       " Series([], Name: book_title, dtype: object),\n",
       " Series([], Name: book_title, dtype: object),\n",
       " Series([], Name: book_title, dtype: object),\n",
       " Series([], Name: book_title, dtype: object),\n",
       " Series([], Name: book_title, dtype: object),\n",
       " Series([], Name: book_title, dtype: object),\n",
       " Series([], Name: book_title, dtype: object),\n",
       " Series([], Name: book_title, dtype: object),\n",
       " Series([], Name: book_title, dtype: object),\n",
       " Series([], Name: book_title, dtype: object),\n",
       " 4430    House of Sand and Fog\n",
       " Name: book_title, dtype: object,\n",
       " Series([], Name: book_title, dtype: object),\n",
       " Series([], Name: book_title, dtype: object),\n",
       " 2143    Harry Potter and the Sorcerer's Stone (Harry P...\n",
       " Name: book_title, dtype: object,\n",
       " 2943    CRY THE BELOVED COUNTRY (Scribner Classic)\n",
       " Name: book_title, dtype: object,\n",
       " Series([], Name: book_title, dtype: object),\n",
       " 3019    The Good Earth (Enriched Classics)\n",
       " Name: book_title, dtype: object,\n",
       " Series([], Name: book_title, dtype: object),\n",
       " 810    The Wasp Factory\n",
       " Name: book_title, dtype: object,\n",
       " Series([], Name: book_title, dtype: object),\n",
       " Series([], Name: book_title, dtype: object),\n",
       " Series([], Name: book_title, dtype: object),\n",
       " Series([], Name: book_title, dtype: object),\n",
       " 6709    The Birth Book : Everything You Need to Know t...\n",
       " Name: book_title, dtype: object,\n",
       " Series([], Name: book_title, dtype: object),\n",
       " Series([], Name: book_title, dtype: object),\n",
       " Series([], Name: book_title, dtype: object),\n",
       " Series([], Name: book_title, dtype: object),\n",
       " Series([], Name: book_title, dtype: object),\n",
       " Series([], Name: book_title, dtype: object),\n",
       " Series([], Name: book_title, dtype: object),\n",
       " 6547    The Probable Future (Ballantine Reader's Circle)\n",
       " Name: book_title, dtype: object,\n",
       " 7717    Night over Water\n",
       " Name: book_title, dtype: object,\n",
       " 52    The Street Lawyer\n",
       " Name: book_title, dtype: object,\n",
       " 6124    War and Peace (Penguin Classics)\n",
       " Name: book_title, dtype: object,\n",
       " Series([], Name: book_title, dtype: object),\n",
       " 6330    Harry Potter and the Prisoner of Azkaban (Book 3)\n",
       " Name: book_title, dtype: object,\n",
       " 6932    Harry Potter and the Goblet of Fire (Book 4)\n",
       " Name: book_title, dtype: object,\n",
       " 5506    Harry Potter and the Order of the Phoenix (Boo...\n",
       " Name: book_title, dtype: object,\n",
       " Series([], Name: book_title, dtype: object),\n",
       " Series([], Name: book_title, dtype: object),\n",
       " Series([], Name: book_title, dtype: object),\n",
       " Series([], Name: book_title, dtype: object),\n",
       " Series([], Name: book_title, dtype: object),\n",
       " 3447    The Temple of My Familiar\n",
       " Name: book_title, dtype: object,\n",
       " Series([], Name: book_title, dtype: object),\n",
       " Series([], Name: book_title, dtype: object)]"
      ]
     },
     "execution_count": 29,
     "metadata": {},
     "output_type": "execute_result"
    }
   ],
   "source": [
    "best_books"
   ]
  },
  {
   "cell_type": "markdown",
   "id": "bca691cc",
   "metadata": {
    "papermill": {
     "duration": 0.065094,
     "end_time": "2021-10-07T10:27:13.734732",
     "exception": false,
     "start_time": "2021-10-07T10:27:13.669638",
     "status": "completed"
    },
    "tags": []
   },
   "source": [
    "Meneliti jumlah buku - buku bagus"
   ]
  },
  {
   "cell_type": "code",
   "execution_count": 30,
   "id": "f652cca1",
   "metadata": {
    "execution": {
     "iopub.execute_input": "2021-10-07T10:27:13.874368Z",
     "iopub.status.busy": "2021-10-07T10:27:13.873409Z",
     "iopub.status.idle": "2021-10-07T10:27:13.876978Z",
     "shell.execute_reply": "2021-10-07T10:27:13.877416Z",
     "shell.execute_reply.started": "2021-10-06T18:00:13.453767Z"
    },
    "papermill": {
     "duration": 0.074079,
     "end_time": "2021-10-07T10:27:13.877554",
     "exception": false,
     "start_time": "2021-10-07T10:27:13.803475",
     "status": "completed"
    },
    "tags": []
   },
   "outputs": [
    {
     "data": {
      "text/plain": [
       "300"
      ]
     },
     "execution_count": 30,
     "metadata": {},
     "output_type": "execute_result"
    }
   ],
   "source": [
    "len(best_books)"
   ]
  },
  {
   "cell_type": "markdown",
   "id": "e2cd6f4e",
   "metadata": {
    "papermill": {
     "duration": 0.100863,
     "end_time": "2021-10-07T10:27:14.045757",
     "exception": false,
     "start_time": "2021-10-07T10:27:13.944894",
     "status": "completed"
    },
    "tags": []
   },
   "source": [
    "## Univariate Data Analys"
   ]
  },
  {
   "cell_type": "markdown",
   "id": "39f5de71",
   "metadata": {
    "papermill": {
     "duration": 0.064417,
     "end_time": "2021-10-07T10:27:14.174620",
     "exception": false,
     "start_time": "2021-10-07T10:27:14.110203",
     "status": "completed"
    },
    "tags": []
   },
   "source": [
    "Meneliti distribusi rating dari rating dataframe dengan Barplot"
   ]
  },
  {
   "cell_type": "code",
   "execution_count": 31,
   "id": "10a95e89",
   "metadata": {
    "execution": {
     "iopub.execute_input": "2021-10-07T10:27:14.310693Z",
     "iopub.status.busy": "2021-10-07T10:27:14.309617Z",
     "iopub.status.idle": "2021-10-07T10:27:14.554183Z",
     "shell.execute_reply": "2021-10-07T10:27:14.553750Z",
     "shell.execute_reply.started": "2021-10-06T18:00:13.463237Z"
    },
    "papermill": {
     "duration": 0.314618,
     "end_time": "2021-10-07T10:27:14.554303",
     "exception": false,
     "start_time": "2021-10-07T10:27:14.239685",
     "status": "completed"
    },
    "tags": []
   },
   "outputs": [
    {
     "data": {
      "image/png": "[encoded data removed]",
      "text/plain": [
       "<Figure size 432x288 with 1 Axes>"
      ]
     },
     "metadata": {
      "needs_background": "light"
     },
     "output_type": "display_data"
    }
   ],
   "source": [
    "count = rating_dataset[\"rating\"].value_counts()\n",
    "count.plot(kind='bar', title=\"Rating\");\n",
    " \n",
    "plt.show()"
   ]
  },
  {
   "cell_type": "markdown",
   "id": "cf8a2b4f",
   "metadata": {
    "papermill": {
     "duration": 0.065024,
     "end_time": "2021-10-07T10:27:14.684721",
     "exception": false,
     "start_time": "2021-10-07T10:27:14.619697",
     "status": "completed"
    },
    "tags": []
   },
   "source": [
    "Meneliti distribusi tahun terbitnya buku dari book dataframe dengan Barplot"
   ]
  },
  {
   "cell_type": "code",
   "execution_count": 32,
   "id": "5a35370d",
   "metadata": {
    "execution": {
     "iopub.execute_input": "2021-10-07T10:27:14.857453Z",
     "iopub.status.busy": "2021-10-07T10:27:14.840033Z",
     "iopub.status.idle": "2021-10-07T10:27:15.567985Z",
     "shell.execute_reply": "2021-10-07T10:27:15.567561Z",
     "shell.execute_reply.started": "2021-10-06T18:00:13.722326Z"
    },
    "papermill": {
     "duration": 0.818072,
     "end_time": "2021-10-07T10:27:15.568122",
     "exception": false,
     "start_time": "2021-10-07T10:27:14.750050",
     "status": "completed"
    },
    "tags": []
   },
   "outputs": [
    {
     "data": {
      "image/png": "[encoded data removed]",
      "text/plain": [
       "<Figure size 432x288 with 1 Axes>"
      ]
     },
     "metadata": {
      "needs_background": "light"
     },
     "output_type": "display_data"
    }
   ],
   "source": [
    "count = book_dataset[\"year_of_publication\"].value_counts()\n",
    "count.plot(kind='bar', title=\"Year of Publication\");\n",
    " \n",
    "plt.show()"
   ]
  },
  {
   "cell_type": "markdown",
   "id": "935109f1",
   "metadata": {
    "papermill": {
     "duration": 0.065353,
     "end_time": "2021-10-07T10:27:15.699218",
     "exception": false,
     "start_time": "2021-10-07T10:27:15.633865",
     "status": "completed"
    },
    "tags": []
   },
   "source": [
    "## Multivariate Analysis"
   ]
  },
  {
   "cell_type": "markdown",
   "id": "085707dc",
   "metadata": {
    "papermill": {
     "duration": 0.06659,
     "end_time": "2021-10-07T10:27:15.831919",
     "exception": false,
     "start_time": "2021-10-07T10:27:15.765329",
     "status": "completed"
    },
    "tags": []
   },
   "source": [
    "Melihat pairplot yang ada pada rating dataset"
   ]
  },
  {
   "cell_type": "code",
   "execution_count": 33,
   "id": "4a91a871",
   "metadata": {
    "execution": {
     "iopub.execute_input": "2021-10-07T10:27:15.967894Z",
     "iopub.status.busy": "2021-10-07T10:27:15.967210Z",
     "iopub.status.idle": "2021-10-07T10:27:17.623762Z",
     "shell.execute_reply": "2021-10-07T10:27:17.624198Z",
     "shell.execute_reply.started": "2021-10-06T18:00:15.866241Z"
    },
    "papermill": {
     "duration": 1.726907,
     "end_time": "2021-10-07T10:27:17.624348",
     "exception": false,
     "start_time": "2021-10-07T10:27:15.897441",
     "status": "completed"
    },
    "tags": []
   },
   "outputs": [
    {
     "data": {
      "text/plain": [
       "<seaborn.axisgrid.PairGrid at 0x262002d99d0>"
      ]
     },
     "execution_count": 33,
     "metadata": {},
     "output_type": "execute_result"
    },
    {
     "data": {
      "image/png": "[encoded data removed]",
      "text/plain": [
       "<Figure size 360x360 with 6 Axes>"
      ]
     },
     "metadata": {
      "needs_background": "light"
     },
     "output_type": "display_data"
    }
   ],
   "source": [
    "import seaborn as sns\n",
    "sns.pairplot(rating_dataset, diag_kind = 'kde')"
   ]
  },
  {
   "cell_type": "markdown",
   "id": "69b42fda",
   "metadata": {
    "papermill": {
     "duration": 0.06996,
     "end_time": "2021-10-07T10:27:17.762589",
     "exception": false,
     "start_time": "2021-10-07T10:27:17.692629",
     "status": "completed"
    },
    "tags": []
   },
   "source": [
    "___\n",
    "# Content Filtered Recommendation System"
   ]
  },
  {
   "cell_type": "markdown",
   "id": "524f49b8",
   "metadata": {
    "papermill": {
     "duration": 0.067445,
     "end_time": "2021-10-07T10:27:17.898137",
     "exception": false,
     "start_time": "2021-10-07T10:27:17.830692",
     "status": "completed"
    },
    "tags": []
   },
   "source": [
    "Content Based Filtering adalah sistem rekomendasi yang merekomendasikan item sesuai dengan item yang disukai oleh pengguna di masa lampau.\n",
    "\n",
    "Content Based mempelajari profil dan perilaku dari pengguna yang kemudian dari informasi tersebut dianalisa dan diproses sehingga menghasilkan sistem rekomendasi yang baik. Semakin banyak informasi yang diberikan ke sistem ini, maka sistem rekomendasi berbasis content based akan memiliki akurasi yang lebih baik."
   ]
  },
  {
   "cell_type": "markdown",
   "id": "89b1f19a",
   "metadata": {
    "papermill": {
     "duration": 0.068298,
     "end_time": "2021-10-07T10:27:18.034769",
     "exception": false,
     "start_time": "2021-10-07T10:27:17.966471",
     "status": "completed"
    },
    "tags": []
   },
   "source": [
    "## Data Preparation"
   ]
  },
  {
   "cell_type": "markdown",
   "id": "e91ef84b",
   "metadata": {
    "papermill": {
     "duration": 0.068164,
     "end_time": "2021-10-07T10:27:18.170870",
     "exception": false,
     "start_time": "2021-10-07T10:27:18.102706",
     "status": "completed"
    },
    "tags": []
   },
   "source": [
    "Di code bawah ini saya men-drop seluruh row yang memiliki nilai NaN"
   ]
  },
  {
   "cell_type": "code",
   "execution_count": 34,
   "id": "9d7b6f4e",
   "metadata": {
    "execution": {
     "iopub.execute_input": "2021-10-07T10:27:18.319153Z",
     "iopub.status.busy": "2021-10-07T10:27:18.317981Z",
     "iopub.status.idle": "2021-10-07T10:27:18.326690Z",
     "shell.execute_reply": "2021-10-07T10:27:18.327083Z",
     "shell.execute_reply.started": "2021-10-06T18:00:35.075629Z"
    },
    "papermill": {
     "duration": 0.088311,
     "end_time": "2021-10-07T10:27:18.327225",
     "exception": false,
     "start_time": "2021-10-07T10:27:18.238914",
     "status": "completed"
    },
    "tags": []
   },
   "outputs": [],
   "source": [
    "book_dataset = book_dataset.dropna()\n",
    "rating_dataset = rating_dataset.dropna()"
   ]
  },
  {
   "cell_type": "markdown",
   "id": "3f5745e9",
   "metadata": {
    "papermill": {
     "duration": 0.066862,
     "end_time": "2021-10-07T10:27:18.461621",
     "exception": false,
     "start_time": "2021-10-07T10:27:18.394759",
     "status": "completed"
    },
    "tags": []
   },
   "source": [
    "Pada cell code di bawah ini, saya melakukan drop atau pembuangan pada row - row yang merupakan duplikasi dari row - row yang lain, sehingga dataset kita tetap memiliki integritas dan tidak berulang"
   ]
  },
  {
   "cell_type": "code",
   "execution_count": 35,
   "id": "55d515a7",
   "metadata": {
    "execution": {
     "iopub.execute_input": "2021-10-07T10:27:18.602416Z",
     "iopub.status.busy": "2021-10-07T10:27:18.601707Z",
     "iopub.status.idle": "2021-10-07T10:27:18.624661Z",
     "shell.execute_reply": "2021-10-07T10:27:18.625084Z",
     "shell.execute_reply.started": "2021-10-06T18:00:35.468303Z"
    },
    "papermill": {
     "duration": 0.09601,
     "end_time": "2021-10-07T10:27:18.625216",
     "exception": false,
     "start_time": "2021-10-07T10:27:18.529206",
     "status": "completed"
    },
    "tags": []
   },
   "outputs": [],
   "source": [
    "rating_dataset = rating_dataset.drop_duplicates()\n",
    "book_dataset = book_dataset.drop_duplicates()"
   ]
  },
  {
   "cell_type": "markdown",
   "id": "831f3477",
   "metadata": {
    "papermill": {
     "duration": 0.068873,
     "end_time": "2021-10-07T10:27:18.761737",
     "exception": false,
     "start_time": "2021-10-07T10:27:18.692864",
     "status": "completed"
    },
    "tags": []
   },
   "source": [
    "Meneliti deskripsi dari dataset book"
   ]
  },
  {
   "cell_type": "code",
   "execution_count": 36,
   "id": "7f0c68f5",
   "metadata": {
    "execution": {
     "iopub.execute_input": "2021-10-07T10:27:18.906074Z",
     "iopub.status.busy": "2021-10-07T10:27:18.905446Z",
     "iopub.status.idle": "2021-10-07T10:27:18.908036Z",
     "shell.execute_reply": "2021-10-07T10:27:18.908458Z",
     "shell.execute_reply.started": "2021-10-06T18:00:36.238025Z"
    },
    "papermill": {
     "duration": 0.076339,
     "end_time": "2021-10-07T10:27:18.908585",
     "exception": false,
     "start_time": "2021-10-07T10:27:18.832246",
     "status": "completed"
    },
    "tags": []
   },
   "outputs": [
    {
     "data": {
      "text/plain": [
       "(10000, 8)"
      ]
     },
     "execution_count": 36,
     "metadata": {},
     "output_type": "execute_result"
    }
   ],
   "source": [
    "book_dataset.shape"
   ]
  },
  {
   "cell_type": "markdown",
   "id": "d0fe608c",
   "metadata": {
    "papermill": {
     "duration": 0.072469,
     "end_time": "2021-10-07T10:27:19.054942",
     "exception": false,
     "start_time": "2021-10-07T10:27:18.982473",
     "status": "completed"
    },
    "tags": []
   },
   "source": [
    "Meneliti deskripsi dari dataset rating"
   ]
  },
  {
   "cell_type": "code",
   "execution_count": 37,
   "id": "eaa5dbf0",
   "metadata": {
    "execution": {
     "iopub.execute_input": "2021-10-07T10:27:19.202107Z",
     "iopub.status.busy": "2021-10-07T10:27:19.201189Z",
     "iopub.status.idle": "2021-10-07T10:27:19.204648Z",
     "shell.execute_reply": "2021-10-07T10:27:19.205046Z",
     "shell.execute_reply.started": "2021-10-06T18:00:36.246046Z"
    },
    "papermill": {
     "duration": 0.079315,
     "end_time": "2021-10-07T10:27:19.205190",
     "exception": false,
     "start_time": "2021-10-07T10:27:19.125875",
     "status": "completed"
    },
    "tags": []
   },
   "outputs": [
    {
     "data": {
      "text/plain": [
       "(5000, 3)"
      ]
     },
     "execution_count": 37,
     "metadata": {},
     "output_type": "execute_result"
    }
   ],
   "source": [
    "rating_dataset.shape"
   ]
  },
  {
   "cell_type": "markdown",
   "id": "f7581737",
   "metadata": {
    "papermill": {
     "duration": 0.071098,
     "end_time": "2021-10-07T10:27:19.347671",
     "exception": false,
     "start_time": "2021-10-07T10:27:19.276573",
     "status": "completed"
    },
    "tags": []
   },
   "source": [
    "Melihat 5 row pertama dari dataset book"
   ]
  },
  {
   "cell_type": "code",
   "execution_count": 38,
   "id": "ff9a962a",
   "metadata": {
    "execution": {
     "iopub.execute_input": "2021-10-07T10:27:19.497254Z",
     "iopub.status.busy": "2021-10-07T10:27:19.496535Z",
     "iopub.status.idle": "2021-10-07T10:27:19.499268Z",
     "shell.execute_reply": "2021-10-07T10:27:19.499767Z",
     "shell.execute_reply.started": "2021-10-06T18:00:36.257421Z"
    },
    "papermill": {
     "duration": 0.083384,
     "end_time": "2021-10-07T10:27:19.499889",
     "exception": false,
     "start_time": "2021-10-07T10:27:19.416505",
     "status": "completed"
    },
    "tags": []
   },
   "outputs": [
    {
     "data": {
      "text/html": [
       "<div>\n",
       "<style scoped>\n",
       "    .dataframe tbody tr th:only-of-type {\n",
       "        vertical-align: middle;\n",
       "    }\n",
       "\n",
       "    .dataframe tbody tr th {\n",
       "        vertical-align: top;\n",
       "    }\n",
       "\n",
       "    .dataframe thead th {\n",
       "        text-align: right;\n",
       "    }\n",
       "</style>\n",
       "<table border=\"1\" class=\"dataframe\">\n",
       "  <thead>\n",
       "    <tr style=\"text-align: right;\">\n",
       "      <th></th>\n",
       "      <th>ISBN</th>\n",
       "      <th>book_title</th>\n",
       "      <th>book_author</th>\n",
       "      <th>year_of_publication</th>\n",
       "      <th>Publisher</th>\n",
       "      <th>Image_URL_S</th>\n",
       "      <th>Image_URL_M</th>\n",
       "      <th>Image_URL_L</th>\n",
       "    </tr>\n",
       "  </thead>\n",
       "  <tbody>\n",
       "    <tr>\n",
       "      <th>0</th>\n",
       "      <td>0195153448</td>\n",
       "      <td>Classical Mythology</td>\n",
       "      <td>Mark P. O. Morford</td>\n",
       "      <td>2002</td>\n",
       "      <td>Oxford University Press</td>\n",
       "      <td>http://images.amazon.com/images/P/0195153448.0...</td>\n",
       "      <td>http://images.amazon.com/images/P/0195153448.0...</td>\n",
       "      <td>http://images.amazon.com/images/P/0195153448.0...</td>\n",
       "    </tr>\n",
       "    <tr>\n",
       "      <th>1</th>\n",
       "      <td>0002005018</td>\n",
       "      <td>Clara Callan</td>\n",
       "      <td>Richard Bruce Wright</td>\n",
       "      <td>2001</td>\n",
       "      <td>HarperFlamingo Canada</td>\n",
       "      <td>http://images.amazon.com/images/P/0002005018.0...</td>\n",
       "      <td>http://images.amazon.com/images/P/0002005018.0...</td>\n",
       "      <td>http://images.amazon.com/images/P/0002005018.0...</td>\n",
       "    </tr>\n",
       "    <tr>\n",
       "      <th>2</th>\n",
       "      <td>0060973129</td>\n",
       "      <td>Decision in Normandy</td>\n",
       "      <td>Carlo D'Este</td>\n",
       "      <td>1991</td>\n",
       "      <td>HarperPerennial</td>\n",
       "      <td>http://images.amazon.com/images/P/0060973129.0...</td>\n",
       "      <td>http://images.amazon.com/images/P/0060973129.0...</td>\n",
       "      <td>http://images.amazon.com/images/P/0060973129.0...</td>\n",
       "    </tr>\n",
       "    <tr>\n",
       "      <th>3</th>\n",
       "      <td>0374157065</td>\n",
       "      <td>Flu: The Story of the Great Influenza Pandemic...</td>\n",
       "      <td>Gina Bari Kolata</td>\n",
       "      <td>1999</td>\n",
       "      <td>Farrar Straus Giroux</td>\n",
       "      <td>http://images.amazon.com/images/P/0374157065.0...</td>\n",
       "      <td>http://images.amazon.com/images/P/0374157065.0...</td>\n",
       "      <td>http://images.amazon.com/images/P/0374157065.0...</td>\n",
       "    </tr>\n",
       "    <tr>\n",
       "      <th>4</th>\n",
       "      <td>0393045218</td>\n",
       "      <td>The Mummies of Urumchi</td>\n",
       "      <td>E. J. W. Barber</td>\n",
       "      <td>1999</td>\n",
       "      <td>W. W. Norton &amp;amp; Company</td>\n",
       "      <td>http://images.amazon.com/images/P/0393045218.0...</td>\n",
       "      <td>http://images.amazon.com/images/P/0393045218.0...</td>\n",
       "      <td>http://images.amazon.com/images/P/0393045218.0...</td>\n",
       "    </tr>\n",
       "  </tbody>\n",
       "</table>\n",
       "</div>"
      ],
      "text/plain": [
       "         ISBN                                         book_title  \\\n",
       "0  0195153448                                Classical Mythology   \n",
       "1  0002005018                                       Clara Callan   \n",
       "2  0060973129                               Decision in Normandy   \n",
       "3  0374157065  Flu: The Story of the Great Influenza Pandemic...   \n",
       "4  0393045218                             The Mummies of Urumchi   \n",
       "\n",
       "            book_author year_of_publication                   Publisher  \\\n",
       "0    Mark P. O. Morford                2002     Oxford University Press   \n",
       "1  Richard Bruce Wright                2001       HarperFlamingo Canada   \n",
       "2          Carlo D'Este                1991             HarperPerennial   \n",
       "3      Gina Bari Kolata                1999        Farrar Straus Giroux   \n",
       "4       E. J. W. Barber                1999  W. W. Norton &amp; Company   \n",
       "\n",
       "                                         Image_URL_S  \\\n",
       "0  http://images.amazon.com/images/P/0195153448.0...   \n",
       "1  http://images.amazon.com/images/P/0002005018.0...   \n",
       "2  http://images.amazon.com/images/P/0060973129.0...   \n",
       "3  http://images.amazon.com/images/P/0374157065.0...   \n",
       "4  http://images.amazon.com/images/P/0393045218.0...   \n",
       "\n",
       "                                         Image_URL_M  \\\n",
       "0  http://images.amazon.com/images/P/0195153448.0...   \n",
       "1  http://images.amazon.com/images/P/0002005018.0...   \n",
       "2  http://images.amazon.com/images/P/0060973129.0...   \n",
       "3  http://images.amazon.com/images/P/0374157065.0...   \n",
       "4  http://images.amazon.com/images/P/0393045218.0...   \n",
       "\n",
       "                                         Image_URL_L  \n",
       "0  http://images.amazon.com/images/P/0195153448.0...  \n",
       "1  http://images.amazon.com/images/P/0002005018.0...  \n",
       "2  http://images.amazon.com/images/P/0060973129.0...  \n",
       "3  http://images.amazon.com/images/P/0374157065.0...  \n",
       "4  http://images.amazon.com/images/P/0393045218.0...  "
      ]
     },
     "execution_count": 38,
     "metadata": {},
     "output_type": "execute_result"
    }
   ],
   "source": [
    "book_dataset.head()"
   ]
  },
  {
   "cell_type": "markdown",
   "id": "2b69b449",
   "metadata": {
    "papermill": {
     "duration": 0.068173,
     "end_time": "2021-10-07T10:27:19.636517",
     "exception": false,
     "start_time": "2021-10-07T10:27:19.568344",
     "status": "completed"
    },
    "tags": []
   },
   "source": [
    "Untuk selanjutnya, kita perlu mengubah dataframe dari buku menjadi sebuah list"
   ]
  },
  {
   "cell_type": "code",
   "execution_count": 39,
   "id": "b06e73c1",
   "metadata": {
    "execution": {
     "iopub.execute_input": "2021-10-07T10:27:19.779844Z",
     "iopub.status.busy": "2021-10-07T10:27:19.779016Z",
     "iopub.status.idle": "2021-10-07T10:27:19.780969Z",
     "shell.execute_reply": "2021-10-07T10:27:19.781421Z",
     "shell.execute_reply.started": "2021-10-06T18:00:36.275214Z"
    },
    "papermill": {
     "duration": 0.076596,
     "end_time": "2021-10-07T10:27:19.781554",
     "exception": false,
     "start_time": "2021-10-07T10:27:19.704958",
     "status": "completed"
    },
    "tags": []
   },
   "outputs": [],
   "source": [
    "book_ISBN = book_dataset['ISBN'].tolist()\n",
    "\n",
    "book_title = book_dataset['book_title'].tolist()\n",
    "\n",
    "book_author = book_dataset['book_author'].tolist()\n",
    "\n",
    "book_year_of_publication = book_dataset['year_of_publication'].tolist()"
   ]
  },
  {
   "cell_type": "markdown",
   "id": "573bee49",
   "metadata": {
    "papermill": {
     "duration": 0.068075,
     "end_time": "2021-10-07T10:27:19.917968",
     "exception": false,
     "start_time": "2021-10-07T10:27:19.849893",
     "status": "completed"
    },
    "tags": []
   },
   "source": [
    "Setelah kita membuat list, kita perlu membuat dictionary yang digunakan untuk memnentukan pasangan key-value pada book_ISBN, book_title, book_author, dan book_year_of_publication."
   ]
  },
  {
   "cell_type": "code",
   "execution_count": 40,
   "id": "4a76090e",
   "metadata": {
    "execution": {
     "iopub.execute_input": "2021-10-07T10:27:20.119587Z",
     "iopub.status.busy": "2021-10-07T10:27:20.118717Z",
     "iopub.status.idle": "2021-10-07T10:27:20.149955Z",
     "shell.execute_reply": "2021-10-07T10:27:20.149229Z",
     "shell.execute_reply.started": "2021-10-06T18:00:36.296791Z"
    },
    "papermill": {
     "duration": 0.159299,
     "end_time": "2021-10-07T10:27:20.150178",
     "exception": false,
     "start_time": "2021-10-07T10:27:19.990879",
     "status": "completed"
    },
    "tags": []
   },
   "outputs": [
    {
     "data": {
      "text/html": [
       "<div>\n",
       "<style scoped>\n",
       "    .dataframe tbody tr th:only-of-type {\n",
       "        vertical-align: middle;\n",
       "    }\n",
       "\n",
       "    .dataframe tbody tr th {\n",
       "        vertical-align: top;\n",
       "    }\n",
       "\n",
       "    .dataframe thead th {\n",
       "        text-align: right;\n",
       "    }\n",
       "</style>\n",
       "<table border=\"1\" class=\"dataframe\">\n",
       "  <thead>\n",
       "    <tr style=\"text-align: right;\">\n",
       "      <th></th>\n",
       "      <th>book_ISBN</th>\n",
       "      <th>book_title</th>\n",
       "      <th>book_author</th>\n",
       "      <th>book_year_of_publication</th>\n",
       "    </tr>\n",
       "  </thead>\n",
       "  <tbody>\n",
       "    <tr>\n",
       "      <th>0</th>\n",
       "      <td>0195153448</td>\n",
       "      <td>Classical Mythology</td>\n",
       "      <td>Mark P. O. Morford</td>\n",
       "      <td>2002</td>\n",
       "    </tr>\n",
       "    <tr>\n",
       "      <th>1</th>\n",
       "      <td>0002005018</td>\n",
       "      <td>Clara Callan</td>\n",
       "      <td>Richard Bruce Wright</td>\n",
       "      <td>2001</td>\n",
       "    </tr>\n",
       "    <tr>\n",
       "      <th>2</th>\n",
       "      <td>0060973129</td>\n",
       "      <td>Decision in Normandy</td>\n",
       "      <td>Carlo D'Este</td>\n",
       "      <td>1991</td>\n",
       "    </tr>\n",
       "    <tr>\n",
       "      <th>3</th>\n",
       "      <td>0374157065</td>\n",
       "      <td>Flu: The Story of the Great Influenza Pandemic...</td>\n",
       "      <td>Gina Bari Kolata</td>\n",
       "      <td>1999</td>\n",
       "    </tr>\n",
       "    <tr>\n",
       "      <th>4</th>\n",
       "      <td>0393045218</td>\n",
       "      <td>The Mummies of Urumchi</td>\n",
       "      <td>E. J. W. Barber</td>\n",
       "      <td>1999</td>\n",
       "    </tr>\n",
       "    <tr>\n",
       "      <th>...</th>\n",
       "      <td>...</td>\n",
       "      <td>...</td>\n",
       "      <td>...</td>\n",
       "      <td>...</td>\n",
       "    </tr>\n",
       "    <tr>\n",
       "      <th>9995</th>\n",
       "      <td>0380730774</td>\n",
       "      <td>Read This and Tell Me What It Says : Stories (...</td>\n",
       "      <td>A. Manette Ansay</td>\n",
       "      <td>1998</td>\n",
       "    </tr>\n",
       "    <tr>\n",
       "      <th>9996</th>\n",
       "      <td>0862418879</td>\n",
       "      <td>The Star Rover</td>\n",
       "      <td>Jack London</td>\n",
       "      <td>2000</td>\n",
       "    </tr>\n",
       "    <tr>\n",
       "      <th>9997</th>\n",
       "      <td>340414645X</td>\n",
       "      <td>Die Keltennadel.</td>\n",
       "      <td>Patrick Dunne</td>\n",
       "      <td>2001</td>\n",
       "    </tr>\n",
       "    <tr>\n",
       "      <th>9998</th>\n",
       "      <td>3442730988</td>\n",
       "      <td>Tod in der Datscha.</td>\n",
       "      <td>Anna Malyschewa</td>\n",
       "      <td>2003</td>\n",
       "    </tr>\n",
       "    <tr>\n",
       "      <th>9999</th>\n",
       "      <td>3404144783</td>\n",
       "      <td>Dunkel.</td>\n",
       "      <td>Wolfgang Hohlbein</td>\n",
       "      <td>2001</td>\n",
       "    </tr>\n",
       "  </tbody>\n",
       "</table>\n",
       "<p>10000 rows × 4 columns</p>\n",
       "</div>"
      ],
      "text/plain": [
       "       book_ISBN                                         book_title  \\\n",
       "0     0195153448                                Classical Mythology   \n",
       "1     0002005018                                       Clara Callan   \n",
       "2     0060973129                               Decision in Normandy   \n",
       "3     0374157065  Flu: The Story of the Great Influenza Pandemic...   \n",
       "4     0393045218                             The Mummies of Urumchi   \n",
       "...          ...                                                ...   \n",
       "9995  0380730774  Read This and Tell Me What It Says : Stories (...   \n",
       "9996  0862418879                                     The Star Rover   \n",
       "9997  340414645X                                   Die Keltennadel.   \n",
       "9998  3442730988                                Tod in der Datscha.   \n",
       "9999  3404144783                                            Dunkel.   \n",
       "\n",
       "               book_author  book_year_of_publication  \n",
       "0       Mark P. O. Morford                      2002  \n",
       "1     Richard Bruce Wright                      2001  \n",
       "2             Carlo D'Este                      1991  \n",
       "3         Gina Bari Kolata                      1999  \n",
       "4          E. J. W. Barber                      1999  \n",
       "...                    ...                       ...  \n",
       "9995      A. Manette Ansay                      1998  \n",
       "9996           Jack London                      2000  \n",
       "9997         Patrick Dunne                      2001  \n",
       "9998       Anna Malyschewa                      2003  \n",
       "9999     Wolfgang Hohlbein                      2001  \n",
       "\n",
       "[10000 rows x 4 columns]"
      ]
     },
     "execution_count": 40,
     "metadata": {},
     "output_type": "execute_result"
    }
   ],
   "source": [
    "book = pd.DataFrame({\n",
    "    'book_ISBN': book_ISBN,\n",
    "    'book_title': book_title,\n",
    "    'book_author': book_author,\n",
    "    'book_year_of_publication': book_year_of_publication\n",
    "})\n",
    "book"
   ]
  },
  {
   "cell_type": "markdown",
   "id": "a769c132",
   "metadata": {
    "papermill": {
     "duration": 0.113307,
     "end_time": "2021-10-07T10:27:20.377746",
     "exception": false,
     "start_time": "2021-10-07T10:27:20.264439",
     "status": "completed"
    },
    "tags": []
   },
   "source": [
    "## Modeling"
   ]
  },
  {
   "cell_type": "markdown",
   "id": "06935b99",
   "metadata": {
    "papermill": {
     "duration": 0.111147,
     "end_time": "2021-10-07T10:27:20.602681",
     "exception": false,
     "start_time": "2021-10-07T10:27:20.491534",
     "status": "completed"
    },
    "tags": []
   },
   "source": [
    "Pada content Based Filtering, kita akan menggunakan TF-IDF Vectorizer untuk membangun sistem rekomendasi berdasarkan penulis buku.\n",
    "\n",
    "TF-IDF yang merupakan kepanjangan dari Term Frequency-Inverse Document Frequency memiliki fungsi untuk mengukur seberapa pentingnya suatu kata terhadap kata - kata lain dalam dokumen.\n",
    "Kita umumnya menghitung skor untuk setiap kata untuk menandakan pentingnya dalam dokumen dan corpus. Metode sering digunakan dalam Information Retrieval dan Text Mining."
   ]
  },
  {
   "cell_type": "markdown",
   "id": "1e98294c",
   "metadata": {
    "papermill": {
     "duration": 0.080583,
     "end_time": "2021-10-07T10:27:20.755413",
     "exception": false,
     "start_time": "2021-10-07T10:27:20.674830",
     "status": "completed"
    },
    "tags": []
   },
   "source": [
    "Pada cell code di bawah ini kita akan mengambil kata - kata penting dalam kolom book_author"
   ]
  },
  {
   "cell_type": "code",
   "execution_count": 41,
   "id": "3b3129ba",
   "metadata": {
    "execution": {
     "iopub.execute_input": "2021-10-07T10:27:20.911218Z",
     "iopub.status.busy": "2021-10-07T10:27:20.910596Z",
     "iopub.status.idle": "2021-10-07T10:27:21.107674Z",
     "shell.execute_reply": "2021-10-07T10:27:21.108065Z",
     "shell.execute_reply.started": "2021-10-06T18:00:36.516034Z"
    },
    "papermill": {
     "duration": 0.275332,
     "end_time": "2021-10-07T10:27:21.108217",
     "exception": false,
     "start_time": "2021-10-07T10:27:20.832885",
     "status": "completed"
    },
    "tags": []
   },
   "outputs": [
    {
     "data": {
      "text/plain": [
       "['aaron',\n",
       " 'aarsen',\n",
       " 'abbey',\n",
       " 'abbott',\n",
       " 'abby',\n",
       " 'abelar',\n",
       " 'abraham',\n",
       " 'abrahams',\n",
       " 'abzug',\n",
       " 'achebe',\n",
       " 'ackerman',\n",
       " 'ackroyd',\n",
       " 'ad',\n",
       " 'adam',\n",
       " 'adamo',\n",
       " 'adams',\n",
       " 'adamson',\n",
       " 'addis',\n",
       " 'adele',\n",
       " 'adeline',\n",
       " 'adie',\n",
       " 'adkins',\n",
       " 'adler',\n",
       " 'adrian',\n",
       " 'adriana',\n",
       " 'adrienne',\n",
       " 'africa',\n",
       " 'agatha',\n",
       " 'agnes',\n",
       " 'aguiar',\n",
       " 'agustã',\n",
       " 'agut',\n",
       " 'ahdaf',\n",
       " 'ahlberg',\n",
       " 'ahne',\n",
       " 'aidan',\n",
       " 'aiden',\n",
       " 'aiken',\n",
       " 'aileen',\n",
       " 'aimee',\n",
       " 'ainslie',\n",
       " 'akiba',\n",
       " 'al',\n",
       " 'alain',\n",
       " 'alan',\n",
       " 'alatas',\n",
       " 'alba',\n",
       " 'albanese',\n",
       " 'albano',\n",
       " 'albert',\n",
       " 'alberts',\n",
       " 'albom',\n",
       " 'albright',\n",
       " 'alcock',\n",
       " 'alcorn',\n",
       " 'alcott',\n",
       " 'aldiss',\n",
       " 'aldous',\n",
       " 'aldrich',\n",
       " 'aldrin',\n",
       " 'alec',\n",
       " 'aleister',\n",
       " 'alejandro',\n",
       " 'alejo',\n",
       " 'aleksandr',\n",
       " 'aleramo',\n",
       " 'alers',\n",
       " 'alesia',\n",
       " 'alessandra',\n",
       " 'alessandro',\n",
       " 'alex',\n",
       " 'alexa',\n",
       " 'alexander',\n",
       " 'alexandra',\n",
       " 'alexandre',\n",
       " 'alfie',\n",
       " 'alfonsi',\n",
       " 'alford',\n",
       " 'alfred',\n",
       " 'ali',\n",
       " 'alice',\n",
       " 'alicia',\n",
       " 'alien',\n",
       " 'alighieri',\n",
       " 'alisa',\n",
       " 'alison',\n",
       " 'alistair',\n",
       " 'alix',\n",
       " 'aljean',\n",
       " 'allan',\n",
       " 'allen',\n",
       " 'allenbaugh',\n",
       " 'allende',\n",
       " 'allingham',\n",
       " 'allison',\n",
       " 'allistair',\n",
       " 'allston',\n",
       " 'alma',\n",
       " 'almond',\n",
       " 'almudena',\n",
       " 'alonso',\n",
       " 'alpers',\n",
       " 'alsager',\n",
       " 'alten',\n",
       " 'alter',\n",
       " 'alton',\n",
       " 'alvarez',\n",
       " 'alvin',\n",
       " 'amado',\n",
       " 'amanda',\n",
       " 'amber',\n",
       " 'ambrose',\n",
       " 'ambrosio',\n",
       " 'amelie',\n",
       " 'american',\n",
       " 'ames',\n",
       " 'amin',\n",
       " 'amis',\n",
       " 'amit',\n",
       " 'ammaniti',\n",
       " 'amoroso',\n",
       " 'amory',\n",
       " 'amos',\n",
       " 'amour',\n",
       " 'amp',\n",
       " 'amy',\n",
       " 'an',\n",
       " 'ana',\n",
       " 'anahis',\n",
       " 'anais',\n",
       " 'anand',\n",
       " 'anastas',\n",
       " 'anatoli',\n",
       " 'anatolian',\n",
       " 'anaya',\n",
       " 'anchee',\n",
       " 'ancona',\n",
       " 'and',\n",
       " 'andahazi',\n",
       " 'andersen',\n",
       " 'anderson',\n",
       " 'andre',\n",
       " 'andrea',\n",
       " 'andreas',\n",
       " 'andrei',\n",
       " 'andrew',\n",
       " 'andrews',\n",
       " 'andreã',\n",
       " 'andy',\n",
       " 'angela',\n",
       " 'angelis',\n",
       " 'angell',\n",
       " 'angelo',\n",
       " 'angelou',\n",
       " 'angier',\n",
       " 'angle',\n",
       " 'angot',\n",
       " 'anhua',\n",
       " 'ani',\n",
       " 'anim',\n",
       " 'anita',\n",
       " 'ann',\n",
       " 'anna',\n",
       " 'annaeus',\n",
       " 'anne',\n",
       " 'annegrit',\n",
       " 'annette',\n",
       " 'annie',\n",
       " 'anonimo',\n",
       " 'anonymous',\n",
       " 'anouchka',\n",
       " 'ansay',\n",
       " 'ansel',\n",
       " 'anshaw',\n",
       " 'anson',\n",
       " 'anthony',\n",
       " 'anthropology',\n",
       " 'antoine',\n",
       " 'anton',\n",
       " 'antoni',\n",
       " 'antonio',\n",
       " 'antony',\n",
       " 'antonya',\n",
       " 'antwone',\n",
       " 'anurag',\n",
       " 'aola',\n",
       " 'aoumiel',\n",
       " 'apkarian',\n",
       " 'apolo',\n",
       " 'appel',\n",
       " 'applegate',\n",
       " 'appleton',\n",
       " 'april',\n",
       " 'arabella',\n",
       " 'aralica',\n",
       " 'aramburu',\n",
       " 'arana',\n",
       " 'archaeology',\n",
       " 'archer',\n",
       " 'arcy',\n",
       " 'ardagh',\n",
       " 'ardinger',\n",
       " 'arens',\n",
       " 'arensen',\n",
       " 'ariella',\n",
       " 'arlene',\n",
       " 'arman',\n",
       " 'armas',\n",
       " 'armistead',\n",
       " 'armstrong',\n",
       " 'arnel',\n",
       " 'arnette',\n",
       " 'arnim',\n",
       " 'arno',\n",
       " 'arnold',\n",
       " 'arnulf',\n",
       " 'arrabal',\n",
       " 'arriaga',\n",
       " 'arsan',\n",
       " 'arthur',\n",
       " 'arto',\n",
       " 'arturo',\n",
       " 'arundhati',\n",
       " 'arvin',\n",
       " 'ascarrunz',\n",
       " 'ash',\n",
       " 'ashfield',\n",
       " 'ashland',\n",
       " 'ashley',\n",
       " 'asimov',\n",
       " 'asprin',\n",
       " 'association',\n",
       " 'assorted',\n",
       " 'astley',\n",
       " 'astrid',\n",
       " 'atcott',\n",
       " 'ath',\n",
       " 'atkins',\n",
       " 'atkinson',\n",
       " 'atrice',\n",
       " 'attanasio',\n",
       " 'atul',\n",
       " 'atwater',\n",
       " 'atwood',\n",
       " 'aubert',\n",
       " 'audrey',\n",
       " 'auel',\n",
       " 'august',\n",
       " 'augusten',\n",
       " 'augustine',\n",
       " 'augusto',\n",
       " 'aulaire',\n",
       " 'aurelia',\n",
       " 'austen',\n",
       " 'auster',\n",
       " 'austin',\n",
       " 'authors',\n",
       " 'avery',\n",
       " 'avi',\n",
       " 'awlinson',\n",
       " 'axford',\n",
       " 'ayn',\n",
       " 'ayto',\n",
       " 'az',\n",
       " 'azar',\n",
       " 'azerrad',\n",
       " 'azuela',\n",
       " 'babel',\n",
       " 'babette',\n",
       " 'babson',\n",
       " 'bach',\n",
       " 'bachman',\n",
       " 'backer',\n",
       " 'baden',\n",
       " 'baetz',\n",
       " 'baez',\n",
       " 'bagdon',\n",
       " 'baggott',\n",
       " 'baglio',\n",
       " 'bagshawe',\n",
       " 'baigent',\n",
       " 'bail',\n",
       " 'bailey',\n",
       " 'bainbridge',\n",
       " 'baker',\n",
       " 'bakis',\n",
       " 'bakker',\n",
       " 'baldacci',\n",
       " 'balke',\n",
       " 'ballantyne',\n",
       " 'balliett',\n",
       " 'balzac',\n",
       " 'ban',\n",
       " 'banana',\n",
       " 'banbury',\n",
       " 'banerjee',\n",
       " 'bank',\n",
       " 'banks',\n",
       " 'bannon',\n",
       " 'bantock',\n",
       " 'bao',\n",
       " 'baratz',\n",
       " 'barb',\n",
       " 'barbara',\n",
       " 'barber',\n",
       " 'barca',\n",
       " 'barcelo',\n",
       " 'barclay',\n",
       " 'barden',\n",
       " 'bari',\n",
       " 'baricco',\n",
       " 'barjavel',\n",
       " 'barker',\n",
       " 'barks',\n",
       " 'barley',\n",
       " 'barlow',\n",
       " 'barnard',\n",
       " 'barnes',\n",
       " 'barone',\n",
       " 'barr',\n",
       " 'barrett',\n",
       " 'barrie',\n",
       " 'barris',\n",
       " 'barron',\n",
       " 'barrow',\n",
       " 'barry',\n",
       " 'barrymore',\n",
       " 'bartholomew',\n",
       " 'bartoletti',\n",
       " 'bascom',\n",
       " 'bashevis',\n",
       " 'bateman',\n",
       " 'bates',\n",
       " 'bathurst',\n",
       " 'battle',\n",
       " 'batz',\n",
       " 'bauby',\n",
       " 'baudelaire',\n",
       " 'baudino',\n",
       " 'baudrillard',\n",
       " 'bauer',\n",
       " 'bausch',\n",
       " 'baxt',\n",
       " 'baxter',\n",
       " 'bayley',\n",
       " 'bayly',\n",
       " 'beach',\n",
       " 'beagle',\n",
       " 'beale',\n",
       " 'beam',\n",
       " 'beamer',\n",
       " 'bear',\n",
       " 'beard',\n",
       " 'beasant',\n",
       " 'beatles',\n",
       " 'beaton',\n",
       " 'beatrice',\n",
       " 'beattie',\n",
       " 'beauman',\n",
       " 'beaumont',\n",
       " 'bebe',\n",
       " 'bebris',\n",
       " 'beck',\n",
       " 'becker',\n",
       " 'bedier',\n",
       " 'beer',\n",
       " 'begley',\n",
       " 'behrend',\n",
       " 'beigbeder',\n",
       " 'bejar',\n",
       " 'bel',\n",
       " 'belinda',\n",
       " 'bell',\n",
       " 'bella',\n",
       " 'bellacera',\n",
       " 'bellairs',\n",
       " 'belle',\n",
       " 'belli',\n",
       " 'bello',\n",
       " 'bellow',\n",
       " 'belva',\n",
       " 'belz',\n",
       " 'belzer',\n",
       " 'beman',\n",
       " 'ben',\n",
       " 'benacquista',\n",
       " 'benard',\n",
       " 'benchley',\n",
       " 'bender',\n",
       " 'benedetti',\n",
       " 'benedict',\n",
       " 'benjamin',\n",
       " 'bennett',\n",
       " 'benni',\n",
       " 'benning',\n",
       " 'bennis',\n",
       " 'benshea',\n",
       " 'benton',\n",
       " 'berendt',\n",
       " 'berenstain',\n",
       " 'beres',\n",
       " 'berg',\n",
       " 'bergen',\n",
       " 'berger',\n",
       " 'bergerac',\n",
       " 'bergin',\n",
       " 'bergmann',\n",
       " 'bergonzoni',\n",
       " 'bergren',\n",
       " 'berhard',\n",
       " 'berke',\n",
       " 'berkeley',\n",
       " 'berliner',\n",
       " 'berling',\n",
       " 'berlinski',\n",
       " 'bernall',\n",
       " 'bernard',\n",
       " 'bernhard',\n",
       " 'bernhardt',\n",
       " 'bernie',\n",
       " 'bernieres',\n",
       " 'bernstein',\n",
       " 'bernstien',\n",
       " 'bernyce',\n",
       " 'berra',\n",
       " 'berrenson',\n",
       " 'berriault',\n",
       " 'berry',\n",
       " 'bert',\n",
       " 'berton',\n",
       " 'bertram',\n",
       " 'bertrice',\n",
       " 'beryl',\n",
       " 'bester',\n",
       " 'beth',\n",
       " 'bethards',\n",
       " 'betina',\n",
       " 'betsy',\n",
       " 'bett',\n",
       " 'bettany',\n",
       " 'bette',\n",
       " 'better',\n",
       " 'bettin',\n",
       " 'bettine',\n",
       " 'betty',\n",
       " 'bettyclare',\n",
       " 'bevarly',\n",
       " 'beverley',\n",
       " 'beverly',\n",
       " 'bhaktivedanta',\n",
       " 'bianchin',\n",
       " 'bichler',\n",
       " 'biederman',\n",
       " 'bieg',\n",
       " 'biehl',\n",
       " 'bierce',\n",
       " 'biermann',\n",
       " 'bigelow',\n",
       " 'bill',\n",
       " 'billie',\n",
       " 'billington',\n",
       " 'billy',\n",
       " 'binchy',\n",
       " 'bing',\n",
       " 'bingham',\n",
       " 'binnie',\n",
       " 'bird',\n",
       " 'birgit',\n",
       " 'birmingham',\n",
       " 'bischoff',\n",
       " 'bishop',\n",
       " 'bj',\n",
       " 'black',\n",
       " 'blackaby',\n",
       " 'blackman',\n",
       " 'blackmarr',\n",
       " 'blackstock',\n",
       " 'blackwood',\n",
       " 'blair',\n",
       " 'blake',\n",
       " 'blanc',\n",
       " 'blanchard',\n",
       " 'blanche',\n",
       " 'bledsoe',\n",
       " 'blexley',\n",
       " 'blish',\n",
       " 'bliss',\n",
       " 'blissett',\n",
       " 'bloch',\n",
       " 'block',\n",
       " 'blockson',\n",
       " 'blofeld',\n",
       " 'blount',\n",
       " 'blow',\n",
       " 'blu',\n",
       " 'blue',\n",
       " 'bluh',\n",
       " 'blum',\n",
       " 'blume',\n",
       " 'blundell',\n",
       " 'blunt',\n",
       " 'bly',\n",
       " 'blyton',\n",
       " 'bo',\n",
       " 'bob',\n",
       " 'bobbie',\n",
       " 'bobin',\n",
       " 'bobrick',\n",
       " 'bobrowski',\n",
       " 'bochco',\n",
       " 'bodie',\n",
       " 'boese',\n",
       " 'boeshaar',\n",
       " 'bohjalian',\n",
       " 'bohringer',\n",
       " 'boie',\n",
       " 'boldman',\n",
       " 'bolger',\n",
       " 'bolitho',\n",
       " 'boll',\n",
       " 'bolles',\n",
       " 'bolton',\n",
       " 'bombeck',\n",
       " 'bond',\n",
       " 'bondeson',\n",
       " 'bonnefoy',\n",
       " 'bonner',\n",
       " 'bonnie',\n",
       " 'booher',\n",
       " 'booker',\n",
       " 'books',\n",
       " 'boom',\n",
       " 'booss',\n",
       " 'borchardt',\n",
       " 'borges',\n",
       " 'boris',\n",
       " 'borneman',\n",
       " 'borris',\n",
       " 'borthwick',\n",
       " 'boston',\n",
       " 'boswell',\n",
       " 'boteach',\n",
       " 'botho',\n",
       " 'botton',\n",
       " 'boukreev',\n",
       " 'boulton',\n",
       " 'bourdain',\n",
       " 'bouton',\n",
       " 'bova',\n",
       " 'bovard',\n",
       " 'bovee',\n",
       " 'bowden',\n",
       " 'bowen',\n",
       " 'bowering',\n",
       " 'bowes',\n",
       " 'bowie',\n",
       " 'bowles',\n",
       " 'bowman',\n",
       " 'boyd',\n",
       " 'boyer',\n",
       " 'boylan',\n",
       " 'boyle',\n",
       " 'boynton',\n",
       " 'braam',\n",
       " 'brad',\n",
       " 'bradbury',\n",
       " 'bradby',\n",
       " 'bradford',\n",
       " 'bradley',\n",
       " 'brady',\n",
       " 'bragg',\n",
       " 'bram',\n",
       " 'brancati',\n",
       " 'brand',\n",
       " 'brande',\n",
       " 'brandewyne',\n",
       " 'brandon',\n",
       " 'brandt',\n",
       " 'brant',\n",
       " 'brashares',\n",
       " 'brashear',\n",
       " 'brassey',\n",
       " 'brate',\n",
       " 'braun',\n",
       " 'brave',\n",
       " 'braver',\n",
       " 'bray',\n",
       " 'braynard',\n",
       " 'brazelton',\n",
       " 'breathed',\n",
       " 'breathnach',\n",
       " 'breena',\n",
       " 'brehony',\n",
       " 'breinholst',\n",
       " 'brem',\n",
       " 'brenda',\n",
       " 'brennan',\n",
       " 'breslin',\n",
       " 'bret',\n",
       " 'breton',\n",
       " 'brett',\n",
       " 'bretton',\n",
       " 'brewster',\n",
       " 'brez',\n",
       " 'brian',\n",
       " 'bricklin',\n",
       " 'bridwell',\n",
       " 'brien',\n",
       " 'brightfield',\n",
       " 'brigitte',\n",
       " 'brin',\n",
       " 'brindle',\n",
       " 'brindley',\n",
       " 'brink',\n",
       " 'british',\n",
       " 'brittain',\n",
       " 'britton',\n",
       " 'brizzi',\n",
       " 'broadrick',\n",
       " 'brockmann',\n",
       " 'brod',\n",
       " 'broder',\n",
       " 'bronski',\n",
       " 'bronte',\n",
       " 'bronwyn',\n",
       " 'brooke',\n",
       " 'brookner',\n",
       " 'brooks',\n",
       " 'brother',\n",
       " 'brothers',\n",
       " 'brouwer',\n",
       " 'brower',\n",
       " 'brown',\n",
       " 'browne',\n",
       " 'browning',\n",
       " 'brownmiller',\n",
       " 'broyard',\n",
       " 'bruce',\n",
       " 'brumberg',\n",
       " 'brunhoff',\n",
       " 'bruno',\n",
       " 'brussig',\n",
       " 'bryan',\n",
       " 'bryant',\n",
       " 'bryce',\n",
       " 'bryn',\n",
       " 'bryson',\n",
       " 'bstan',\n",
       " 'buarque',\n",
       " 'buber',\n",
       " 'bucay',\n",
       " 'buchanan',\n",
       " 'buck',\n",
       " 'buckey',\n",
       " 'buckland',\n",
       " 'buckley',\n",
       " 'bucklin',\n",
       " 'buechner',\n",
       " 'buerge',\n",
       " 'buff',\n",
       " 'buffett',\n",
       " 'buford',\n",
       " 'bugliosi',\n",
       " 'bujold',\n",
       " 'bukowski',\n",
       " 'bulgakov',\n",
       " 'bull',\n",
       " 'bullard',\n",
       " 'bullock',\n",
       " 'bulychev',\n",
       " 'bundles',\n",
       " 'bunker',\n",
       " 'bunkie',\n",
       " 'bunson',\n",
       " 'burana',\n",
       " 'burdekin',\n",
       " 'buresh',\n",
       " 'burgess',\n",
       " 'burgett',\n",
       " 'burka',\n",
       " 'burkart',\n",
       " 'burke',\n",
       " 'burkett',\n",
       " 'burnett',\n",
       " 'burns',\n",
       " 'burroughs',\n",
       " 'burstein',\n",
       " 'burt',\n",
       " 'burton',\n",
       " 'busbee',\n",
       " 'buscaglia',\n",
       " 'busch',\n",
       " 'bushnell',\n",
       " 'buske',\n",
       " 'buss',\n",
       " 'butcher',\n",
       " 'butler',\n",
       " 'butterworth',\n",
       " 'buxton',\n",
       " 'buzan',\n",
       " 'buzimski',\n",
       " 'buzz',\n",
       " 'by',\n",
       " 'byars',\n",
       " 'byatt',\n",
       " 'byerrum',\n",
       " 'byron',\n",
       " 'bã',\n",
       " 'cable',\n",
       " 'cabot',\n",
       " 'cabrera',\n",
       " 'cacek',\n",
       " 'caduto',\n",
       " 'caeia',\n",
       " 'caela',\n",
       " 'cafi',\n",
       " 'cahill',\n",
       " 'caignon',\n",
       " 'cain',\n",
       " 'caiseal',\n",
       " 'cait',\n",
       " 'caitlin',\n",
       " 'calasso',\n",
       " 'calcutt',\n",
       " 'calder',\n",
       " 'calderã³n',\n",
       " 'caldwell',\n",
       " 'caleb',\n",
       " 'callery',\n",
       " 'callwood',\n",
       " 'calvin',\n",
       " 'calvino',\n",
       " 'camara',\n",
       " 'cameron',\n",
       " 'camilla',\n",
       " 'camille',\n",
       " 'camilleri',\n",
       " 'camilo',\n",
       " 'camp',\n",
       " 'campbell',\n",
       " 'campos',\n",
       " 'camus',\n",
       " 'cana',\n",
       " 'candace',\n",
       " 'candice',\n",
       " 'canfield',\n",
       " 'canham',\n",
       " 'cannell',\n",
       " 'cantwell',\n",
       " 'capote',\n",
       " 'capra',\n",
       " 'captain',\n",
       " 'capus',\n",
       " 'capuzzo',\n",
       " 'capã³',\n",
       " 'cara',\n",
       " 'caras',\n",
       " 'carcaterra',\n",
       " 'card',\n",
       " 'care',\n",
       " 'caren',\n",
       " 'carey',\n",
       " 'carl',\n",
       " 'carle',\n",
       " 'carlene',\n",
       " 'carlin',\n",
       " 'carlisle',\n",
       " 'carlo',\n",
       " 'carlos',\n",
       " 'carlson',\n",
       " 'carlton',\n",
       " 'carly',\n",
       " 'carlysle',\n",
       " 'carme',\n",
       " 'carmen',\n",
       " 'carmichael',\n",
       " 'carnegie',\n",
       " 'carnes',\n",
       " 'carol',\n",
       " 'carole',\n",
       " 'carolee',\n",
       " 'caroline',\n",
       " 'carolly',\n",
       " 'carolyn',\n",
       " 'carolyne',\n",
       " 'carpenter',\n",
       " 'carpentier',\n",
       " 'carr',\n",
       " 'carre',\n",
       " 'carrie',\n",
       " 'carroll',\n",
       " 'carrã',\n",
       " 'carson',\n",
       " 'carter',\n",
       " 'carus',\n",
       " 'carvalho',\n",
       " 'carver',\n",
       " 'cary',\n",
       " 'case',\n",
       " 'casey',\n",
       " 'cash',\n",
       " 'cashwell',\n",
       " 'casper',\n",
       " 'cassandra',\n",
       " 'cassie',\n",
       " 'cast',\n",
       " 'castaneda',\n",
       " 'castedo',\n",
       " 'castillo',\n",
       " 'castle',\n",
       " 'catalano',\n",
       " 'catalã',\n",
       " 'catharina',\n",
       " 'cather',\n",
       " 'catherine',\n",
       " 'cathi',\n",
       " 'cathie',\n",
       " 'cathleen',\n",
       " 'catholic',\n",
       " 'cathy',\n",
       " 'catling',\n",
       " 'catton',\n",
       " 'caudwell',\n",
       " 'cauti',\n",
       " 'cauwelaert',\n",
       " 'cdr',\n",
       " 'cecchio',\n",
       " 'cecil',\n",
       " 'cees',\n",
       " 'ceil',\n",
       " 'cela',\n",
       " 'celeste',\n",
       " 'celia',\n",
       " 'cercas',\n",
       " 'ceren',\n",
       " 'cervantes',\n",
       " 'cesare',\n",
       " 'cesco',\n",
       " 'cha',\n",
       " 'chabon',\n",
       " 'chaim',\n",
       " 'chalker',\n",
       " 'chamberlain',\n",
       " 'chambers',\n",
       " 'chandler',\n",
       " 'chandra',\n",
       " 'chang',\n",
       " 'chao',\n",
       " 'chapman',\n",
       " 'chappell',\n",
       " 'charlaine',\n",
       " 'charles',\n",
       " 'charlotte',\n",
       " 'charrette',\n",
       " 'chartrand',\n",
       " 'chase',\n",
       " 'chatani',\n",
       " 'chatwin',\n",
       " 'chaucer',\n",
       " 'chaudhuri',\n",
       " 'chauncey',\n",
       " 'chbosky',\n",
       " 'chelsea',\n",
       " 'cheng',\n",
       " 'cherie',\n",
       " 'cherrie',\n",
       " 'cherryh',\n",
       " 'cheryl',\n",
       " 'chesterton',\n",
       " 'chet',\n",
       " 'chevalier',\n",
       " 'chew',\n",
       " 'chiaverini',\n",
       " 'chichester',\n",
       " 'chico',\n",
       " 'child',\n",
       " 'childress',\n",
       " 'childs',\n",
       " 'chin',\n",
       " 'china',\n",
       " 'chinua',\n",
       " 'chip',\n",
       " 'chipman',\n",
       " 'chitra',\n",
       " 'chodron',\n",
       " 'cholfin',\n",
       " 'chopin',\n",
       " 'chopra',\n",
       " 'chris',\n",
       " 'christa',\n",
       " 'christelow',\n",
       " 'christenberry',\n",
       " 'christian',\n",
       " 'christiane',\n",
       " 'christie',\n",
       " 'christina',\n",
       " 'christine',\n",
       " 'christof',\n",
       " 'christofferson',\n",
       " 'christoph',\n",
       " 'christophe',\n",
       " 'christopher',\n",
       " 'christy',\n",
       " 'chrstine',\n",
       " 'chu',\n",
       " 'chuck',\n",
       " 'chuen',\n",
       " 'chun',\n",
       " 'chunder',\n",
       " 'chunovic',\n",
       " 'church',\n",
       " 'churchill',\n",
       " 'chute',\n",
       " 'ciencin',\n",
       " 'cieza',\n",
       " 'cinammon',\n",
       " 'cindy',\n",
       " 'ciresi',\n",
       " 'cirker',\n",
       " 'cisneros',\n",
       " 'civil',\n",
       " 'cker',\n",
       " 'claiborne',\n",
       " 'clairday',\n",
       " 'claire',\n",
       " 'clancy',\n",
       " 'clara',\n",
       " 'clare',\n",
       " 'clarissa',\n",
       " 'clark',\n",
       " 'clarke',\n",
       " 'claude',\n",
       " 'claudia',\n",
       " 'claudio',\n",
       " 'clav',\n",
       " 'clavell',\n",
       " 'clay',\n",
       " 'claybourne',\n",
       " 'clayton',\n",
       " 'cleage',\n",
       " 'cleary',\n",
       " 'cleaver',\n",
       " 'clegg',\n",
       " 'clement',\n",
       " 'clements',\n",
       " 'cleveland',\n",
       " 'clews',\n",
       " 'clifford',\n",
       " 'clifton',\n",
       " 'clive',\n",
       " 'cloutier',\n",
       " 'clover',\n",
       " 'clowes',\n",
       " 'clyde',\n",
       " 'clã',\n",
       " 'co',\n",
       " 'coady',\n",
       " 'cobb',\n",
       " 'coben',\n",
       " 'cochran',\n",
       " 'cocquyt',\n",
       " 'coddington',\n",
       " 'codell',\n",
       " 'codrescu',\n",
       " 'coelho',\n",
       " 'coen',\n",
       " 'coerr',\n",
       " 'coetzee',\n",
       " 'coffman',\n",
       " 'cohen',\n",
       " 'cohn',\n",
       " 'cokie',\n",
       " 'colapinto',\n",
       " 'cole',\n",
       " 'coleman',\n",
       " 'coleridge',\n",
       " 'coles',\n",
       " 'colette',\n",
       " 'colfer',\n",
       " 'colgan',\n",
       " 'colin',\n",
       " 'coll',\n",
       " 'collange',\n",
       " 'collard',\n",
       " 'collectif',\n",
       " 'colleen',\n",
       " 'college',\n",
       " 'collier',\n",
       " 'collin',\n",
       " 'colling',\n",
       " 'collins',\n",
       " 'collodi',\n",
       " 'colm',\n",
       " 'colombo',\n",
       " 'colum',\n",
       " 'company',\n",
       " 'compton',\n",
       " 'conan',\n",
       " 'conant',\n",
       " 'conari',\n",
       " ...]"
      ]
     },
     "execution_count": 41,
     "metadata": {},
     "output_type": "execute_result"
    }
   ],
   "source": [
    "from sklearn.feature_extraction.text import TfidfVectorizer\n",
    " \n",
    "tf = TfidfVectorizer()\n",
    " \n",
    "tf.fit(book['book_author']) \n",
    " \n",
    "tf.get_feature_names() "
   ]
  },
  {
   "cell_type": "markdown",
   "id": "9c080850",
   "metadata": {
    "papermill": {
     "duration": 0.073681,
     "end_time": "2021-10-07T10:27:21.255886",
     "exception": false,
     "start_time": "2021-10-07T10:27:21.182205",
     "status": "completed"
    },
    "tags": []
   },
   "source": [
    "Kemudian kita akan lakukan fit dan transformasi ke dalam matriks, pada code di bawah ini, matriks tersebut adalah tfidf_matrix"
   ]
  },
  {
   "cell_type": "code",
   "execution_count": 42,
   "id": "d5ba200c",
   "metadata": {
    "execution": {
     "iopub.execute_input": "2021-10-07T10:27:21.460156Z",
     "iopub.status.busy": "2021-10-07T10:27:21.442837Z",
     "iopub.status.idle": "2021-10-07T10:27:21.477401Z",
     "shell.execute_reply": "2021-10-07T10:27:21.477795Z",
     "shell.execute_reply.started": "2021-10-06T18:00:38.285912Z"
    },
    "papermill": {
     "duration": 0.148533,
     "end_time": "2021-10-07T10:27:21.477924",
     "exception": false,
     "start_time": "2021-10-07T10:27:21.329391",
     "status": "completed"
    },
    "tags": []
   },
   "outputs": [
    {
     "data": {
      "text/plain": [
       "(10000, 5575)"
      ]
     },
     "execution_count": 42,
     "metadata": {},
     "output_type": "execute_result"
    }
   ],
   "source": [
    "tfidf_matrix = tf.fit_transform(book['book_author']) \n",
    " \n",
    "tfidf_matrix.shape "
   ]
  },
  {
   "cell_type": "markdown",
   "id": "fbf080fb",
   "metadata": {
    "papermill": {
     "duration": 0.074439,
     "end_time": "2021-10-07T10:27:21.629907",
     "exception": false,
     "start_time": "2021-10-07T10:27:21.555468",
     "status": "completed"
    },
    "tags": []
   },
   "source": [
    "Pada tfidf_matrix terdapat 10000 ukuran data dan 5575 nama penulis buku\n"
   ]
  },
  {
   "cell_type": "markdown",
   "id": "f397c830",
   "metadata": {
    "papermill": {
     "duration": 0.073093,
     "end_time": "2021-10-07T10:27:21.775229",
     "exception": false,
     "start_time": "2021-10-07T10:27:21.702136",
     "status": "completed"
    },
    "tags": []
   },
   "source": [
    ".todense(), atribut ini dipakai untuk mengubah tfidf_matrix yang awalnya vektor menjadi matriks"
   ]
  },
  {
   "cell_type": "code",
   "execution_count": 43,
   "id": "9f6e38f0",
   "metadata": {
    "execution": {
     "iopub.execute_input": "2021-10-07T10:27:21.925897Z",
     "iopub.status.busy": "2021-10-07T10:27:21.924967Z",
     "iopub.status.idle": "2021-10-07T10:27:22.019300Z",
     "shell.execute_reply": "2021-10-07T10:27:22.019712Z",
     "shell.execute_reply.started": "2021-10-06T18:00:39.884763Z"
    },
    "papermill": {
     "duration": 0.17115,
     "end_time": "2021-10-07T10:27:22.019858",
     "exception": false,
     "start_time": "2021-10-07T10:27:21.848708",
     "status": "completed"
    },
    "tags": []
   },
   "outputs": [
    {
     "data": {
      "text/plain": [
       "matrix([[0., 0., 0., ..., 0., 0., 0.],\n",
       "        [0., 0., 0., ..., 0., 0., 0.],\n",
       "        [0., 0., 0., ..., 0., 0., 0.],\n",
       "        ...,\n",
       "        [0., 0., 0., ..., 0., 0., 0.],\n",
       "        [0., 0., 0., ..., 0., 0., 0.],\n",
       "        [0., 0., 0., ..., 0., 0., 0.]])"
      ]
     },
     "execution_count": 43,
     "metadata": {},
     "output_type": "execute_result"
    }
   ],
   "source": [
    "tfidf_matrix.todense()"
   ]
  },
  {
   "cell_type": "markdown",
   "id": "0c4c4a39",
   "metadata": {
    "papermill": {
     "duration": 0.073307,
     "end_time": "2021-10-07T10:27:22.170617",
     "exception": false,
     "start_time": "2021-10-07T10:27:22.097310",
     "status": "completed"
    },
    "tags": []
   },
   "source": [
    "Dataframe di bawah ini digunakan untuk melihat matriks dari judul buku dengan penulis - penulis buku"
   ]
  },
  {
   "cell_type": "code",
   "execution_count": 44,
   "id": "ecdaa25c",
   "metadata": {
    "execution": {
     "iopub.execute_input": "2021-10-07T10:27:22.321205Z",
     "iopub.status.busy": "2021-10-07T10:27:22.318112Z",
     "iopub.status.idle": "2021-10-07T10:27:22.491142Z",
     "shell.execute_reply": "2021-10-07T10:27:22.490500Z",
     "shell.execute_reply.started": "2021-10-06T18:00:42.363298Z"
    },
    "papermill": {
     "duration": 0.247896,
     "end_time": "2021-10-07T10:27:22.491271",
     "exception": false,
     "start_time": "2021-10-07T10:27:22.243375",
     "status": "completed"
    },
    "tags": []
   },
   "outputs": [
    {
     "data": {
      "text/html": [
       "<div>\n",
       "<style scoped>\n",
       "    .dataframe tbody tr th:only-of-type {\n",
       "        vertical-align: middle;\n",
       "    }\n",
       "\n",
       "    .dataframe tbody tr th {\n",
       "        vertical-align: top;\n",
       "    }\n",
       "\n",
       "    .dataframe thead th {\n",
       "        text-align: right;\n",
       "    }\n",
       "</style>\n",
       "<table border=\"1\" class=\"dataframe\">\n",
       "  <thead>\n",
       "    <tr style=\"text-align: right;\">\n",
       "      <th></th>\n",
       "      <th>bell</th>\n",
       "      <th>kitty</th>\n",
       "      <th>mackie</th>\n",
       "      <th>ellyn</th>\n",
       "      <th>tulchinsky</th>\n",
       "      <th>rachelle</th>\n",
       "      <th>greenhall</th>\n",
       "      <th>stanislaw</th>\n",
       "      <th>wolzien</th>\n",
       "      <th>sedaris</th>\n",
       "    </tr>\n",
       "    <tr>\n",
       "      <th>book_title</th>\n",
       "      <th></th>\n",
       "      <th></th>\n",
       "      <th></th>\n",
       "      <th></th>\n",
       "      <th></th>\n",
       "      <th></th>\n",
       "      <th></th>\n",
       "      <th></th>\n",
       "      <th></th>\n",
       "      <th></th>\n",
       "    </tr>\n",
       "  </thead>\n",
       "  <tbody>\n",
       "    <tr>\n",
       "      <th>There Are No Children Here: The Story of Two Boys Growing Up in the Other America</th>\n",
       "      <td>0.0</td>\n",
       "      <td>0.0</td>\n",
       "      <td>0.0</td>\n",
       "      <td>0.0</td>\n",
       "      <td>0.0</td>\n",
       "      <td>0.0</td>\n",
       "      <td>0.0</td>\n",
       "      <td>0.0</td>\n",
       "      <td>0.0</td>\n",
       "      <td>0.0</td>\n",
       "    </tr>\n",
       "    <tr>\n",
       "      <th>The Empty Chair</th>\n",
       "      <td>0.0</td>\n",
       "      <td>0.0</td>\n",
       "      <td>0.0</td>\n",
       "      <td>0.0</td>\n",
       "      <td>0.0</td>\n",
       "      <td>0.0</td>\n",
       "      <td>0.0</td>\n",
       "      <td>0.0</td>\n",
       "      <td>0.0</td>\n",
       "      <td>0.0</td>\n",
       "    </tr>\n",
       "    <tr>\n",
       "      <th>Le Parfum : Histoire d'un meurtrier</th>\n",
       "      <td>0.0</td>\n",
       "      <td>0.0</td>\n",
       "      <td>0.0</td>\n",
       "      <td>0.0</td>\n",
       "      <td>0.0</td>\n",
       "      <td>0.0</td>\n",
       "      <td>0.0</td>\n",
       "      <td>0.0</td>\n",
       "      <td>0.0</td>\n",
       "      <td>0.0</td>\n",
       "    </tr>\n",
       "    <tr>\n",
       "      <th>Abduction</th>\n",
       "      <td>0.0</td>\n",
       "      <td>0.0</td>\n",
       "      <td>0.0</td>\n",
       "      <td>0.0</td>\n",
       "      <td>0.0</td>\n",
       "      <td>0.0</td>\n",
       "      <td>0.0</td>\n",
       "      <td>0.0</td>\n",
       "      <td>0.0</td>\n",
       "      <td>0.0</td>\n",
       "    </tr>\n",
       "    <tr>\n",
       "      <th>The Route 66 Traveler's Guide and Roadside Companion</th>\n",
       "      <td>0.0</td>\n",
       "      <td>0.0</td>\n",
       "      <td>0.0</td>\n",
       "      <td>0.0</td>\n",
       "      <td>0.0</td>\n",
       "      <td>0.0</td>\n",
       "      <td>0.0</td>\n",
       "      <td>0.0</td>\n",
       "      <td>0.0</td>\n",
       "      <td>0.0</td>\n",
       "    </tr>\n",
       "    <tr>\n",
       "      <th>Hang a Thousand Trees with Ribbons: The Story of Phillis Wheatley</th>\n",
       "      <td>0.0</td>\n",
       "      <td>0.0</td>\n",
       "      <td>0.0</td>\n",
       "      <td>0.0</td>\n",
       "      <td>0.0</td>\n",
       "      <td>0.0</td>\n",
       "      <td>0.0</td>\n",
       "      <td>0.0</td>\n",
       "      <td>0.0</td>\n",
       "      <td>0.0</td>\n",
       "    </tr>\n",
       "    <tr>\n",
       "      <th>The Big Camp Secret (Sweet Valley Twins, No 3/Super Edition)</th>\n",
       "      <td>0.0</td>\n",
       "      <td>0.0</td>\n",
       "      <td>0.0</td>\n",
       "      <td>0.0</td>\n",
       "      <td>0.0</td>\n",
       "      <td>0.0</td>\n",
       "      <td>0.0</td>\n",
       "      <td>0.0</td>\n",
       "      <td>0.0</td>\n",
       "      <td>0.0</td>\n",
       "    </tr>\n",
       "    <tr>\n",
       "      <th>Mittsommermord. Roman.</th>\n",
       "      <td>0.0</td>\n",
       "      <td>0.0</td>\n",
       "      <td>0.0</td>\n",
       "      <td>0.0</td>\n",
       "      <td>0.0</td>\n",
       "      <td>0.0</td>\n",
       "      <td>0.0</td>\n",
       "      <td>0.0</td>\n",
       "      <td>0.0</td>\n",
       "      <td>0.0</td>\n",
       "    </tr>\n",
       "    <tr>\n",
       "      <th>Behind the Scenes at the Museum : A Novel</th>\n",
       "      <td>0.0</td>\n",
       "      <td>0.0</td>\n",
       "      <td>0.0</td>\n",
       "      <td>0.0</td>\n",
       "      <td>0.0</td>\n",
       "      <td>0.0</td>\n",
       "      <td>0.0</td>\n",
       "      <td>0.0</td>\n",
       "      <td>0.0</td>\n",
       "      <td>0.0</td>\n",
       "    </tr>\n",
       "    <tr>\n",
       "      <th>Une si longue nuit</th>\n",
       "      <td>0.0</td>\n",
       "      <td>0.0</td>\n",
       "      <td>0.0</td>\n",
       "      <td>0.0</td>\n",
       "      <td>0.0</td>\n",
       "      <td>0.0</td>\n",
       "      <td>0.0</td>\n",
       "      <td>0.0</td>\n",
       "      <td>0.0</td>\n",
       "      <td>0.0</td>\n",
       "    </tr>\n",
       "  </tbody>\n",
       "</table>\n",
       "</div>"
      ],
      "text/plain": [
       "                                                    bell  kitty  mackie  \\\n",
       "book_title                                                                \n",
       "There Are No Children Here: The Story of Two Bo...   0.0    0.0     0.0   \n",
       "The Empty Chair                                      0.0    0.0     0.0   \n",
       "Le Parfum : Histoire d'un meurtrier                  0.0    0.0     0.0   \n",
       "Abduction                                            0.0    0.0     0.0   \n",
       "The Route 66 Traveler's Guide and Roadside Comp...   0.0    0.0     0.0   \n",
       "Hang a Thousand Trees with Ribbons: The Story o...   0.0    0.0     0.0   \n",
       "The Big Camp Secret (Sweet Valley Twins, No 3/S...   0.0    0.0     0.0   \n",
       "Mittsommermord. Roman.                               0.0    0.0     0.0   \n",
       "Behind the Scenes at the Museum : A Novel            0.0    0.0     0.0   \n",
       "Une si longue nuit                                   0.0    0.0     0.0   \n",
       "\n",
       "                                                    ellyn  tulchinsky  \\\n",
       "book_title                                                              \n",
       "There Are No Children Here: The Story of Two Bo...    0.0         0.0   \n",
       "The Empty Chair                                       0.0         0.0   \n",
       "Le Parfum : Histoire d'un meurtrier                   0.0         0.0   \n",
       "Abduction                                             0.0         0.0   \n",
       "The Route 66 Traveler's Guide and Roadside Comp...    0.0         0.0   \n",
       "Hang a Thousand Trees with Ribbons: The Story o...    0.0         0.0   \n",
       "The Big Camp Secret (Sweet Valley Twins, No 3/S...    0.0         0.0   \n",
       "Mittsommermord. Roman.                                0.0         0.0   \n",
       "Behind the Scenes at the Museum : A Novel             0.0         0.0   \n",
       "Une si longue nuit                                    0.0         0.0   \n",
       "\n",
       "                                                    rachelle  greenhall  \\\n",
       "book_title                                                                \n",
       "There Are No Children Here: The Story of Two Bo...       0.0        0.0   \n",
       "The Empty Chair                                          0.0        0.0   \n",
       "Le Parfum : Histoire d'un meurtrier                      0.0        0.0   \n",
       "Abduction                                                0.0        0.0   \n",
       "The Route 66 Traveler's Guide and Roadside Comp...       0.0        0.0   \n",
       "Hang a Thousand Trees with Ribbons: The Story o...       0.0        0.0   \n",
       "The Big Camp Secret (Sweet Valley Twins, No 3/S...       0.0        0.0   \n",
       "Mittsommermord. Roman.                                   0.0        0.0   \n",
       "Behind the Scenes at the Museum : A Novel                0.0        0.0   \n",
       "Une si longue nuit                                       0.0        0.0   \n",
       "\n",
       "                                                    stanislaw  wolzien  \\\n",
       "book_title                                                               \n",
       "There Are No Children Here: The Story of Two Bo...        0.0      0.0   \n",
       "The Empty Chair                                           0.0      0.0   \n",
       "Le Parfum : Histoire d'un meurtrier                       0.0      0.0   \n",
       "Abduction                                                 0.0      0.0   \n",
       "The Route 66 Traveler's Guide and Roadside Comp...        0.0      0.0   \n",
       "Hang a Thousand Trees with Ribbons: The Story o...        0.0      0.0   \n",
       "The Big Camp Secret (Sweet Valley Twins, No 3/S...        0.0      0.0   \n",
       "Mittsommermord. Roman.                                    0.0      0.0   \n",
       "Behind the Scenes at the Museum : A Novel                 0.0      0.0   \n",
       "Une si longue nuit                                        0.0      0.0   \n",
       "\n",
       "                                                    sedaris  \n",
       "book_title                                                   \n",
       "There Are No Children Here: The Story of Two Bo...      0.0  \n",
       "The Empty Chair                                         0.0  \n",
       "Le Parfum : Histoire d'un meurtrier                     0.0  \n",
       "Abduction                                               0.0  \n",
       "The Route 66 Traveler's Guide and Roadside Comp...      0.0  \n",
       "Hang a Thousand Trees with Ribbons: The Story o...      0.0  \n",
       "The Big Camp Secret (Sweet Valley Twins, No 3/S...      0.0  \n",
       "Mittsommermord. Roman.                                  0.0  \n",
       "Behind the Scenes at the Museum : A Novel               0.0  \n",
       "Une si longue nuit                                      0.0  "
      ]
     },
     "execution_count": 44,
     "metadata": {},
     "output_type": "execute_result"
    }
   ],
   "source": [
    "pd.DataFrame(\n",
    "    tfidf_matrix.todense(), \n",
    "    columns=tf.get_feature_names(),\n",
    "    index=book.book_title\n",
    ").sample(10, axis=1,replace=True).sample(10, axis=0)"
   ]
  },
  {
   "cell_type": "markdown",
   "id": "22e20244",
   "metadata": {
    "papermill": {
     "duration": 0.077642,
     "end_time": "2021-10-07T10:27:22.651239",
     "exception": false,
     "start_time": "2021-10-07T10:27:22.573597",
     "status": "completed"
    },
    "tags": []
   },
   "source": [
    "Dalam sistem rekomendasi, kita perlu mencari cara supaya item yang kita rekomendasikan tidak terlalu jauh dari data pusat, oleh karena itu kita butuh derajat kesamaan pada item, dalam proyek ini, buku dengan derajat kesamaan antar buku dengan cosine similarity"
   ]
  },
  {
   "cell_type": "code",
   "execution_count": 45,
   "id": "bc03c312",
   "metadata": {
    "execution": {
     "iopub.execute_input": "2021-10-07T10:27:22.812089Z",
     "iopub.status.busy": "2021-10-07T10:27:22.811354Z",
     "iopub.status.idle": "2021-10-07T10:27:23.376990Z",
     "shell.execute_reply": "2021-10-07T10:27:23.377394Z"
    },
    "papermill": {
     "duration": 0.648499,
     "end_time": "2021-10-07T10:27:23.377590",
     "exception": false,
     "start_time": "2021-10-07T10:27:22.729091",
     "status": "completed"
    },
    "tags": []
   },
   "outputs": [
    {
     "data": {
      "text/plain": [
       "array([[1., 0., 0., ..., 0., 0., 0.],\n",
       "       [0., 1., 0., ..., 0., 0., 0.],\n",
       "       [0., 0., 1., ..., 0., 0., 0.],\n",
       "       ...,\n",
       "       [0., 0., 0., ..., 1., 0., 0.],\n",
       "       [0., 0., 0., ..., 0., 1., 0.],\n",
       "       [0., 0., 0., ..., 0., 0., 1.]])"
      ]
     },
     "execution_count": 45,
     "metadata": {},
     "output_type": "execute_result"
    }
   ],
   "source": [
    "from sklearn.metrics.pairwise import cosine_similarity\n",
    " \n",
    "cosine_sim = cosine_similarity(tfidf_matrix) \n",
    "cosine_sim"
   ]
  },
  {
   "cell_type": "markdown",
   "id": "00f07bc7",
   "metadata": {
    "papermill": {
     "duration": 0.073541,
     "end_time": "2021-10-07T10:27:23.527696",
     "exception": false,
     "start_time": "2021-10-07T10:27:23.454155",
     "status": "completed"
    },
    "tags": []
   },
   "source": [
    "Pada code di bawah ini kita akan membuat dataframe cosine_sim_df dengan baris dan kolomnya adalah judul dari buku"
   ]
  },
  {
   "cell_type": "code",
   "execution_count": 46,
   "id": "8106fde8",
   "metadata": {
    "execution": {
     "iopub.execute_input": "2021-10-07T10:27:23.680356Z",
     "iopub.status.busy": "2021-10-07T10:27:23.677270Z",
     "iopub.status.idle": "2021-10-07T10:27:23.682918Z",
     "shell.execute_reply": "2021-10-07T10:27:23.682341Z"
    },
    "papermill": {
     "duration": 0.08172,
     "end_time": "2021-10-07T10:27:23.683048",
     "exception": false,
     "start_time": "2021-10-07T10:27:23.601328",
     "status": "completed"
    },
    "tags": []
   },
   "outputs": [],
   "source": [
    "cosine_sim_df = pd.DataFrame(cosine_sim, index=book['book_title'], columns=book['book_title'])"
   ]
  },
  {
   "cell_type": "markdown",
   "id": "cfba40b1",
   "metadata": {
    "papermill": {
     "duration": 0.073962,
     "end_time": "2021-10-07T10:27:23.830835",
     "exception": false,
     "start_time": "2021-10-07T10:27:23.756873",
     "status": "completed"
    },
    "tags": []
   },
   "source": [
    "Di bawah ini adalah fungsi untuk mendapatkan rekomendasi berbasis penulis buku dengan k sebagai jumlah rekomendasi yang diingkan, dalam fungsi ini, kita akan mendapatkan 5 rekomendasi"
   ]
  },
  {
   "cell_type": "markdown",
   "id": "88c51ab1",
   "metadata": {
    "papermill": {
     "duration": 0.074641,
     "end_time": "2021-10-07T10:27:23.979550",
     "exception": false,
     "start_time": "2021-10-07T10:27:23.904909",
     "status": "completed"
    },
    "tags": []
   },
   "source": [
    "Atribut argpartition berguna untuk mengambil sejumlah nilai k, dalam fungsi ini 5 tertinggi dari tingkat kesamaan yang berasal dari dataframe cosine_sim_df."
   ]
  },
  {
   "cell_type": "code",
   "execution_count": 47,
   "id": "f5439f30",
   "metadata": {
    "execution": {
     "iopub.execute_input": "2021-10-07T10:27:24.133260Z",
     "iopub.status.busy": "2021-10-07T10:27:24.132300Z",
     "iopub.status.idle": "2021-10-07T10:27:24.134909Z",
     "shell.execute_reply": "2021-10-07T10:27:24.134353Z"
    },
    "papermill": {
     "duration": 0.081772,
     "end_time": "2021-10-07T10:27:24.135035",
     "exception": false,
     "start_time": "2021-10-07T10:27:24.053263",
     "status": "completed"
    },
    "tags": []
   },
   "outputs": [],
   "source": [
    "def author_recommendations(i, M, items, k=5):\n",
    "    ix = M.loc[:,i].to_numpy().argpartition(range(-1,-k,-1))\n",
    "    closest = M.columns[ix[-1:-(k+2):-1]]\n",
    "    closest = closest.drop(i, errors='ignore')\n",
    "    return pd.DataFrame(closest).merge(items).head(k)"
   ]
  },
  {
   "cell_type": "markdown",
   "id": "72899ff3",
   "metadata": {
    "papermill": {
     "duration": 0.075036,
     "end_time": "2021-10-07T10:27:24.287611",
     "exception": false,
     "start_time": "2021-10-07T10:27:24.212575",
     "status": "completed"
    },
    "tags": []
   },
   "source": [
    "Pada code cell di bawah ini, kita akan mencari rekomendasi dari buku yang sudah dibaca, dalam kasus ini, buku yang sudah dibaca adalah \"The Diaries of Adam and Eve\" yang ditulis oleh Mark Twain dan terbit pada tahun 1998"
   ]
  },
  {
   "cell_type": "code",
   "execution_count": 48,
   "id": "5772382b",
   "metadata": {
    "execution": {
     "iopub.execute_input": "2021-10-07T10:27:24.449184Z",
     "iopub.status.busy": "2021-10-07T10:27:24.448376Z",
     "iopub.status.idle": "2021-10-07T10:27:24.451255Z",
     "shell.execute_reply": "2021-10-07T10:27:24.451649Z"
    },
    "papermill": {
     "duration": 0.089139,
     "end_time": "2021-10-07T10:27:24.451772",
     "exception": false,
     "start_time": "2021-10-07T10:27:24.362633",
     "status": "completed"
    },
    "tags": []
   },
   "outputs": [
    {
     "data": {
      "text/html": [
       "<div>\n",
       "<style scoped>\n",
       "    .dataframe tbody tr th:only-of-type {\n",
       "        vertical-align: middle;\n",
       "    }\n",
       "\n",
       "    .dataframe tbody tr th {\n",
       "        vertical-align: top;\n",
       "    }\n",
       "\n",
       "    .dataframe thead th {\n",
       "        text-align: right;\n",
       "    }\n",
       "</style>\n",
       "<table border=\"1\" class=\"dataframe\">\n",
       "  <thead>\n",
       "    <tr style=\"text-align: right;\">\n",
       "      <th></th>\n",
       "      <th>book_ISBN</th>\n",
       "      <th>book_title</th>\n",
       "      <th>book_author</th>\n",
       "      <th>book_year_of_publication</th>\n",
       "    </tr>\n",
       "  </thead>\n",
       "  <tbody>\n",
       "    <tr>\n",
       "      <th>4700</th>\n",
       "      <td>0965881199</td>\n",
       "      <td>The Diaries of Adam and Eve</td>\n",
       "      <td>Mark Twain</td>\n",
       "      <td>1998</td>\n",
       "    </tr>\n",
       "  </tbody>\n",
       "</table>\n",
       "</div>"
      ],
      "text/plain": [
       "       book_ISBN                   book_title book_author  \\\n",
       "4700  0965881199  The Diaries of Adam and Eve  Mark Twain   \n",
       "\n",
       "      book_year_of_publication  \n",
       "4700                      1998  "
      ]
     },
     "execution_count": 48,
     "metadata": {},
     "output_type": "execute_result"
    }
   ],
   "source": [
    "books_that_have_been_read = \"The Diaries of Adam and Eve\"\n",
    "book[book.book_title.eq(books_that_have_been_read)]"
   ]
  },
  {
   "cell_type": "markdown",
   "id": "37e16cb5",
   "metadata": {
    "papermill": {
     "duration": 0.074509,
     "end_time": "2021-10-07T10:27:24.601176",
     "exception": false,
     "start_time": "2021-10-07T10:27:24.526667",
     "status": "completed"
    },
    "tags": []
   },
   "source": [
    "Pada cell code di bawah ini, kita akan mendapatkan 5 rekomendasi dari buku \"The Diaries of Adam and Eve\""
   ]
  },
  {
   "cell_type": "code",
   "execution_count": 49,
   "id": "dd8c9164",
   "metadata": {
    "execution": {
     "iopub.execute_input": "2021-10-07T10:27:24.764985Z",
     "iopub.status.busy": "2021-10-07T10:27:24.759553Z",
     "iopub.status.idle": "2021-10-07T10:27:24.777633Z",
     "shell.execute_reply": "2021-10-07T10:27:24.777183Z"
    },
    "papermill": {
     "duration": 0.100544,
     "end_time": "2021-10-07T10:27:24.777746",
     "exception": false,
     "start_time": "2021-10-07T10:27:24.677202",
     "status": "completed"
    },
    "tags": []
   },
   "outputs": [],
   "source": [
    "recommendations = author_recommendations(books_that_have_been_read, cosine_sim_df, book[['book_title', 'book_author']])"
   ]
  },
  {
   "cell_type": "markdown",
   "id": "a6a4215a",
   "metadata": {
    "papermill": {
     "duration": 0.073789,
     "end_time": "2021-10-07T10:27:24.926978",
     "exception": false,
     "start_time": "2021-10-07T10:27:24.853189",
     "status": "completed"
    },
    "tags": []
   },
   "source": [
    "Pada beberapa kasus, rekomendasi akan memberikan rekomendasi yang terduplikat, sehingga perlu dibuang rekomendasi yang terduplikat"
   ]
  },
  {
   "cell_type": "code",
   "execution_count": 50,
   "id": "7a1c83eb",
   "metadata": {
    "execution": {
     "iopub.execute_input": "2021-10-07T10:27:25.084786Z",
     "iopub.status.busy": "2021-10-07T10:27:25.083157Z",
     "iopub.status.idle": "2021-10-07T10:27:25.085488Z",
     "shell.execute_reply": "2021-10-07T10:27:25.085892Z"
    },
    "papermill": {
     "duration": 0.084321,
     "end_time": "2021-10-07T10:27:25.086019",
     "exception": false,
     "start_time": "2021-10-07T10:27:25.001698",
     "status": "completed"
    },
    "tags": []
   },
   "outputs": [],
   "source": [
    "recommendations = recommendations.drop_duplicates()"
   ]
  },
  {
   "cell_type": "markdown",
   "id": "98d2068f",
   "metadata": {
    "papermill": {
     "duration": 0.075453,
     "end_time": "2021-10-07T10:27:25.236546",
     "exception": false,
     "start_time": "2021-10-07T10:27:25.161093",
     "status": "completed"
    },
    "tags": []
   },
   "source": [
    "Berikut adalah 5 buku rekomendasi yang ditulis oleh Mark Twain"
   ]
  },
  {
   "cell_type": "code",
   "execution_count": 51,
   "id": "2e0100ef",
   "metadata": {
    "execution": {
     "iopub.execute_input": "2021-10-07T10:27:25.394893Z",
     "iopub.status.busy": "2021-10-07T10:27:25.394315Z",
     "iopub.status.idle": "2021-10-07T10:27:25.399024Z",
     "shell.execute_reply": "2021-10-07T10:27:25.398577Z"
    },
    "papermill": {
     "duration": 0.087511,
     "end_time": "2021-10-07T10:27:25.399150",
     "exception": false,
     "start_time": "2021-10-07T10:27:25.311639",
     "status": "completed"
    },
    "tags": []
   },
   "outputs": [
    {
     "data": {
      "text/html": [
       "<div>\n",
       "<style scoped>\n",
       "    .dataframe tbody tr th:only-of-type {\n",
       "        vertical-align: middle;\n",
       "    }\n",
       "\n",
       "    .dataframe tbody tr th {\n",
       "        vertical-align: top;\n",
       "    }\n",
       "\n",
       "    .dataframe thead th {\n",
       "        text-align: right;\n",
       "    }\n",
       "</style>\n",
       "<table border=\"1\" class=\"dataframe\">\n",
       "  <thead>\n",
       "    <tr style=\"text-align: right;\">\n",
       "      <th></th>\n",
       "      <th>book_title</th>\n",
       "      <th>book_author</th>\n",
       "    </tr>\n",
       "  </thead>\n",
       "  <tbody>\n",
       "    <tr>\n",
       "      <th>0</th>\n",
       "      <td>ADVENTURES OF HUCKLEBERRY FINN (ENRICHED CLASS...</td>\n",
       "      <td>Mark Twain</td>\n",
       "    </tr>\n",
       "    <tr>\n",
       "      <th>1</th>\n",
       "      <td>Adventures of Huckleberry Finn</td>\n",
       "      <td>Mark Twain</td>\n",
       "    </tr>\n",
       "    <tr>\n",
       "      <th>2</th>\n",
       "      <td>The Complete Short Stories of Mark Twain (Bant...</td>\n",
       "      <td>Mark Twain</td>\n",
       "    </tr>\n",
       "    <tr>\n",
       "      <th>3</th>\n",
       "      <td>Treasury of Illustrated Classics: Adventures o...</td>\n",
       "      <td>Mark Twain</td>\n",
       "    </tr>\n",
       "    <tr>\n",
       "      <th>4</th>\n",
       "      <td>A Connecticut Yankee in King Arthur's Court (D...</td>\n",
       "      <td>Mark Twain</td>\n",
       "    </tr>\n",
       "  </tbody>\n",
       "</table>\n",
       "</div>"
      ],
      "text/plain": [
       "                                          book_title book_author\n",
       "0  ADVENTURES OF HUCKLEBERRY FINN (ENRICHED CLASS...  Mark Twain\n",
       "1                     Adventures of Huckleberry Finn  Mark Twain\n",
       "2  The Complete Short Stories of Mark Twain (Bant...  Mark Twain\n",
       "3  Treasury of Illustrated Classics: Adventures o...  Mark Twain\n",
       "4  A Connecticut Yankee in King Arthur's Court (D...  Mark Twain"
      ]
     },
     "execution_count": 51,
     "metadata": {},
     "output_type": "execute_result"
    }
   ],
   "source": [
    "recommendations"
   ]
  },
  {
   "cell_type": "markdown",
   "id": "355a7475",
   "metadata": {
    "papermill": {
     "duration": 0.074584,
     "end_time": "2021-10-07T10:27:25.548703",
     "exception": false,
     "start_time": "2021-10-07T10:27:25.474119",
     "status": "completed"
    },
    "tags": []
   },
   "source": [
    "## Evaluation"
   ]
  },
  {
   "cell_type": "markdown",
   "id": "41137c2c",
   "metadata": {
    "papermill": {
     "duration": 0.075172,
     "end_time": "2021-10-07T10:27:25.698505",
     "exception": false,
     "start_time": "2021-10-07T10:27:25.623333",
     "status": "completed"
    },
    "tags": []
   },
   "source": [
    "Kita akan memakai metrik evaluasi akurasi di mana akurasi adalah:\n",
    "\n",
    "Jumlah buku yang direkomendasikan sesuai penulis / Jumlah buku yang ditulis oleh penulis yang sama"
   ]
  },
  {
   "cell_type": "markdown",
   "id": "ccb50547",
   "metadata": {
    "papermill": {
     "duration": 0.076575,
     "end_time": "2021-10-07T10:27:25.855792",
     "exception": false,
     "start_time": "2021-10-07T10:27:25.779217",
     "status": "completed"
    },
    "tags": []
   },
   "source": [
    "Variabel books_that_have_been_read_row di bawah ini akan mengambil satu row dari buku yang pernah dibaca sebelumnya, dan variabel books_that_have_been_read_author adalah penulis buku dari buku yang pernah dibaca sebelumnya"
   ]
  },
  {
   "cell_type": "code",
   "execution_count": 52,
   "id": "bc45c548",
   "metadata": {
    "execution": {
     "iopub.execute_input": "2021-10-07T10:27:26.015449Z",
     "iopub.status.busy": "2021-10-07T10:27:26.014644Z",
     "iopub.status.idle": "2021-10-07T10:27:26.017177Z",
     "shell.execute_reply": "2021-10-07T10:27:26.016707Z"
    },
    "papermill": {
     "duration": 0.085231,
     "end_time": "2021-10-07T10:27:26.017483",
     "exception": false,
     "start_time": "2021-10-07T10:27:25.932252",
     "status": "completed"
    },
    "tags": []
   },
   "outputs": [],
   "source": [
    "books_that_have_been_read_row = book_dataset[book_dataset.book_title == books_that_have_been_read]\n",
    "books_that_have_been_read_author = books_that_have_been_read_row.iloc[0][\"book_author\"]"
   ]
  },
  {
   "cell_type": "markdown",
   "id": "55a40283",
   "metadata": {
    "papermill": {
     "duration": 0.075223,
     "end_time": "2021-10-07T10:27:26.168706",
     "exception": false,
     "start_time": "2021-10-07T10:27:26.093483",
     "status": "completed"
    },
    "tags": []
   },
   "source": [
    "Variabel books_with_the_same_author menunjukkan jumlah buku yang sudah ditulis oleh penulis buku yang berasal dari buku yang pernah dibaca sebelumnya"
   ]
  },
  {
   "cell_type": "code",
   "execution_count": 53,
   "id": "e187fafd",
   "metadata": {
    "execution": {
     "iopub.execute_input": "2021-10-07T10:27:26.325816Z",
     "iopub.status.busy": "2021-10-07T10:27:26.325010Z",
     "iopub.status.idle": "2021-10-07T10:27:26.334183Z",
     "shell.execute_reply": "2021-10-07T10:27:26.333505Z"
    },
    "papermill": {
     "duration": 0.08781,
     "end_time": "2021-10-07T10:27:26.334350",
     "exception": false,
     "start_time": "2021-10-07T10:27:26.246540",
     "status": "completed"
    },
    "tags": []
   },
   "outputs": [
    {
     "name": "stdout",
     "output_type": "stream",
     "text": [
      "16\n"
     ]
    }
   ],
   "source": [
    "books_with_the_same_author = book_dataset[book_dataset.book_author == books_that_have_been_read_author].shape[0]\n",
    "print(books_with_the_same_author)"
   ]
  },
  {
   "cell_type": "markdown",
   "id": "ece4342f",
   "metadata": {
    "papermill": {
     "duration": 0.075258,
     "end_time": "2021-10-07T10:27:26.486665",
     "exception": false,
     "start_time": "2021-10-07T10:27:26.411407",
     "status": "completed"
    },
    "tags": []
   },
   "source": [
    "Ternyata buku yang telah ditulis oleh Mark Twain berjumlah 16 buku, oleh karena itu"
   ]
  },
  {
   "cell_type": "code",
   "execution_count": 63,
   "id": "339bcdb7",
   "metadata": {
    "execution": {
     "iopub.execute_input": "2021-10-07T10:27:26.643366Z",
     "iopub.status.busy": "2021-10-07T10:27:26.642666Z",
     "iopub.status.idle": "2021-10-07T10:27:26.645396Z",
     "shell.execute_reply": "2021-10-07T10:27:26.645979Z"
    },
    "papermill": {
     "duration": 0.083563,
     "end_time": "2021-10-07T10:27:26.646159",
     "exception": false,
     "start_time": "2021-10-07T10:27:26.562596",
     "status": "completed"
    },
    "tags": []
   },
   "outputs": [
    {
     "name": "stdout",
     "output_type": "stream",
     "text": [
      "Accuracy of the model is 31.25%\n"
     ]
    }
   ],
   "source": [
    "Accuracy = (recommendations.shape[0]/books_with_the_same_author)*100\n",
    "print(\"Accuracy of the model is {}%\".format(Accuracy))"
   ]
  },
  {
   "cell_type": "markdown",
   "id": "26782918",
   "metadata": {
    "papermill": {
     "duration": 0.325882,
     "end_time": "2021-10-07T10:28:43.425973",
     "exception": false,
     "start_time": "2021-10-07T10:28:43.100091",
     "status": "completed"
    },
    "tags": []
   },
   "source": []
  },
  {
   "cell_type": "code",
   "execution_count": null,
   "id": "f44635a3",
   "metadata": {},
   "outputs": [],
   "source": []
  }
 ],
 "metadata": {
  "kernelspec": {
   "display_name": "Python 3 (ipykernel)",
   "language": "python",
   "name": "python3"
  },
  "language_info": {
   "codemirror_mode": {
    "name": "ipython",
    "version": 3
   },
   "file_extension": ".py",
   "mimetype": "text/x-python",
   "name": "python",
   "nbconvert_exporter": "python",
   "pygments_lexer": "ipython3",
   "version": "3.9.7"
  },
  "papermill": {
   "default_parameters": {},
   "duration": 108.936968,
   "end_time": "2021-10-07T10:28:47.302419",
   "environment_variables": {},
   "exception": null,
   "input_path": "__notebook__.ipynb",
   "output_path": "__notebook__.ipynb",
   "parameters": {},
   "start_time": "2021-10-07T10:26:58.365451",
   "version": "2.3.3"
  }
 },
 "nbformat": 4,
 "nbformat_minor": 5
}
