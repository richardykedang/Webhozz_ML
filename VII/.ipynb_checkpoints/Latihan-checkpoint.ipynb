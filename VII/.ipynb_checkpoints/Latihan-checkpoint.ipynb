{
 "cells": [
  {
   "cell_type": "markdown",
   "id": "88670da5",
   "metadata": {},
   "source": [
    "Asumsikan kamu merupakan Data Scientist departemen sumber daya manusia atau Human Resource Department (HRD) dari perusahaan yang bergerak di bidang marketplace bernama TokoLapak. Perusahaan ini memiliki karyawan yang tersebar di Jabodetabek (Jakarta, Kota Bogor, Kabupaten Bogor, Kota Depok, Kota Tangerang, Kota Tangerang Selatan, Kabupaten Tangerang, Kota Bekasi, dan Kabupaten Bekasi), dan setiap karyawan diwajibkan menginstall aplikasi TokoLapak, sehingga kamu memiliki sampel data dimana karyawan berada setiap harinya."
   ]
  },
  {
   "cell_type": "code",
   "execution_count": 1,
   "id": "13244289",
   "metadata": {},
   "outputs": [],
   "source": [
    "import pandas as pd\n",
    "import seaborn as sns"
   ]
  },
  {
   "cell_type": "code",
   "execution_count": 2,
   "id": "cb69a0fb",
   "metadata": {},
   "outputs": [
    {
     "data": {
      "text/html": [
       "<div>\n",
       "<style scoped>\n",
       "    .dataframe tbody tr th:only-of-type {\n",
       "        vertical-align: middle;\n",
       "    }\n",
       "\n",
       "    .dataframe tbody tr th {\n",
       "        vertical-align: top;\n",
       "    }\n",
       "\n",
       "    .dataframe thead th {\n",
       "        text-align: right;\n",
       "    }\n",
       "</style>\n",
       "<table border=\"1\" class=\"dataframe\">\n",
       "  <thead>\n",
       "    <tr style=\"text-align: right;\">\n",
       "      <th></th>\n",
       "      <th>id</th>\n",
       "      <th>tanggal</th>\n",
       "      <th>lokasi_dominan</th>\n",
       "    </tr>\n",
       "  </thead>\n",
       "  <tbody>\n",
       "    <tr>\n",
       "      <th>0</th>\n",
       "      <td>1</td>\n",
       "      <td>21/05/19</td>\n",
       "      <td>Jakarta Pusat</td>\n",
       "    </tr>\n",
       "    <tr>\n",
       "      <th>1</th>\n",
       "      <td>2</td>\n",
       "      <td>21/05/19</td>\n",
       "      <td>Kabupaten Bogor</td>\n",
       "    </tr>\n",
       "    <tr>\n",
       "      <th>2</th>\n",
       "      <td>3</td>\n",
       "      <td>21/05/19</td>\n",
       "      <td>Jakarta Pusat</td>\n",
       "    </tr>\n",
       "    <tr>\n",
       "      <th>3</th>\n",
       "      <td>4</td>\n",
       "      <td>21/05/19</td>\n",
       "      <td>Kota Tangerang</td>\n",
       "    </tr>\n",
       "    <tr>\n",
       "      <th>4</th>\n",
       "      <td>5</td>\n",
       "      <td>21/05/19</td>\n",
       "      <td>Kota Bogor</td>\n",
       "    </tr>\n",
       "    <tr>\n",
       "      <th>...</th>\n",
       "      <td>...</td>\n",
       "      <td>...</td>\n",
       "      <td>...</td>\n",
       "    </tr>\n",
       "    <tr>\n",
       "      <th>2595</th>\n",
       "      <td>96</td>\n",
       "      <td>15/06/19</td>\n",
       "      <td>Kota Bogor</td>\n",
       "    </tr>\n",
       "    <tr>\n",
       "      <th>2596</th>\n",
       "      <td>97</td>\n",
       "      <td>15/06/19</td>\n",
       "      <td>Kota Tangerang Selatan</td>\n",
       "    </tr>\n",
       "    <tr>\n",
       "      <th>2597</th>\n",
       "      <td>98</td>\n",
       "      <td>15/06/19</td>\n",
       "      <td>Jakarta Timur</td>\n",
       "    </tr>\n",
       "    <tr>\n",
       "      <th>2598</th>\n",
       "      <td>99</td>\n",
       "      <td>15/06/19</td>\n",
       "      <td>Jakarta Timur</td>\n",
       "    </tr>\n",
       "    <tr>\n",
       "      <th>2599</th>\n",
       "      <td>100</td>\n",
       "      <td>15/06/19</td>\n",
       "      <td>Jakarta Timur</td>\n",
       "    </tr>\n",
       "  </tbody>\n",
       "</table>\n",
       "<p>2600 rows × 3 columns</p>\n",
       "</div>"
      ],
      "text/plain": [
       "       id   tanggal          lokasi_dominan\n",
       "0       1  21/05/19           Jakarta Pusat\n",
       "1       2  21/05/19         Kabupaten Bogor\n",
       "2       3  21/05/19           Jakarta Pusat\n",
       "3       4  21/05/19          Kota Tangerang\n",
       "4       5  21/05/19              Kota Bogor\n",
       "...   ...       ...                     ...\n",
       "2595   96  15/06/19              Kota Bogor\n",
       "2596   97  15/06/19  Kota Tangerang Selatan\n",
       "2597   98  15/06/19           Jakarta Timur\n",
       "2598   99  15/06/19           Jakarta Timur\n",
       "2599  100  15/06/19           Jakarta Timur\n",
       "\n",
       "[2600 rows x 3 columns]"
      ]
     },
     "execution_count": 2,
     "metadata": {},
     "output_type": "execute_result"
    }
   ],
   "source": [
    "catlok = pd.read_csv(\"./dataset/catatan_lokasi.csv\")\n",
    "catlok"
   ]
  },
  {
   "cell_type": "code",
   "execution_count": 3,
   "id": "a7cf5755",
   "metadata": {},
   "outputs": [
    {
     "data": {
      "text/html": [
       "<div>\n",
       "<style scoped>\n",
       "    .dataframe tbody tr th:only-of-type {\n",
       "        vertical-align: middle;\n",
       "    }\n",
       "\n",
       "    .dataframe tbody tr th {\n",
       "        vertical-align: top;\n",
       "    }\n",
       "\n",
       "    .dataframe thead th {\n",
       "        text-align: right;\n",
       "    }\n",
       "</style>\n",
       "<table border=\"1\" class=\"dataframe\">\n",
       "  <thead>\n",
       "    <tr style=\"text-align: right;\">\n",
       "      <th></th>\n",
       "      <th>jenis_kelamin</th>\n",
       "      <th>divisi</th>\n",
       "      <th>umur</th>\n",
       "    </tr>\n",
       "    <tr>\n",
       "      <th>id</th>\n",
       "      <th></th>\n",
       "      <th></th>\n",
       "      <th></th>\n",
       "    </tr>\n",
       "  </thead>\n",
       "  <tbody>\n",
       "    <tr>\n",
       "      <th>1</th>\n",
       "      <td>Laki-laki</td>\n",
       "      <td>Customer Service</td>\n",
       "      <td>34</td>\n",
       "    </tr>\n",
       "    <tr>\n",
       "      <th>2</th>\n",
       "      <td>Laki-laki</td>\n",
       "      <td>Data Engineer</td>\n",
       "      <td>26</td>\n",
       "    </tr>\n",
       "    <tr>\n",
       "      <th>3</th>\n",
       "      <td>Laki-laki</td>\n",
       "      <td>Software Engineer</td>\n",
       "      <td>28</td>\n",
       "    </tr>\n",
       "    <tr>\n",
       "      <th>4</th>\n",
       "      <td>Perempuan</td>\n",
       "      <td>Business Intelligence</td>\n",
       "      <td>21</td>\n",
       "    </tr>\n",
       "    <tr>\n",
       "      <th>5</th>\n",
       "      <td>Perempuan</td>\n",
       "      <td>Software Engineer</td>\n",
       "      <td>21</td>\n",
       "    </tr>\n",
       "    <tr>\n",
       "      <th>...</th>\n",
       "      <td>...</td>\n",
       "      <td>...</td>\n",
       "      <td>...</td>\n",
       "    </tr>\n",
       "    <tr>\n",
       "      <th>96</th>\n",
       "      <td>Perempuan</td>\n",
       "      <td>Customer Service</td>\n",
       "      <td>23</td>\n",
       "    </tr>\n",
       "    <tr>\n",
       "      <th>97</th>\n",
       "      <td>Laki-laki</td>\n",
       "      <td>Software Engineer</td>\n",
       "      <td>32</td>\n",
       "    </tr>\n",
       "    <tr>\n",
       "      <th>98</th>\n",
       "      <td>Perempuan</td>\n",
       "      <td>Business Intelligence</td>\n",
       "      <td>28</td>\n",
       "    </tr>\n",
       "    <tr>\n",
       "      <th>99</th>\n",
       "      <td>Perempuan</td>\n",
       "      <td>Software Engineer</td>\n",
       "      <td>25</td>\n",
       "    </tr>\n",
       "    <tr>\n",
       "      <th>100</th>\n",
       "      <td>Perempuan</td>\n",
       "      <td>Software Engineer</td>\n",
       "      <td>29</td>\n",
       "    </tr>\n",
       "  </tbody>\n",
       "</table>\n",
       "<p>100 rows × 3 columns</p>\n",
       "</div>"
      ],
      "text/plain": [
       "    jenis_kelamin                 divisi  umur\n",
       "id                                            \n",
       "1       Laki-laki       Customer Service    34\n",
       "2       Laki-laki          Data Engineer    26\n",
       "3       Laki-laki      Software Engineer    28\n",
       "4       Perempuan  Business Intelligence    21\n",
       "5       Perempuan      Software Engineer    21\n",
       "..            ...                    ...   ...\n",
       "96      Perempuan       Customer Service    23\n",
       "97      Laki-laki      Software Engineer    32\n",
       "98      Perempuan  Business Intelligence    28\n",
       "99      Perempuan      Software Engineer    25\n",
       "100     Perempuan      Software Engineer    29\n",
       "\n",
       "[100 rows x 3 columns]"
      ]
     },
     "execution_count": 3,
     "metadata": {},
     "output_type": "execute_result"
    }
   ],
   "source": [
    "profil = pd.read_csv(\"./dataset/data_profil.csv\", index_col=0)\n",
    "profil"
   ]
  },
  {
   "cell_type": "markdown",
   "id": "1dbd7465",
   "metadata": {},
   "source": [
    "# 1. Dengan keadaan di mana salah satu divisi penting dari perusahaan Tokolapak ini karyawannya mudik semua, apakah jual beli toko online ini akan tetap berjalan?"
   ]
  },
  {
   "cell_type": "code",
   "execution_count": 16,
   "id": "f23edb79",
   "metadata": {},
   "outputs": [],
   "source": [
    "divisi = profil.divisi.unique()\n",
    "kel_divisi = {}\n",
    "for div in divisi:\n",
    "    kel_divisi[div] = set(profil[profil['divisi'] == div].index.to_list())\n",
    "#     print(profil[profil['divisi'] == div].index.to_list())"
   ]
  },
  {
   "cell_type": "code",
   "execution_count": 22,
   "id": "60bab71c",
   "metadata": {},
   "outputs": [],
   "source": [
    "jabodetabek = [\"jakarta\", \"bogor\", \"depok\", \"tangerang\", \"bekasi\"]\n",
    "catlok[\"mudik\"] = 1\n",
    "for i in catlok.index:\n",
    "    lokasi = catlok.iloc[i].lokasi_dominan\n",
    "    #print(lokasi)\n",
    "    lokasi_perkata = lokasi.lower().split()\n",
    "    #print(lokasi_perkata)\n",
    "    for lk in lokasi_perkata:\n",
    "        if lk in jabodetabek:\n",
    "            #print(lk)\n",
    "            catlok[\"mudik\"].iloc[i] = 0\n",
    "            break"
   ]
  },
  {
   "cell_type": "code",
   "execution_count": 25,
   "id": "d7bbcb3e",
   "metadata": {},
   "outputs": [
    {
     "name": "stdout",
     "output_type": "stream",
     "text": [
      "\n",
      "Tanggal 21/05/19\n",
      "\n",
      "Tanggal 22/05/19\n",
      "\n",
      "Tanggal 23/05/19\n",
      "divisi Customer Service mudik semua\n",
      "divisi Software Engineer mudik semua\n",
      "divisi Business Intelligence mudik semua\n",
      "\n",
      "Tanggal 24/05/19\n",
      "divisi Customer Service mudik semua\n",
      "divisi Data Science mudik semua\n",
      "\n",
      "Tanggal 25/05/19\n",
      "divisi Business Intelligence mudik semua\n",
      "divisi Data Science mudik semua\n",
      "\n",
      "Tanggal 26/05/19\n",
      "divisi Customer Service mudik semua\n",
      "divisi Software Engineer mudik semua\n",
      "divisi Data Science mudik semua\n",
      "\n",
      "Tanggal 27/05/19\n",
      "divisi Customer Service mudik semua\n",
      "divisi Data Engineer mudik semua\n",
      "divisi Software Engineer mudik semua\n",
      "divisi Data Science mudik semua\n",
      "\n",
      "Tanggal 28/05/19\n",
      "divisi Customer Service mudik semua\n",
      "divisi Data Engineer mudik semua\n",
      "divisi Software Engineer mudik semua\n",
      "divisi Business Intelligence mudik semua\n",
      "divisi Data Science mudik semua\n",
      "divisi Marketing mudik semua\n",
      "\n",
      "Tanggal 29/05/19\n",
      "divisi Customer Service mudik semua\n",
      "divisi Data Engineer mudik semua\n",
      "divisi Software Engineer mudik semua\n",
      "divisi Business Intelligence mudik semua\n",
      "divisi Data Science mudik semua\n",
      "divisi Marketing mudik semua\n",
      "\n",
      "Tanggal 30/05/19\n",
      "divisi Customer Service mudik semua\n",
      "divisi Data Engineer mudik semua\n",
      "divisi Software Engineer mudik semua\n",
      "divisi Business Intelligence mudik semua\n",
      "divisi Data Science mudik semua\n",
      "divisi Marketing mudik semua\n",
      "\n",
      "Tanggal 31/05/19\n",
      "divisi Customer Service mudik semua\n",
      "divisi Data Engineer mudik semua\n",
      "divisi Software Engineer mudik semua\n",
      "divisi Business Intelligence mudik semua\n",
      "divisi Data Science mudik semua\n",
      "divisi Marketing mudik semua\n",
      "\n",
      "Tanggal 01/06/19\n",
      "divisi Customer Service mudik semua\n",
      "divisi Data Engineer mudik semua\n",
      "divisi Software Engineer mudik semua\n",
      "divisi Business Intelligence mudik semua\n",
      "divisi Data Science mudik semua\n",
      "divisi Marketing mudik semua\n",
      "\n",
      "Tanggal 02/06/19\n",
      "divisi Customer Service mudik semua\n",
      "divisi Data Engineer mudik semua\n",
      "divisi Software Engineer mudik semua\n",
      "divisi Business Intelligence mudik semua\n",
      "divisi Data Science mudik semua\n",
      "divisi Marketing mudik semua\n",
      "\n",
      "Tanggal 03/06/19\n",
      "divisi Customer Service mudik semua\n",
      "divisi Data Engineer mudik semua\n",
      "divisi Software Engineer mudik semua\n",
      "divisi Business Intelligence mudik semua\n",
      "divisi Data Science mudik semua\n",
      "divisi Marketing mudik semua\n",
      "\n",
      "Tanggal 04/06/19\n",
      "divisi Customer Service mudik semua\n",
      "divisi Data Engineer mudik semua\n",
      "divisi Software Engineer mudik semua\n",
      "divisi Business Intelligence mudik semua\n",
      "divisi Data Science mudik semua\n",
      "divisi Marketing mudik semua\n",
      "\n",
      "Tanggal 05/06/19\n",
      "divisi Customer Service mudik semua\n",
      "divisi Data Engineer mudik semua\n",
      "divisi Software Engineer mudik semua\n",
      "divisi Business Intelligence mudik semua\n",
      "divisi Data Science mudik semua\n",
      "divisi Marketing mudik semua\n",
      "\n",
      "Tanggal 06/06/19\n",
      "divisi Customer Service mudik semua\n",
      "divisi Data Engineer mudik semua\n",
      "divisi Software Engineer mudik semua\n",
      "divisi Business Intelligence mudik semua\n",
      "divisi Data Science mudik semua\n",
      "divisi Marketing mudik semua\n",
      "\n",
      "Tanggal 07/06/19\n",
      "divisi Customer Service mudik semua\n",
      "divisi Data Engineer mudik semua\n",
      "divisi Software Engineer mudik semua\n",
      "divisi Business Intelligence mudik semua\n",
      "divisi Data Science mudik semua\n",
      "divisi Marketing mudik semua\n",
      "\n",
      "Tanggal 08/06/19\n",
      "divisi Customer Service mudik semua\n",
      "divisi Data Engineer mudik semua\n",
      "divisi Software Engineer mudik semua\n",
      "divisi Business Intelligence mudik semua\n",
      "divisi Data Science mudik semua\n",
      "divisi Marketing mudik semua\n",
      "\n",
      "Tanggal 09/06/19\n",
      "divisi Customer Service mudik semua\n",
      "divisi Data Engineer mudik semua\n",
      "divisi Software Engineer mudik semua\n",
      "divisi Business Intelligence mudik semua\n",
      "divisi Data Science mudik semua\n",
      "divisi Marketing mudik semua\n",
      "\n",
      "Tanggal 10/06/19\n",
      "divisi Customer Service mudik semua\n",
      "divisi Data Engineer mudik semua\n",
      "divisi Software Engineer mudik semua\n",
      "divisi Business Intelligence mudik semua\n",
      "divisi Data Science mudik semua\n",
      "divisi Marketing mudik semua\n",
      "\n",
      "Tanggal 11/06/19\n",
      "divisi Business Intelligence mudik semua\n",
      "divisi Data Science mudik semua\n",
      "\n",
      "Tanggal 12/06/19\n",
      "divisi Customer Service mudik semua\n",
      "divisi Data Science mudik semua\n",
      "\n",
      "Tanggal 13/06/19\n",
      "divisi Customer Service mudik semua\n",
      "divisi Software Engineer mudik semua\n",
      "divisi Business Intelligence mudik semua\n",
      "\n",
      "Tanggal 14/06/19\n",
      "\n",
      "Tanggal 15/06/19\n"
     ]
    }
   ],
   "source": [
    "tanggal_mudik = catlok.tanggal.unique()\n",
    "#print(tanggal_mudik)\n",
    "for tm in tanggal_mudik:\n",
    "    print(f\"\\nTanggal {tm}\")\n",
    "    for div in kel_divisi:\n",
    "        if kel_divisi[div].intersection(set(catlok[(catlok[\"mudik\"]==1) & (catlok[\"tanggal\"]==tm)].id.to_list())):\n",
    "            print(f\"divisi {div} mudik semua\")\n",
    "            continue\n"
   ]
  },
  {
   "cell_type": "markdown",
   "id": "598b16cd",
   "metadata": {},
   "source": [
    "# 2. Berapakah umur termuda dari karyawan yang tergabung dalam divisi Data Science?"
   ]
  },
  {
   "cell_type": "code",
   "execution_count": 27,
   "id": "ee3f7e41",
   "metadata": {},
   "outputs": [
    {
     "name": "stdout",
     "output_type": "stream",
     "text": [
      "karyawan termuda di divisi Data Science berumur 21 tahun\n"
     ]
    }
   ],
   "source": [
    "profil_ds = profil[profil['divisi']=='Data Science']\n",
    "# print(profil_ds)\n",
    "umur_ds = profil_ds.umur\n",
    "print(f\"karyawan termuda di divisi Data Science berumur {umur_ds.min()} tahun\")"
   ]
  },
  {
   "cell_type": "markdown",
   "id": "f709fd1c",
   "metadata": {},
   "source": [
    "# 3. Berapa jumlah karyawan yang kemungkinan besar menyempatkan untuk berwisata ke Keraton Yogyakarta, Pantai Parangtritis, atau wisata Kaliurang selama masa mudiknya? (Asumsi karyawan yang mudik ke DIY saja yang kemungkinan besar berwisata ke tempat-tempat tersebut.)"
   ]
  },
  {
   "cell_type": "code",
   "execution_count": 30,
   "id": "e5369906",
   "metadata": {},
   "outputs": [
    {
     "name": "stdout",
     "output_type": "stream",
     "text": [
      "14 orang berkemungkinan wisata ke Keraton Yogyakarta, Pantai Parangtritis, atau wisata Kaliurang\n"
     ]
    }
   ],
   "source": [
    "mudik_jogja = []\n",
    "for i in catlok.index:\n",
    "    lokasi = catlok.iloc[i][\"lokasi_dominan\"]\n",
    "    #print(lokasi)\n",
    "    lokasi_perkata = lokasi.lower().split()\n",
    "    for lk in lokasi_perkata:\n",
    "        if lk in[\"yogyakarta\", 'jogjakarta']:\n",
    "            mudik_jogja.append(catlok.iloc[i][\"id\"])\n",
    "            break\n",
    "print(f\"{len(set(mudik_jogja))} orang berkemungkinan wisata ke Keraton Yogyakarta, Pantai Parangtritis, atau wisata Kaliurang\")"
   ]
  },
  {
   "cell_type": "markdown",
   "id": "a6dbf348",
   "metadata": {},
   "source": [
    "# 4. Karyawan dengan id berapakah yang memiliki kesempatan besar untuk menikmati wisata Pantai Karang Bolong Kebumen?"
   ]
  },
  {
   "cell_type": "code",
   "execution_count": 31,
   "id": "82fe7a46",
   "metadata": {},
   "outputs": [
    {
     "name": "stdout",
     "output_type": "stream",
     "text": [
      "2 orang berkemungkinan wisata ke Pantai Karang Bolong Kebumen\n"
     ]
    }
   ],
   "source": [
    "mudik_kebumen = []\n",
    "for i in catlok.index:\n",
    "    lokasi = catlok.iloc[i][\"lokasi_dominan\"]\n",
    "    #print(lokasi)\n",
    "    lokasi_perkata = lokasi.lower().split()\n",
    "    for lk in lokasi_perkata:\n",
    "        if lk ==\"kebumen\":\n",
    "            mudik_kebumen.append(catlok.iloc[i][\"id\"])\n",
    "            break\n",
    "print(f\"{len(set(mudik_kebumen))} orang berkemungkinan wisata ke Pantai Karang Bolong Kebumen\")"
   ]
  },
  {
   "cell_type": "markdown",
   "id": "ef3cd03f",
   "metadata": {},
   "source": [
    "# 5. Berapa jumlah karyawan yang melakukan mudik pada tanggal 30 Mei 2019?"
   ]
  },
  {
   "cell_type": "code",
   "execution_count": 32,
   "id": "59b98dec",
   "metadata": {},
   "outputs": [
    {
     "name": "stdout",
     "output_type": "stream",
     "text": [
      "34 karyawan mudik pada tanggal 30 mei 2019\n"
     ]
    }
   ],
   "source": [
    "jumlah_mudik_30mei = len(catlok[(catlok[\"mudik\"]==1) & (catlok[\"tanggal\"]==\"30/05/19\")])\n",
    "print(f\"{jumlah_mudik_30mei} karyawan mudik pada tanggal 30 mei 2019\")"
   ]
  },
  {
   "cell_type": "markdown",
   "id": "66eed3e1",
   "metadata": {},
   "source": [
    "# 6. Divisi apa yang karyawannya paling banyak melakukan mudik?"
   ]
  },
  {
   "cell_type": "code",
   "execution_count": 38,
   "id": "a1f3c529",
   "metadata": {},
   "outputs": [
    {
     "data": {
      "text/html": [
       "<div>\n",
       "<style scoped>\n",
       "    .dataframe tbody tr th:only-of-type {\n",
       "        vertical-align: middle;\n",
       "    }\n",
       "\n",
       "    .dataframe tbody tr th {\n",
       "        vertical-align: top;\n",
       "    }\n",
       "\n",
       "    .dataframe thead th {\n",
       "        text-align: right;\n",
       "    }\n",
       "</style>\n",
       "<table border=\"1\" class=\"dataframe\">\n",
       "  <thead>\n",
       "    <tr style=\"text-align: right;\">\n",
       "      <th></th>\n",
       "      <th>divisi</th>\n",
       "      <th>skor</th>\n",
       "    </tr>\n",
       "  </thead>\n",
       "  <tbody>\n",
       "    <tr>\n",
       "      <th>0</th>\n",
       "      <td>Customer Service</td>\n",
       "      <td>19</td>\n",
       "    </tr>\n",
       "    <tr>\n",
       "      <th>3</th>\n",
       "      <td>Data Science</td>\n",
       "      <td>19</td>\n",
       "    </tr>\n",
       "    <tr>\n",
       "      <th>1</th>\n",
       "      <td>Software Engineer</td>\n",
       "      <td>17</td>\n",
       "    </tr>\n",
       "    <tr>\n",
       "      <th>2</th>\n",
       "      <td>Business Intelligence</td>\n",
       "      <td>17</td>\n",
       "    </tr>\n",
       "    <tr>\n",
       "      <th>4</th>\n",
       "      <td>Data Engineer</td>\n",
       "      <td>14</td>\n",
       "    </tr>\n",
       "    <tr>\n",
       "      <th>5</th>\n",
       "      <td>Marketing</td>\n",
       "      <td>13</td>\n",
       "    </tr>\n",
       "  </tbody>\n",
       "</table>\n",
       "</div>"
      ],
      "text/plain": [
       "                  divisi  skor\n",
       "0       Customer Service    19\n",
       "3           Data Science    19\n",
       "1      Software Engineer    17\n",
       "2  Business Intelligence    17\n",
       "4          Data Engineer    14\n",
       "5              Marketing    13"
      ]
     },
     "execution_count": 38,
     "metadata": {},
     "output_type": "execute_result"
    }
   ],
   "source": [
    "tanggal_mudik = catlok.tanggal.unique()\n",
    "#print(tanggal_mudik)\n",
    "skor_mudik = {}\n",
    "for tm in tanggal_mudik:\n",
    "    for div in kel_divisi:\n",
    "        #print(kel_divisi)\n",
    "        if kel_divisi[div].intersection(set(catlok[(catlok[\"mudik\"]==1) & (catlok[\"tanggal\"]==tm)].id.to_list())):\n",
    "            try:\n",
    "                skor_mudik[div] += 1\n",
    "            except:\n",
    "                skor_mudik[div] = 0\n",
    "            continue\n",
    "            \n",
    "df_skor_mudik = pd.DataFrame(list(skor_mudik.items()),columns = ['divisi','skor'])\n",
    "#print(df_skor_mudik)\n",
    "df_skor_mudik.sort_values(\"skor\",ascending=False)\n",
    "    "
   ]
  },
  {
   "cell_type": "markdown",
   "id": "146be6c2",
   "metadata": {},
   "source": [
    "# 7. Berapakah median umur dari keseluruhan karyawan Tokolapak?"
   ]
  },
  {
   "cell_type": "code",
   "execution_count": 39,
   "id": "2c15726b",
   "metadata": {},
   "outputs": [
    {
     "name": "stdout",
     "output_type": "stream",
     "text": [
      "median umur karyawan tokolapak adalah 27.0\n"
     ]
    }
   ],
   "source": [
    "print(f\"median umur karyawan tokolapak adalah {profil.umur.median()}\")"
   ]
  },
  {
   "cell_type": "markdown",
   "id": "f1bc10b4",
   "metadata": {},
   "source": [
    "# 8. Tanggal berapakah menjadi hari favorit karyawan Tokolapak pulang ke Jabodetabek?"
   ]
  },
  {
   "cell_type": "code",
   "execution_count": 46,
   "id": "4e10364e",
   "metadata": {},
   "outputs": [
    {
     "data": {
      "text/html": [
       "<div>\n",
       "<style scoped>\n",
       "    .dataframe tbody tr th:only-of-type {\n",
       "        vertical-align: middle;\n",
       "    }\n",
       "\n",
       "    .dataframe tbody tr th {\n",
       "        vertical-align: top;\n",
       "    }\n",
       "\n",
       "    .dataframe thead th {\n",
       "        text-align: right;\n",
       "    }\n",
       "</style>\n",
       "<table border=\"1\" class=\"dataframe\">\n",
       "  <thead>\n",
       "    <tr style=\"text-align: right;\">\n",
       "      <th></th>\n",
       "      <th>tanggal</th>\n",
       "      <th>selisih pemudik dengan hari kemarin</th>\n",
       "    </tr>\n",
       "  </thead>\n",
       "  <tbody>\n",
       "    <tr>\n",
       "      <th>8</th>\n",
       "      <td>09/06/19</td>\n",
       "      <td>49</td>\n",
       "    </tr>\n",
       "  </tbody>\n",
       "</table>\n",
       "</div>"
      ],
      "text/plain": [
       "    tanggal  selisih pemudik dengan hari kemarin\n",
       "8  09/06/19                                   49"
      ]
     },
     "execution_count": 46,
     "metadata": {},
     "output_type": "execute_result"
    }
   ],
   "source": [
    "jumlah_pemudik = catlok.groupby(\"tanggal\").sum()[\"mudik\"]\n",
    "# print(catlok.groupby(\"tanggal\").sum()[\"mudik\"])\n",
    "pemudik_sblm = 0\n",
    "pemudik_pulang = {}\n",
    "for tgl in jumlah_pemudik.index:\n",
    "        pemudik_pulang[tgl] = pemudik_sblm-jumlah_pemudik[tgl]\n",
    "        pemudik_sblm = jumlah_pemudik[tgl]\n",
    "df_pemudik_pulang = pd.DataFrame(list(pemudik_pulang.items()), columns=[\"tanggal\", \"selisih pemudik dengan hari kemarin\"])\n",
    "df_pemudik_pulang.sort_values(\"selisih pemudik dengan hari kemarin\",ascending=False).head(1)"
   ]
  },
  {
   "cell_type": "markdown",
   "id": "669f54af",
   "metadata": {},
   "source": [
    "# 9. Berapa jumlah karyawan yang mudik dan tergabung dalam Divisi Data Science?"
   ]
  },
  {
   "cell_type": "code",
   "execution_count": 48,
   "id": "31363255",
   "metadata": {},
   "outputs": [
    {
     "name": "stdout",
     "output_type": "stream",
     "text": [
      "Semua karyawan data scoence mudik\n"
     ]
    }
   ],
   "source": [
    "df_mudik_ds = catlok[(catlok[\"mudik\"]==1) & (catlok[\"id\"].isin(kel_divisi['Data Science']))]\n",
    "# print(df_mudik_ds)\n",
    "id_mudik_ds = set(df_mudik_ds.id.unique())\n",
    "\n",
    "if id_mudik_ds==kel_divisi[\"Data Science\"]:\n",
    "    print(\"Semua karyawan data scoence mudik\")\n",
    "else:\n",
    "    print(f\"{len(id_mudik_ds)} karyawan data science mudik\")"
   ]
  },
  {
   "cell_type": "markdown",
   "id": "c6657277",
   "metadata": {},
   "source": [
    "# 10. Berapakah umur karyawan yang paling senior dari dari karyawan yang tergabung dalam divisi Data Engineer?"
   ]
  },
  {
   "cell_type": "code",
   "execution_count": 50,
   "id": "338b1f81",
   "metadata": {},
   "outputs": [
    {
     "data": {
      "text/html": [
       "<div>\n",
       "<style scoped>\n",
       "    .dataframe tbody tr th:only-of-type {\n",
       "        vertical-align: middle;\n",
       "    }\n",
       "\n",
       "    .dataframe tbody tr th {\n",
       "        vertical-align: top;\n",
       "    }\n",
       "\n",
       "    .dataframe thead th {\n",
       "        text-align: right;\n",
       "    }\n",
       "</style>\n",
       "<table border=\"1\" class=\"dataframe\">\n",
       "  <thead>\n",
       "    <tr style=\"text-align: right;\">\n",
       "      <th></th>\n",
       "      <th>jenis_kelamin</th>\n",
       "      <th>divisi</th>\n",
       "      <th>umur</th>\n",
       "    </tr>\n",
       "    <tr>\n",
       "      <th>id</th>\n",
       "      <th></th>\n",
       "      <th></th>\n",
       "      <th></th>\n",
       "    </tr>\n",
       "  </thead>\n",
       "  <tbody>\n",
       "    <tr>\n",
       "      <th>50</th>\n",
       "      <td>Laki-laki</td>\n",
       "      <td>Data Science</td>\n",
       "      <td>35</td>\n",
       "    </tr>\n",
       "  </tbody>\n",
       "</table>\n",
       "</div>"
      ],
      "text/plain": [
       "   jenis_kelamin        divisi  umur\n",
       "id                                  \n",
       "50     Laki-laki  Data Science    35"
      ]
     },
     "execution_count": 50,
     "metadata": {},
     "output_type": "execute_result"
    }
   ],
   "source": [
    "df_ds = profil[profil[\"divisi\"]==\"Data Science\"]\n",
    "# print(df_ds)\n",
    "df_ds.sort_values(\"umur\",ascending=False).head(1)"
   ]
  },
  {
   "cell_type": "markdown",
   "id": "313ad553",
   "metadata": {},
   "source": [
    "# 11. Berapa jumlah karyawan TokoLapak?"
   ]
  },
  {
   "cell_type": "code",
   "execution_count": 51,
   "id": "760ae655",
   "metadata": {},
   "outputs": [
    {
     "name": "stdout",
     "output_type": "stream",
     "text": [
      "karyawan tokolapak berjumlah 100 orang\n"
     ]
    }
   ],
   "source": [
    "jumlah = len(profil.index.unique())\n",
    "print(f\"karyawan tokolapak berjumlah {jumlah} orang\")"
   ]
  },
  {
   "cell_type": "markdown",
   "id": "5862460d",
   "metadata": {},
   "source": [
    "# 12. Karyawan dengan id berapakah yang mudiknya paling lama (perkiraan 20 hari mudik)?"
   ]
  },
  {
   "cell_type": "code",
   "execution_count": 56,
   "id": "940270af",
   "metadata": {},
   "outputs": [
    {
     "data": {
      "text/html": [
       "<div>\n",
       "<style scoped>\n",
       "    .dataframe tbody tr th:only-of-type {\n",
       "        vertical-align: middle;\n",
       "    }\n",
       "\n",
       "    .dataframe tbody tr th {\n",
       "        vertical-align: top;\n",
       "    }\n",
       "\n",
       "    .dataframe thead th {\n",
       "        text-align: right;\n",
       "    }\n",
       "</style>\n",
       "<table border=\"1\" class=\"dataframe\">\n",
       "  <thead>\n",
       "    <tr style=\"text-align: right;\">\n",
       "      <th></th>\n",
       "      <th>id</th>\n",
       "      <th>lama mudik</th>\n",
       "    </tr>\n",
       "  </thead>\n",
       "  <tbody>\n",
       "    <tr>\n",
       "      <th>92</th>\n",
       "      <td>10</td>\n",
       "      <td>20</td>\n",
       "    </tr>\n",
       "  </tbody>\n",
       "</table>\n",
       "</div>"
      ],
      "text/plain": [
       "    id  lama mudik\n",
       "92  10          20"
      ]
     },
     "execution_count": 56,
     "metadata": {},
     "output_type": "execute_result"
    }
   ],
   "source": [
    "long_streak = {}\n",
    "streak = {}\n",
    "for tm in tanggal_mudik:\n",
    "    id_mudik = set(catlok[(catlok[\"tanggal\"]==tm) & (catlok[\"mudik\"]==1)].id)\n",
    "    for s in list(streak.keys()):\n",
    "        #print(streak.keys())\n",
    "        if s not in id_mudik:\n",
    "            if (s not in list(long_streak.keys())) or (streak[s]>long_streak[s]):\n",
    "                long_streak[s] = streak[s]\n",
    "                del streak[s]\n",
    "    for i in id_mudik:\n",
    "        if i in streak:\n",
    "            streak[i] += 1\n",
    "        else:\n",
    "            streak[i] = 1\n",
    "df_long_streak = pd.DataFrame(list(long_streak.items()), columns=[\"id\",\"lama mudik\"])\n",
    "df_long_streak.sort_values(\"lama mudik\",ascending=False).head(1)"
   ]
  },
  {
   "cell_type": "markdown",
   "id": "7e7a10b2",
   "metadata": {},
   "source": [
    "# 13. Kabupaten/Kota manakah yang menjadi tujuan mudik terbanyak?"
   ]
  },
  {
   "cell_type": "code",
   "execution_count": 58,
   "id": "b060dafe",
   "metadata": {},
   "outputs": [
    {
     "data": {
      "text/html": [
       "<div>\n",
       "<style scoped>\n",
       "    .dataframe tbody tr th:only-of-type {\n",
       "        vertical-align: middle;\n",
       "    }\n",
       "\n",
       "    .dataframe tbody tr th {\n",
       "        vertical-align: top;\n",
       "    }\n",
       "\n",
       "    .dataframe thead th {\n",
       "        text-align: right;\n",
       "    }\n",
       "</style>\n",
       "<table border=\"1\" class=\"dataframe\">\n",
       "  <thead>\n",
       "    <tr style=\"text-align: right;\">\n",
       "      <th></th>\n",
       "      <th>kota/kab</th>\n",
       "      <th>jumlah pemudik</th>\n",
       "    </tr>\n",
       "  </thead>\n",
       "  <tbody>\n",
       "    <tr>\n",
       "      <th>8</th>\n",
       "      <td>Kabupaten Sleman</td>\n",
       "      <td>15</td>\n",
       "    </tr>\n",
       "    <tr>\n",
       "      <th>6</th>\n",
       "      <td>Kota Yogyakarta</td>\n",
       "      <td>14</td>\n",
       "    </tr>\n",
       "    <tr>\n",
       "      <th>0</th>\n",
       "      <td>Kota Medan</td>\n",
       "      <td>12</td>\n",
       "    </tr>\n",
       "    <tr>\n",
       "      <th>10</th>\n",
       "      <td>Kabupaten Bantul</td>\n",
       "      <td>9</td>\n",
       "    </tr>\n",
       "    <tr>\n",
       "      <th>1</th>\n",
       "      <td>Kota Padang</td>\n",
       "      <td>8</td>\n",
       "    </tr>\n",
       "  </tbody>\n",
       "</table>\n",
       "</div>"
      ],
      "text/plain": [
       "            kota/kab  jumlah pemudik\n",
       "8   Kabupaten Sleman              15\n",
       "6    Kota Yogyakarta              14\n",
       "0         Kota Medan              12\n",
       "10  Kabupaten Bantul               9\n",
       "1        Kota Padang               8"
      ]
     },
     "execution_count": 58,
     "metadata": {},
     "output_type": "execute_result"
    }
   ],
   "source": [
    "count_kota = {}\n",
    "for i in profil.index:\n",
    "    kota_mudik = catlok[(catlok[\"id\"]==i) & (catlok[\"mudik\"]==1)][\"lokasi_dominan\"].unique()\n",
    "    #print(kota_mudik)\n",
    "    for i in kota_mudik:\n",
    "        try:\n",
    "            count_kota[i] += 1\n",
    "        except:\n",
    "            count_kota[i] = 1\n",
    "df_count_kota = pd.DataFrame(list(count_kota.items()), columns=[\"kot/kab\",\"jumlah pemudik\"])\n",
    "df_count_kota.sort_values(\"jumlah pemudik\",ascending=False).head()"
   ]
  },
  {
   "cell_type": "code",
   "execution_count": null,
   "id": "ba07f44b",
   "metadata": {},
   "outputs": [],
   "source": []
  }
 ],
 "metadata": {
  "kernelspec": {
   "display_name": "Python 3 (ipykernel)",
   "language": "python",
   "name": "python3"
  },
  "language_info": {
   "codemirror_mode": {
    "name": "ipython",
    "version": 3
   },
   "file_extension": ".py",
   "mimetype": "text/x-python",
   "name": "python",
   "nbconvert_exporter": "python",
   "pygments_lexer": "ipython3",
   "version": "3.9.7"
  }
 },
 "nbformat": 4,
 "nbformat_minor": 5
}
