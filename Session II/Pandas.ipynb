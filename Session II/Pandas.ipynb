{
 "cells": [
  {
   "cell_type": "markdown",
   "id": "e1988e95",
   "metadata": {},
   "source": [
    "## # pandas\n",
    "pandas adalah library yg biasa dihunakan untuk membuat table, mengubah dimensi data, mengecek data dsb.\n",
    "Struktur data dasar pada Pandas dinamakan DataFrame, yang memudahkan kita untuk membaca sebuah file dengan banyak jenis format seperti .txt, .csv, dan .tsv. Fitur ini akan menjadikan table dan juga mengolah suatu data menggunakan operasi join, distinct, groupby, dan teknik lainnya pada SQL.\n",
    "\n",
    "** Struktur data Pandas :\n",
    " 1. Series / array 1 dimensi\n",
    " \n",
    " 2. Data frame = array dimensi (baris x kolom)"
   ]
  },
  {
   "cell_type": "code",
   "execution_count": 8,
   "id": "6bd768d5",
   "metadata": {},
   "outputs": [],
   "source": [
    "### Series\n",
    "\n",
    "import pandas as pd"
   ]
  },
  {
   "cell_type": "code",
   "execution_count": 11,
   "id": "9c07fca4",
   "metadata": {},
   "outputs": [
    {
     "data": {
      "text/plain": [
       "2    2\n",
       "5    4\n",
       "dtype: object"
      ]
     },
     "execution_count": 11,
     "metadata": {},
     "output_type": "execute_result"
    }
   ],
   "source": [
    "x = pd.Series([1,2,3,4,5,6,7.0,'tes'])\n",
    "x.index = [3, 2, 7, 5, 6, 2, 8, 1]\n",
    "#x[0]\n",
    "x.iloc[0]\n",
    "x.iloc[1:4:2]# start, end, step = "
   ]
  },
  {
   "cell_type": "code",
   "execution_count": null,
   "id": "2012e3ac",
   "metadata": {},
   "outputs": [],
   "source": []
  }
 ],
 "metadata": {
  "kernelspec": {
   "display_name": "Python 3 (ipykernel)",
   "language": "python",
   "name": "python3"
  },
  "language_info": {
   "codemirror_mode": {
    "name": "ipython",
    "version": 3
   },
   "file_extension": ".py",
   "mimetype": "text/x-python",
   "name": "python",
   "nbconvert_exporter": "python",
   "pygments_lexer": "ipython3",
   "version": "3.9.7"
  }
 },
 "nbformat": 4,
 "nbformat_minor": 5
}
