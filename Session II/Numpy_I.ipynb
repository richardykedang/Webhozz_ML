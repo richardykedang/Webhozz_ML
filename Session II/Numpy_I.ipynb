{
 "cells": [
  {
   "cell_type": "markdown",
   "id": "92d06f47",
   "metadata": {},
   "source": [
    "## Numpy\n",
    "* Numpy merupakan singakatan dari Numerical Python\n",
    "\n",
    "Numpy merupakan salah satu library Python yang berfungsi untuk proses komputasi numerik. NUmpy memiliki kemampuan untuk membuat objek N-dimensi array"
   ]
  },
  {
   "cell_type": "code",
   "execution_count": 1,
   "id": "bd3bb3d8",
   "metadata": {},
   "outputs": [],
   "source": [
    "import numpy as np"
   ]
  },
  {
   "cell_type": "code",
   "execution_count": 2,
   "id": "d9f537e5",
   "metadata": {},
   "outputs": [],
   "source": [
    "myList = [1,2,3]"
   ]
  },
  {
   "cell_type": "code",
   "execution_count": 4,
   "id": "e88de7e4",
   "metadata": {},
   "outputs": [
    {
     "data": {
      "text/plain": [
       "list"
      ]
     },
     "execution_count": 4,
     "metadata": {},
     "output_type": "execute_result"
    }
   ],
   "source": [
    "type(myList)"
   ]
  },
  {
   "cell_type": "code",
   "execution_count": null,
   "id": "b7376234",
   "metadata": {},
   "outputs": [],
   "source": []
  },
  {
   "cell_type": "code",
   "execution_count": 5,
   "id": "f78d2beb",
   "metadata": {},
   "outputs": [],
   "source": [
    "x = np.array(myList)"
   ]
  },
  {
   "cell_type": "code",
   "execution_count": 7,
   "id": "935cbfcd",
   "metadata": {},
   "outputs": [
    {
     "data": {
      "text/plain": [
       "numpy.ndarray"
      ]
     },
     "execution_count": 7,
     "metadata": {},
     "output_type": "execute_result"
    }
   ],
   "source": [
    "type(x)"
   ]
  },
  {
   "cell_type": "code",
   "execution_count": 8,
   "id": "f700e32e",
   "metadata": {},
   "outputs": [
    {
     "data": {
      "text/plain": [
       "1"
      ]
     },
     "execution_count": 8,
     "metadata": {},
     "output_type": "execute_result"
    }
   ],
   "source": [
    "x[0]"
   ]
  },
  {
   "cell_type": "code",
   "execution_count": 10,
   "id": "6af3e0b6",
   "metadata": {},
   "outputs": [
    {
     "data": {
      "text/plain": [
       "1"
      ]
     },
     "execution_count": 10,
     "metadata": {},
     "output_type": "execute_result"
    }
   ],
   "source": [
    "myList[0]"
   ]
  },
  {
   "cell_type": "markdown",
   "id": "c556a606",
   "metadata": {},
   "source": [
    "kekuarangan List pada Python\n",
    "\n",
    "*List pada python tidak mendukung penuh kemudahan scientific computing, sebagai contoh kita akan melakukan operasi pada 2 list"
   ]
  },
  {
   "cell_type": "code",
   "execution_count": 19,
   "id": "3f15694c",
   "metadata": {},
   "outputs": [
    {
     "data": {
      "text/plain": [
       "[1, 2, 3.2, 3, 4, 5]"
      ]
     },
     "execution_count": 19,
     "metadata": {},
     "output_type": "execute_result"
    }
   ],
   "source": [
    "a = [1,2,3.2]\n",
    "\n",
    "b = [3,4,5]\n",
    "\n",
    "a + b #4 6 8"
   ]
  },
  {
   "cell_type": "code",
   "execution_count": 20,
   "id": "a6eb0903",
   "metadata": {},
   "outputs": [
    {
     "data": {
      "text/plain": [
       "[4, 6, 8.2]"
      ]
     },
     "execution_count": 20,
     "metadata": {},
     "output_type": "execute_result"
    }
   ],
   "source": [
    "#operasi tambah matrix list biasa\n",
    "\n",
    "result = []\n",
    "\n",
    "for x, y in zip(a,b):\n",
    "    result.append(x + y)\n",
    "result   "
   ]
  },
  {
   "cell_type": "code",
   "execution_count": 21,
   "id": "0182a1a7",
   "metadata": {},
   "outputs": [
    {
     "data": {
      "text/plain": [
       "array([4. , 6. , 8.2])"
      ]
     },
     "execution_count": 21,
     "metadata": {},
     "output_type": "execute_result"
    }
   ],
   "source": [
    "# operasi tambah matrix menggunakan numpy\n",
    "\n",
    "arr1 = np.array(a)\n",
    "\n",
    "arr2 = np.array(b)\n",
    "\n",
    "new_result = np.add(arr1, arr2)\n",
    "\n",
    "new_result"
   ]
  },
  {
   "cell_type": "markdown",
   "id": "f558bec0",
   "metadata": {},
   "source": [
    "* beberapa fungsi yang dapat digunakan dalam membuat array :\n",
    "\n",
    "        zeros()            -> membuat aaray dengan nilai 0\n",
    "\n",
    "        ones()             -> membuat array dengaan nilai 1\n",
    "\n",
    "        arrange()          -> membuat array dengan nilai dalam range\n",
    "\n",
    "        linspace()         -> membuat array dengan nilai dalam interval\n",
    "\n",
    "        logspace()         -> membuat array dengan nilai log Base10 dalam interval  "
   ]
  },
  {
   "cell_type": "code",
   "execution_count": 22,
   "id": "a195225e",
   "metadata": {},
   "outputs": [
    {
     "data": {
      "text/plain": [
       "array([0., 0., 0., 0., 0.])"
      ]
     },
     "execution_count": 22,
     "metadata": {},
     "output_type": "execute_result"
    }
   ],
   "source": [
    "np.zeros(5) # membuat array dengan nilai 0 sebanyak 5x"
   ]
  },
  {
   "cell_type": "code",
   "execution_count": 23,
   "id": "93bc40b1",
   "metadata": {},
   "outputs": [
    {
     "name": "stdout",
     "output_type": "stream",
     "text": [
      "[[1. 1. 1. 1. 1.]\n",
      " [1. 1. 1. 1. 1.]\n",
      " [1. 1. 1. 1. 1.]\n",
      " [1. 1. 1. 1. 1.]\n",
      " [1. 1. 1. 1. 1.]]\n"
     ]
    }
   ],
   "source": [
    "x = np.ones((5,5)) # membuat array 5d dengan nilai 1 sebanyak 5x\n",
    "print(x)"
   ]
  },
  {
   "cell_type": "code",
   "execution_count": 31,
   "id": "503b0458",
   "metadata": {},
   "outputs": [
    {
     "data": {
      "text/plain": [
       "array([1, 4, 7])"
      ]
     },
     "execution_count": 31,
     "metadata": {},
     "output_type": "execute_result"
    }
   ],
   "source": [
    "np.arange(1, 10, 3) #arrange( start, stop, step) atau list(range (1,10, 3))"
   ]
  },
  {
   "cell_type": "code",
   "execution_count": 34,
   "id": "0b02c562",
   "metadata": {},
   "outputs": [
    {
     "data": {
      "text/plain": [
       "array([ 1.        ,  1.09090909,  1.18181818,  1.27272727,  1.36363636,\n",
       "        1.45454545,  1.54545455,  1.63636364,  1.72727273,  1.81818182,\n",
       "        1.90909091,  2.        ,  2.09090909,  2.18181818,  2.27272727,\n",
       "        2.36363636,  2.45454545,  2.54545455,  2.63636364,  2.72727273,\n",
       "        2.81818182,  2.90909091,  3.        ,  3.09090909,  3.18181818,\n",
       "        3.27272727,  3.36363636,  3.45454545,  3.54545455,  3.63636364,\n",
       "        3.72727273,  3.81818182,  3.90909091,  4.        ,  4.09090909,\n",
       "        4.18181818,  4.27272727,  4.36363636,  4.45454545,  4.54545455,\n",
       "        4.63636364,  4.72727273,  4.81818182,  4.90909091,  5.        ,\n",
       "        5.09090909,  5.18181818,  5.27272727,  5.36363636,  5.45454545,\n",
       "        5.54545455,  5.63636364,  5.72727273,  5.81818182,  5.90909091,\n",
       "        6.        ,  6.09090909,  6.18181818,  6.27272727,  6.36363636,\n",
       "        6.45454545,  6.54545455,  6.63636364,  6.72727273,  6.81818182,\n",
       "        6.90909091,  7.        ,  7.09090909,  7.18181818,  7.27272727,\n",
       "        7.36363636,  7.45454545,  7.54545455,  7.63636364,  7.72727273,\n",
       "        7.81818182,  7.90909091,  8.        ,  8.09090909,  8.18181818,\n",
       "        8.27272727,  8.36363636,  8.45454545,  8.54545455,  8.63636364,\n",
       "        8.72727273,  8.81818182,  8.90909091,  9.        ,  9.09090909,\n",
       "        9.18181818,  9.27272727,  9.36363636,  9.45454545,  9.54545455,\n",
       "        9.63636364,  9.72727273,  9.81818182,  9.90909091, 10.        ])"
      ]
     },
     "execution_count": 34,
     "metadata": {},
     "output_type": "execute_result"
    }
   ],
   "source": [
    "np.linspace(1,10,100) # linespace(start, stop, number/how manys?)"
   ]
  },
  {
   "cell_type": "code",
   "execution_count": 35,
   "id": "ba8dd201",
   "metadata": {},
   "outputs": [
    {
     "data": {
      "text/plain": [
       "array([1.00000000e+01, 3.16227766e+05, 1.00000000e+10])"
      ]
     },
     "execution_count": 35,
     "metadata": {},
     "output_type": "execute_result"
    }
   ],
   "source": [
    "np.logspace(1,10,3) #logspace(start, stop, number/how manys?)"
   ]
  },
  {
   "cell_type": "code",
   "execution_count": null,
   "id": "5b92720f",
   "metadata": {},
   "outputs": [],
   "source": []
  },
  {
   "cell_type": "markdown",
   "id": "2ae90897",
   "metadata": {},
   "source": [
    "## Multidimensional Array\n",
    "\n",
    "salah satu fitur dari numpy adalah dia mampu membuat multidimensional array dan melakukan manipulasi array dengan mudah dan cepat\n",
    "\n",
    "Multidimensional array adalah array yang berbentuk lebih dari 1D, bisa 2D,3D dst\n",
    "\n",
    "cara membuat multidimensional array samadengan membuat array 1 dimensi, perbedaannya hanya parameter yang digunakan\n",
    "\n",
    "berikut contoh membuat array 2 Dimensi"
   ]
  },
  {
   "cell_type": "code",
   "execution_count": 39,
   "id": "24e77813",
   "metadata": {},
   "outputs": [
    {
     "data": {
      "text/plain": [
       "array([[ 1,  2,  3,  4,  5],\n",
       "       [ 2,  4,  6,  8, 10]])"
      ]
     },
     "execution_count": 39,
     "metadata": {},
     "output_type": "execute_result"
    }
   ],
   "source": [
    "M_array = np.array([[1,2,3,4,5], [2,4,6,8,10]])\n",
    "M_array"
   ]
  },
  {
   "cell_type": "markdown",
   "id": "6b3819f1",
   "metadata": {},
   "source": [
    "Array diatas adalah bentuk (2,5) artinya 2 baris 5 kolom\n",
    "Kita bisa melihat bentukan dimensi menggunakan method shape"
   ]
  },
  {
   "cell_type": "code",
   "execution_count": 42,
   "id": "62f04f70",
   "metadata": {},
   "outputs": [
    {
     "data": {
      "text/plain": [
       "(2, 5)"
      ]
     },
     "execution_count": 42,
     "metadata": {},
     "output_type": "execute_result"
    }
   ],
   "source": [
    "M_array.shape"
   ]
  },
  {
   "cell_type": "code",
   "execution_count": null,
   "id": "08acd9e2",
   "metadata": {},
   "outputs": [],
   "source": []
  },
  {
   "cell_type": "markdown",
   "id": "6ad6ee6d",
   "metadata": {},
   "source": [
    "## Indexing & Slicing \n",
    "\n",
    "kita jiga dapat melakukan indexing dan slicing terhadap array dengan mudah\n",
    "\n",
    "indexing dimulai dari 0 dengan notasi bracket \"[ ]\"\n",
    "\n",
    "untuk mengambil nilai deret tambahkan \" : \""
   ]
  },
  {
   "cell_type": "code",
   "execution_count": 44,
   "id": "6e2ee21f",
   "metadata": {},
   "outputs": [
    {
     "data": {
      "text/plain": [
       "array([1, 2, 3])"
      ]
     },
     "execution_count": 44,
     "metadata": {},
     "output_type": "execute_result"
    }
   ],
   "source": [
    "arr_A = np.array([1,2,3,4,5])\n",
    "arr_A[0:3] # slice"
   ]
  },
  {
   "cell_type": "code",
   "execution_count": 45,
   "id": "542de9f9",
   "metadata": {},
   "outputs": [
    {
     "data": {
      "text/plain": [
       "array([[ 1,  2,  3,  4,  5],\n",
       "       [ 2,  4,  6,  8, 10]])"
      ]
     },
     "execution_count": 45,
     "metadata": {},
     "output_type": "execute_result"
    }
   ],
   "source": [
    "arr_B = np.array([[1,2,3,4,5], [2,4,6,8,10]])\n",
    "arr_B"
   ]
  },
  {
   "cell_type": "code",
   "execution_count": 46,
   "id": "4a32f101",
   "metadata": {},
   "outputs": [
    {
     "data": {
      "text/plain": [
       "4"
      ]
     },
     "execution_count": 46,
     "metadata": {},
     "output_type": "execute_result"
    }
   ],
   "source": [
    "arr_B[1,1] # slice nilai pada kolom index ke - 1 dan baris index ke-1 adalah 4"
   ]
  },
  {
   "cell_type": "code",
   "execution_count": null,
   "id": "73cf3481",
   "metadata": {},
   "outputs": [],
   "source": []
  },
  {
   "cell_type": "markdown",
   "id": "9d8e0cd7",
   "metadata": {},
   "source": [
    "## operasi Aritmatika \n",
    "\n",
    "operator yang digunakan adalah +,-,*,/"
   ]
  },
  {
   "cell_type": "code",
   "execution_count": 47,
   "id": "7090c0d6",
   "metadata": {},
   "outputs": [
    {
     "name": "stdout",
     "output_type": "stream",
     "text": [
      "Penjumlahan =  [3 4 5 6 7]\n",
      "Pengurangan =  [-1  0  1  2  3]\n",
      "Perkalian =  [ 2  4  6  8 10]\n",
      "Pembagian =  [0.5 1.  1.5 2.  2.5]\n",
      "Perpangkatan =  [ 1  4  9 16 25]\n"
     ]
    }
   ],
   "source": [
    "arr_A = np.array([1,2,3,4,5])\n",
    "arr_B = np.array([2,2,2,2,2])\n",
    "\n",
    "print(\"Penjumlahan = \", arr_A + arr_B)\n",
    "print(\"Pengurangan = \", arr_A - arr_B)\n",
    "print(\"Perkalian = \", arr_A * arr_B)\n",
    "print(\"Pembagian = \", arr_A / arr_B)\n",
    "print(\"Perpangkatan = \", arr_A ** arr_B)"
   ]
  },
  {
   "cell_type": "code",
   "execution_count": null,
   "id": "c274bbb0",
   "metadata": {},
   "outputs": [],
   "source": []
  },
  {
   "cell_type": "markdown",
   "id": "95045154",
   "metadata": {},
   "source": [
    "numpy mempunyai fungsi yang dapat digunakan pada array\n",
    "\n",
    "beberapa contoh fungsi statistik antara lain min(), max(), mean(), sum(), std()"
   ]
  },
  {
   "cell_type": "code",
   "execution_count": 52,
   "id": "2cbed7f6",
   "metadata": {},
   "outputs": [
    {
     "name": "stdout",
     "output_type": "stream",
     "text": [
      "Nilai minimal 1\n",
      "Nilai maksimal 5\n",
      "Nilai rata-rata 3.0\n",
      "Total minimal 15\n",
      "Standar Deviasi 1.4142135623730951\n"
     ]
    }
   ],
   "source": [
    "arrku = np.array([1,2,3,4,5])\n",
    "print(\"Nilai minimal\"  , arrku.min())\n",
    "print(\"Nilai maksimal\" , arrku.max())\n",
    "print(\"Nilai rata-rata\" , arrku.mean())\n",
    "print(\"Total minimal\" , arrku.sum())\n",
    "print(\"Standar Deviasi\" , arrku.std())"
   ]
  },
  {
   "cell_type": "code",
   "execution_count": null,
   "id": "2448d192",
   "metadata": {},
   "outputs": [],
   "source": []
  },
  {
   "cell_type": "markdown",
   "id": "0fe727f9",
   "metadata": {},
   "source": [
    "## Broadcasting\n",
    "\n",
    "broadcasting adalah mekanisme yang memungkinkan numpy untuk melakukan operasi aritmetika pada array yang berbeda shape"
   ]
  },
  {
   "cell_type": "code",
   "execution_count": 61,
   "id": "cebbc9ab",
   "metadata": {},
   "outputs": [
    {
     "data": {
      "text/plain": [
       "array([[0. , 0. ],\n",
       "       [3. , 1.5],\n",
       "       [6. , 3. ],\n",
       "       [9. , 4.5]])"
      ]
     },
     "execution_count": 61,
     "metadata": {},
     "output_type": "execute_result"
    }
   ],
   "source": [
    "e = np.array([[0],[3],[6],[9]])\n",
    "e / np.array([[1,2]])"
   ]
  },
  {
   "cell_type": "code",
   "execution_count": 62,
   "id": "1d1493b2",
   "metadata": {},
   "outputs": [
    {
     "data": {
      "text/plain": [
       "(4, 1)"
      ]
     },
     "execution_count": 62,
     "metadata": {},
     "output_type": "execute_result"
    }
   ],
   "source": [
    "e.shape"
   ]
  },
  {
   "cell_type": "code",
   "execution_count": 65,
   "id": "d5ab7e39",
   "metadata": {},
   "outputs": [
    {
     "data": {
      "text/plain": [
       "array([ 0,  1,  2,  3,  4,  5,  6,  7,  8,  9, 10])"
      ]
     },
     "execution_count": 65,
     "metadata": {},
     "output_type": "execute_result"
    }
   ],
   "source": [
    "#Setting a value with index range(Broadcasting)\n",
    "arr = np.arange(0, 11)\n",
    "arr"
   ]
  },
  {
   "cell_type": "code",
   "execution_count": 66,
   "id": "485d19ac",
   "metadata": {},
   "outputs": [
    {
     "data": {
      "text/plain": [
       "array([100, 100, 100, 100, 100, 100, 100,   7,   8,   9,  10])"
      ]
     },
     "execution_count": 66,
     "metadata": {},
     "output_type": "execute_result"
    }
   ],
   "source": [
    "arr[0:7] = 100\n",
    "arr"
   ]
  },
  {
   "cell_type": "code",
   "execution_count": 70,
   "id": "1d34a556",
   "metadata": {},
   "outputs": [
    {
     "data": {
      "text/plain": [
       "11"
      ]
     },
     "execution_count": 70,
     "metadata": {},
     "output_type": "execute_result"
    }
   ],
   "source": [
    "len(arr)"
   ]
  },
  {
   "cell_type": "code",
   "execution_count": 71,
   "id": "69464d0b",
   "metadata": {},
   "outputs": [
    {
     "data": {
      "text/plain": [
       "array([ 0,  1,  2,  3,  4,  5,  6,  7,  8,  9, 10])"
      ]
     },
     "execution_count": 71,
     "metadata": {},
     "output_type": "execute_result"
    }
   ],
   "source": [
    "arr"
   ]
  },
  {
   "cell_type": "code",
   "execution_count": 73,
   "id": "d3d0cf6f",
   "metadata": {},
   "outputs": [
    {
     "data": {
      "text/plain": [
       "array([0, 1, 2, 3, 4, 5])"
      ]
     },
     "execution_count": 73,
     "metadata": {},
     "output_type": "execute_result"
    }
   ],
   "source": [
    "#slice array\n",
    "slice_of_array = arr[0:6]\n",
    "slice_of_array"
   ]
  },
  {
   "cell_type": "code",
   "execution_count": 78,
   "id": "0419ad05",
   "metadata": {},
   "outputs": [
    {
     "data": {
      "text/plain": [
       "array([99, 99, 99, 99, 99, 99])"
      ]
     },
     "execution_count": 78,
     "metadata": {},
     "output_type": "execute_result"
    }
   ],
   "source": [
    "#change slice\n",
    "slice_of_array[:] = 99\n",
    "\n",
    "slice_of_array"
   ]
  },
  {
   "cell_type": "code",
   "execution_count": null,
   "id": "e89f42f3",
   "metadata": {},
   "outputs": [],
   "source": []
  },
  {
   "cell_type": "markdown",
   "id": "320cdf87",
   "metadata": {},
   "source": [
    "## indexing array 2D\n",
    "format is arr_2D [row][col] or arr_2D[row,col]"
   ]
  },
  {
   "cell_type": "code",
   "execution_count": 79,
   "id": "7969ad59",
   "metadata": {},
   "outputs": [
    {
     "data": {
      "text/plain": [
       "array([[ 5, 10, 15],\n",
       "       [20, 25, 30],\n",
       "       [30, 35, 40]])"
      ]
     },
     "execution_count": 79,
     "metadata": {},
     "output_type": "execute_result"
    }
   ],
   "source": [
    "arr_2D = np.array(([5,10,15], [20,25,30], [30,35,40]))\n",
    "\n",
    "#show\n",
    "arr_2D"
   ]
  },
  {
   "cell_type": "code",
   "execution_count": 80,
   "id": "a3d52ad2",
   "metadata": {},
   "outputs": [
    {
     "data": {
      "text/plain": [
       "array([20, 25, 30])"
      ]
     },
     "execution_count": 80,
     "metadata": {},
     "output_type": "execute_result"
    }
   ],
   "source": [
    "#indexing row\n",
    "arr_2D[1] #20,25,30"
   ]
  },
  {
   "cell_type": "code",
   "execution_count": 83,
   "id": "3eb36925",
   "metadata": {},
   "outputs": [
    {
     "data": {
      "text/plain": [
       "20"
      ]
     },
     "execution_count": 83,
     "metadata": {},
     "output_type": "execute_result"
    }
   ],
   "source": [
    "#getting individual element value\n",
    "arr_2D[1][0] #20"
   ]
  },
  {
   "cell_type": "code",
   "execution_count": 88,
   "id": "156f1552",
   "metadata": {},
   "outputs": [
    {
     "data": {
      "text/plain": [
       "array([10, 25])"
      ]
     },
     "execution_count": 88,
     "metadata": {},
     "output_type": "execute_result"
    }
   ],
   "source": [
    "#slicing\n",
    "arr_2D[:2,1]"
   ]
  },
  {
   "cell_type": "code",
   "execution_count": 89,
   "id": "891c51d7",
   "metadata": {},
   "outputs": [
    {
     "data": {
      "text/plain": [
       "array([[15],\n",
       "       [30]])"
      ]
     },
     "execution_count": 89,
     "metadata": {},
     "output_type": "execute_result"
    }
   ],
   "source": [
    "arr_2D[:2,2:]"
   ]
  },
  {
   "cell_type": "code",
   "execution_count": 90,
   "id": "4c62d333",
   "metadata": {},
   "outputs": [
    {
     "data": {
      "text/plain": [
       "array([30, 35, 40])"
      ]
     },
     "execution_count": 90,
     "metadata": {},
     "output_type": "execute_result"
    }
   ],
   "source": [
    "#shape bottom row\n",
    "arr_2D[2]"
   ]
  },
  {
   "cell_type": "code",
   "execution_count": null,
   "id": "da8e6a59",
   "metadata": {},
   "outputs": [],
   "source": []
  },
  {
   "cell_type": "markdown",
   "id": "bc185f65",
   "metadata": {},
   "source": [
    "## condtional Selection"
   ]
  },
  {
   "cell_type": "code",
   "execution_count": 93,
   "id": "be6a0938",
   "metadata": {},
   "outputs": [
    {
     "data": {
      "text/plain": [
       "array([ 1,  2,  3,  4,  5,  6,  7,  8,  9, 10])"
      ]
     },
     "execution_count": 93,
     "metadata": {},
     "output_type": "execute_result"
    }
   ],
   "source": [
    "arr = np.arange(1,11)\n",
    "\n",
    "arr"
   ]
  },
  {
   "cell_type": "code",
   "execution_count": 94,
   "id": "b79ee274",
   "metadata": {},
   "outputs": [
    {
     "data": {
      "text/plain": [
       "array([False, False, False, False,  True,  True,  True,  True,  True,\n",
       "        True])"
      ]
     },
     "execution_count": 94,
     "metadata": {},
     "output_type": "execute_result"
    }
   ],
   "source": [
    "arr > 4"
   ]
  },
  {
   "cell_type": "code",
   "execution_count": 95,
   "id": "7f10c641",
   "metadata": {},
   "outputs": [
    {
     "data": {
      "text/plain": [
       "array([False, False, False, False,  True,  True,  True,  True,  True,\n",
       "        True])"
      ]
     },
     "execution_count": 95,
     "metadata": {},
     "output_type": "execute_result"
    }
   ],
   "source": [
    "bool_arr = arr > 4\n",
    "bool_arr\n"
   ]
  },
  {
   "cell_type": "code",
   "execution_count": 96,
   "id": "fc960e77",
   "metadata": {},
   "outputs": [
    {
     "data": {
      "text/plain": [
       "array([ 5,  6,  7,  8,  9, 10])"
      ]
     },
     "execution_count": 96,
     "metadata": {},
     "output_type": "execute_result"
    }
   ],
   "source": [
    "arr[bool_arr] "
   ]
  },
  {
   "cell_type": "code",
   "execution_count": 97,
   "id": "20a6c219",
   "metadata": {},
   "outputs": [
    {
     "data": {
      "text/plain": [
       "array([ 5,  6,  7,  8,  9, 10])"
      ]
     },
     "execution_count": 97,
     "metadata": {},
     "output_type": "execute_result"
    }
   ],
   "source": [
    "arr[arr > 4]"
   ]
  },
  {
   "cell_type": "code",
   "execution_count": null,
   "id": "f4d72e72",
   "metadata": {},
   "outputs": [],
   "source": []
  }
 ],
 "metadata": {
  "kernelspec": {
   "display_name": "Python 3 (ipykernel)",
   "language": "python",
   "name": "python3"
  },
  "language_info": {
   "codemirror_mode": {
    "name": "ipython",
    "version": 3
   },
   "file_extension": ".py",
   "mimetype": "text/x-python",
   "name": "python",
   "nbconvert_exporter": "python",
   "pygments_lexer": "ipython3",
   "version": "3.9.7"
  }
 },
 "nbformat": 4,
 "nbformat_minor": 5
}
